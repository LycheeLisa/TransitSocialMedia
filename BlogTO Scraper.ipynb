{
 "cells": [
  {
   "cell_type": "code",
   "execution_count": 1,
   "metadata": {},
   "outputs": [
    {
     "name": "stdout",
     "output_type": "stream",
     "text": [
      "Requirement already satisfied: beautifulsoup4 in c:\\users\\raffles.h.koh\\appdata\\local\\continuum\\anaconda3\\lib\\site-packages (4.7.1)\n",
      "Requirement already satisfied: soupsieve>=1.2 in c:\\users\\raffles.h.koh\\appdata\\local\\continuum\\anaconda3\\lib\\site-packages (from beautifulsoup4) (1.8)\n",
      "Note: you may need to restart the kernel to use updated packages.\n"
     ]
    }
   ],
   "source": [
    "pip install beautifulsoup4"
   ]
  },
  {
   "cell_type": "code",
   "execution_count": 2,
   "metadata": {},
   "outputs": [
    {
     "name": "stdout",
     "output_type": "stream",
     "text": [
      "Requirement already satisfied: lxml in c:\\users\\raffles.h.koh\\appdata\\local\\continuum\\anaconda3\\lib\\site-packages (4.3.4)\n",
      "Note: you may need to restart the kernel to use updated packages.\n"
     ]
    }
   ],
   "source": [
    "pip install lxml"
   ]
  },
  {
   "cell_type": "code",
   "execution_count": 3,
   "metadata": {},
   "outputs": [
    {
     "name": "stdout",
     "output_type": "stream",
     "text": [
      "Requirement already satisfied: requests in c:\\users\\raffles.h.koh\\appdata\\local\\continuum\\anaconda3\\lib\\site-packages (2.22.0)\n",
      "Requirement already satisfied: urllib3!=1.25.0,!=1.25.1,<1.26,>=1.21.1 in c:\\users\\raffles.h.koh\\appdata\\local\\continuum\\anaconda3\\lib\\site-packages (from requests) (1.24.2)\n",
      "Requirement already satisfied: chardet<3.1.0,>=3.0.2 in c:\\users\\raffles.h.koh\\appdata\\local\\continuum\\anaconda3\\lib\\site-packages (from requests) (3.0.4)\n",
      "Requirement already satisfied: idna<2.9,>=2.5 in c:\\users\\raffles.h.koh\\appdata\\local\\continuum\\anaconda3\\lib\\site-packages (from requests) (2.8)\n",
      "Requirement already satisfied: certifi>=2017.4.17 in c:\\users\\raffles.h.koh\\appdata\\local\\continuum\\anaconda3\\lib\\site-packages (from requests) (2019.6.16)\n",
      "Note: you may need to restart the kernel to use updated packages.\n"
     ]
    }
   ],
   "source": [
    "pip install requests"
   ]
  },
  {
   "cell_type": "code",
   "execution_count": 4,
   "metadata": {},
   "outputs": [
    {
     "name": "stdout",
     "output_type": "stream",
     "text": [
      "Requirement already satisfied: scrapy in c:\\users\\raffles.h.koh\\appdata\\local\\continuum\\anaconda3\\lib\\site-packages (1.7.3)\n",
      "Requirement already satisfied: w3lib>=1.17.0 in c:\\users\\raffles.h.koh\\appdata\\local\\continuum\\anaconda3\\lib\\site-packages (from scrapy) (1.21.0)\n",
      "Requirement already satisfied: six>=1.5.2 in c:\\users\\raffles.h.koh\\appdata\\local\\continuum\\anaconda3\\lib\\site-packages (from scrapy) (1.12.0)\n",
      "Requirement already satisfied: queuelib in c:\\users\\raffles.h.koh\\appdata\\local\\continuum\\anaconda3\\lib\\site-packages (from scrapy) (1.5.0)\n",
      "Requirement already satisfied: lxml; python_version != \"3.4\" in c:\\users\\raffles.h.koh\\appdata\\local\\continuum\\anaconda3\\lib\\site-packages (from scrapy) (4.3.4)\n",
      "Requirement already satisfied: PyDispatcher>=2.0.5 in c:\\users\\raffles.h.koh\\appdata\\local\\continuum\\anaconda3\\lib\\site-packages (from scrapy) (2.0.5)\n",
      "Requirement already satisfied: parsel>=1.5 in c:\\users\\raffles.h.koh\\appdata\\local\\continuum\\anaconda3\\lib\\site-packages (from scrapy) (1.5.2)\n",
      "Requirement already satisfied: pyOpenSSL in c:\\users\\raffles.h.koh\\appdata\\local\\continuum\\anaconda3\\lib\\site-packages (from scrapy) (19.0.0)\n",
      "Requirement already satisfied: Twisted>=13.1.0; python_version != \"3.4\" in c:\\users\\raffles.h.koh\\appdata\\local\\continuum\\anaconda3\\lib\\site-packages (from scrapy) (19.7.0)\n",
      "Requirement already satisfied: service-identity in c:\\users\\raffles.h.koh\\appdata\\local\\continuum\\anaconda3\\lib\\site-packages (from scrapy) (18.1.0)\n",
      "Requirement already satisfied: cssselect>=0.9 in c:\\users\\raffles.h.koh\\appdata\\local\\continuum\\anaconda3\\lib\\site-packages (from scrapy) (1.1.0)\n",
      "Requirement already satisfied: cryptography>=2.3 in c:\\users\\raffles.h.koh\\appdata\\local\\continuum\\anaconda3\\lib\\site-packages (from pyOpenSSL->scrapy) (2.7)\n",
      "Requirement already satisfied: Automat>=0.3.0 in c:\\users\\raffles.h.koh\\appdata\\local\\continuum\\anaconda3\\lib\\site-packages (from Twisted>=13.1.0; python_version != \"3.4\"->scrapy) (0.7.0)\n",
      "Requirement already satisfied: incremental>=16.10.1 in c:\\users\\raffles.h.koh\\appdata\\local\\continuum\\anaconda3\\lib\\site-packages (from Twisted>=13.1.0; python_version != \"3.4\"->scrapy) (17.5.0)\n",
      "Requirement already satisfied: constantly>=15.1 in c:\\users\\raffles.h.koh\\appdata\\local\\continuum\\anaconda3\\lib\\site-packages (from Twisted>=13.1.0; python_version != \"3.4\"->scrapy) (15.1.0)\n",
      "Requirement already satisfied: attrs>=17.4.0 in c:\\users\\raffles.h.koh\\appdata\\local\\continuum\\anaconda3\\lib\\site-packages (from Twisted>=13.1.0; python_version != \"3.4\"->scrapy) (19.1.0)\n",
      "Requirement already satisfied: zope.interface>=4.4.2 in c:\\users\\raffles.h.koh\\appdata\\local\\continuum\\anaconda3\\lib\\site-packages (from Twisted>=13.1.0; python_version != \"3.4\"->scrapy) (4.6.0)\n",
      "Requirement already satisfied: PyHamcrest>=1.9.0 in c:\\users\\raffles.h.koh\\appdata\\local\\continuum\\anaconda3\\lib\\site-packages (from Twisted>=13.1.0; python_version != \"3.4\"->scrapy) (1.9.0)\n",
      "Requirement already satisfied: hyperlink>=17.1.1 in c:\\users\\raffles.h.koh\\appdata\\local\\continuum\\anaconda3\\lib\\site-packages (from Twisted>=13.1.0; python_version != \"3.4\"->scrapy) (19.0.0)\n",
      "Requirement already satisfied: pyasn1-modules in c:\\users\\raffles.h.koh\\appdata\\local\\continuum\\anaconda3\\lib\\site-packages (from service-identity->scrapy) (0.2.6)\n",
      "Requirement already satisfied: pyasn1 in c:\\users\\raffles.h.koh\\appdata\\local\\continuum\\anaconda3\\lib\\site-packages (from service-identity->scrapy) (0.4.7)\n",
      "Requirement already satisfied: asn1crypto>=0.21.0 in c:\\users\\raffles.h.koh\\appdata\\local\\continuum\\anaconda3\\lib\\site-packages (from cryptography>=2.3->pyOpenSSL->scrapy) (0.24.0)\n",
      "Requirement already satisfied: cffi!=1.11.3,>=1.8 in c:\\users\\raffles.h.koh\\appdata\\local\\continuum\\anaconda3\\lib\\site-packages (from cryptography>=2.3->pyOpenSSL->scrapy) (1.12.3)\n",
      "Requirement already satisfied: setuptools in c:\\users\\raffles.h.koh\\appdata\\local\\continuum\\anaconda3\\lib\\site-packages (from zope.interface>=4.4.2->Twisted>=13.1.0; python_version != \"3.4\"->scrapy) (41.0.1)\n",
      "Requirement already satisfied: idna>=2.5 in c:\\users\\raffles.h.koh\\appdata\\local\\continuum\\anaconda3\\lib\\site-packages (from hyperlink>=17.1.1->Twisted>=13.1.0; python_version != \"3.4\"->scrapy) (2.8)\n",
      "Requirement already satisfied: pycparser in c:\\users\\raffles.h.koh\\appdata\\local\\continuum\\anaconda3\\lib\\site-packages (from cffi!=1.11.3,>=1.8->cryptography>=2.3->pyOpenSSL->scrapy) (2.19)\n",
      "Note: you may need to restart the kernel to use updated packages.\n"
     ]
    }
   ],
   "source": [
    "pip install scrapy"
   ]
  },
  {
   "cell_type": "code",
   "execution_count": 1,
   "metadata": {},
   "outputs": [],
   "source": [
    "#Importing BeautifulSoup\n",
    "from bs4 import BeautifulSoup\n",
    "import requests\n",
    "import csv\n",
    "import scrapy\n",
    "import time\n",
    "from selenium import webdriver\n",
    "\n",
    "\n",
    "#Point the driver to BlogTO\n",
    "chrome_path = r\"C:\\Users\\raffles.h.koh\\Desktop\\PRESTO NLP\\Yelpscrape\\chromedriver.exe\"\n",
    "driver = webdriver.Chrome(chrome_path)\n",
    "driver.get(\"https://www.blogto.com/eat_drink/\")\n",
    "driver.find_element_by_xpath(\"\"\"//*[@id=\"root-featured-articles\"]/div/div[2]/div/button\"\"\").click()\n",
    "time.sleep(5)\n",
    "driver.find_element_by_xpath(\"\"\"//*[@id=\"root-featured-articles\"]/div/div[2]/div/button\"\"\").click()\n",
    "time.sleep(5)\n",
    "driver.find_element_by_xpath(\"\"\"//*[@id=\"root-featured-articles\"]/div/div[2]/div/button\"\"\").click()\n",
    "time.sleep(5)\n",
    "driver.find_element_by_xpath(\"\"\"//*[@id=\"root-featured-articles\"]/div/div[2]/div/button\"\"\").click()\n",
    "time.sleep(5)\n",
    "driver.find_element_by_xpath(\"\"\"//*[@id=\"root-featured-articles\"]/div/div[2]/div/button\"\"\").click()\n",
    "time.sleep(5)\n",
    "driver.find_element_by_xpath(\"\"\"//*[@id=\"root-featured-articles\"]/div/div[2]/div/button\"\"\").click()\n",
    "time.sleep(5)\n",
    "driver.find_element_by_xpath(\"\"\"//*[@id=\"root-featured-articles\"]/div/div[2]/div/button\"\"\").click()\n",
    "time.sleep(5)"
   ]
  },
  {
   "cell_type": "code",
   "execution_count": 22,
   "metadata": {},
   "outputs": [],
   "source": [
    "#Get source code from Page1\n",
    "source = requests.get('https://www.blogto.com/eat_drink/').text\n",
    "\n",
    "soup1 = BeautifulSoup(source, 'lxml')\n",
    "\n",
    "#Confirmed, response object returns from BeautifulSoup. \n"
   ]
  },
  {
   "cell_type": "code",
   "execution_count": 23,
   "metadata": {},
   "outputs": [
    {
     "data": {
      "text/plain": [
       "6"
      ]
     },
     "execution_count": 23,
     "metadata": {},
     "output_type": "execute_result"
    }
   ],
   "source": [
    "filename = \"BlogTO_mentions.csv\"\n",
    "f = open(filename, 'a+', encoding=\"utf-8\")\n",
    "headers = \"titles\"\n",
    "f.write(headers)"
   ]
  },
  {
   "cell_type": "code",
   "execution_count": 24,
   "metadata": {},
   "outputs": [],
   "source": [
    "#Print Article Titles}\n",
    "for div in soup1.find_all('div', class_='article-thumbnail-grid-item blogto-grid-item'):\n",
    "    article = div.find('span', class_='article-thumbnail-title-text highlighted-text').text.strip()\n",
    "    f.write('\\n')\n",
    "    f.write(article.replace(',',''))"
   ]
  },
  {
   "cell_type": "code",
   "execution_count": 25,
   "metadata": {},
   "outputs": [],
   "source": [
    "#Pull reviews\n",
    "for div in soup1.find_all('div', class_='listing-thumbnail-grid-item blogto-grid-item'):\n",
    "    review = div.find('span', class_='listing-thumbnail-title-text highlighted-text').text.strip()\n",
    "    f.write('\\n')\n",
    "    f.write(review)"
   ]
  },
  {
   "cell_type": "code",
   "execution_count": 26,
   "metadata": {},
   "outputs": [],
   "source": [
    "f.close()"
   ]
  },
  {
   "cell_type": "code",
   "execution_count": null,
   "metadata": {},
   "outputs": [],
   "source": []
  },
  {
   "cell_type": "code",
   "execution_count": null,
   "metadata": {},
   "outputs": [],
   "source": []
  },
  {
   "cell_type": "code",
   "execution_count": null,
   "metadata": {},
   "outputs": [],
   "source": []
  },
  {
   "cell_type": "code",
   "execution_count": null,
   "metadata": {},
   "outputs": [],
   "source": []
  },
  {
   "cell_type": "code",
   "execution_count": null,
   "metadata": {},
   "outputs": [],
   "source": []
  }
 ],
 "metadata": {
  "kernelspec": {
   "display_name": "Python 3",
   "language": "python",
   "name": "python3"
  },
  "language_info": {
   "codemirror_mode": {
    "name": "ipython",
    "version": 3
   },
   "file_extension": ".py",
   "mimetype": "text/x-python",
   "name": "python",
   "nbconvert_exporter": "python",
   "pygments_lexer": "ipython3",
   "version": "3.7.3"
  }
 },
 "nbformat": 4,
 "nbformat_minor": 2
}
