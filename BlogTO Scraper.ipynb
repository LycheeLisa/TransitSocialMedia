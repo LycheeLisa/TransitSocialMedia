{
 "cells": [
  {
   "cell_type": "markdown",
   "metadata": {},
   "source": [
    "# Manoochehr Akhlaghinia, Accenture-Montreal"
   ]
  },
  {
   "cell_type": "code",
   "execution_count": 1,
   "metadata": {},
   "outputs": [],
   "source": [
    "from bs4 import BeautifulSoup\n",
    "import requests\n",
    "from selenium import webdriver\n",
    "import pandas as pd"
   ]
  },
  {
   "cell_type": "code",
   "execution_count": 2,
   "metadata": {},
   "outputs": [],
   "source": [
    "def soup_loaded_articles(url,trials):\n",
    "    driver = webdriver.Chrome()\n",
    "    click=True\n",
    "    counter=0\n",
    "    while click==True:\n",
    "        try:\n",
    "            driver.get(url)\n",
    "            cross = driver.find_element_by_xpath(\"\"\"//*[@id=\"root-featured-articles\"]/div/div[2]/div/button\"\"\")\n",
    "            cross.click()\n",
    "            counter=counter+1\n",
    "            print(\"Click on Load More Articles : Trial {0}/{1}\".format(counter,trials))\n",
    "            if counter==trials:\n",
    "                break\n",
    "        except:\n",
    "            click=False\n",
    "    soup = BeautifulSoup(driver.page_source,'html.parser')\n",
    "    driver.close()\n",
    "    return soup"
   ]
  },
  {
   "cell_type": "code",
   "execution_count": 3,
   "metadata": {},
   "outputs": [],
   "source": [
    "def soup_loaded_reviews(url,trials):\n",
    "    driver = webdriver.Chrome()\n",
    "    click=True\n",
    "    counter=0\n",
    "    while click==True:\n",
    "        try:\n",
    "            driver.get(url)\n",
    "            cross = driver.find_element_by_xpath(\"\"\"//*[@id=\"root-latest-reviews\"]/div/div[2]/div/button\"\"\")\n",
    "            cross.click()\n",
    "            counter=counter+1\n",
    "            print(\"Click on Load More Reviews : Trial {0}/{1}\".format(counter,trials))\n",
    "            if counter==trials:\n",
    "                break\n",
    "        except:\n",
    "            click=False\n",
    "    soup = BeautifulSoup(driver.page_source,'html.parser')\n",
    "    driver.close()\n",
    "    return soup"
   ]
  },
  {
   "cell_type": "code",
   "execution_count": 4,
   "metadata": {},
   "outputs": [
    {
     "name": "stdout",
     "output_type": "stream",
     "text": [
      "Click on Load More Articles : Trial 1/30\n",
      "Click on Load More Articles : Trial 2/30\n",
      "Click on Load More Articles : Trial 3/30\n",
      "Click on Load More Articles : Trial 4/30\n",
      "Click on Load More Articles : Trial 5/30\n",
      "Click on Load More Articles : Trial 6/30\n",
      "Click on Load More Articles : Trial 7/30\n",
      "Click on Load More Articles : Trial 8/30\n",
      "Click on Load More Articles : Trial 9/30\n",
      "Click on Load More Articles : Trial 10/30\n",
      "Click on Load More Articles : Trial 11/30\n",
      "Click on Load More Articles : Trial 12/30\n",
      "Click on Load More Articles : Trial 13/30\n",
      "Click on Load More Articles : Trial 14/30\n",
      "Click on Load More Articles : Trial 15/30\n",
      "Click on Load More Articles : Trial 16/30\n",
      "Click on Load More Articles : Trial 17/30\n",
      "Click on Load More Articles : Trial 18/30\n",
      "Click on Load More Articles : Trial 19/30\n",
      "Click on Load More Articles : Trial 20/30\n",
      "Click on Load More Articles : Trial 21/30\n",
      "Click on Load More Articles : Trial 22/30\n",
      "Click on Load More Articles : Trial 23/30\n",
      "Click on Load More Articles : Trial 24/30\n",
      "Click on Load More Articles : Trial 25/30\n",
      "Click on Load More Articles : Trial 26/30\n",
      "Click on Load More Articles : Trial 27/30\n",
      "Click on Load More Articles : Trial 28/30\n",
      "Click on Load More Articles : Trial 29/30\n",
      "Click on Load More Articles : Trial 30/30\n",
      "Click on Load More Reviews : Trial 1/30\n",
      "Click on Load More Reviews : Trial 2/30\n",
      "Click on Load More Reviews : Trial 3/30\n",
      "Click on Load More Reviews : Trial 4/30\n",
      "Click on Load More Reviews : Trial 5/30\n",
      "Click on Load More Reviews : Trial 6/30\n",
      "Click on Load More Reviews : Trial 7/30\n",
      "Click on Load More Reviews : Trial 8/30\n",
      "Click on Load More Reviews : Trial 9/30\n",
      "Click on Load More Reviews : Trial 10/30\n",
      "Click on Load More Reviews : Trial 11/30\n",
      "Click on Load More Reviews : Trial 12/30\n",
      "Click on Load More Reviews : Trial 13/30\n",
      "Click on Load More Reviews : Trial 14/30\n",
      "Click on Load More Reviews : Trial 15/30\n",
      "Click on Load More Reviews : Trial 16/30\n",
      "Click on Load More Reviews : Trial 17/30\n",
      "Click on Load More Reviews : Trial 18/30\n",
      "Click on Load More Reviews : Trial 19/30\n",
      "Click on Load More Reviews : Trial 20/30\n",
      "Click on Load More Reviews : Trial 21/30\n",
      "Click on Load More Reviews : Trial 22/30\n",
      "Click on Load More Reviews : Trial 23/30\n",
      "Click on Load More Reviews : Trial 24/30\n",
      "Click on Load More Reviews : Trial 25/30\n",
      "Click on Load More Reviews : Trial 26/30\n",
      "Click on Load More Reviews : Trial 27/30\n",
      "Click on Load More Reviews : Trial 28/30\n",
      "Click on Load More Reviews : Trial 29/30\n",
      "Click on Load More Reviews : Trial 30/30\n"
     ]
    }
   ],
   "source": [
    "trials=30\n",
    "soup_articles=soup_loaded_articles('https://www.blogto.com/eat_drink/',trials=trials)\n",
    "soup_reviews=soup_loaded_reviews('https://www.blogto.com/eat_drink/',trials=trials)"
   ]
  },
  {
   "cell_type": "code",
   "execution_count": 5,
   "metadata": {},
   "outputs": [],
   "source": [
    "soup_articles=soup_articles.find_all(\"p\",{\"article-thumbnail-title\"})\n",
    "soup_reviews=soup_reviews.find_all(\"p\",{\"listing-thumbnail-title\"})"
   ]
  },
  {
   "cell_type": "code",
   "execution_count": 6,
   "metadata": {},
   "outputs": [],
   "source": [
    "mention_list=list()\n",
    "for piece in soup_articles:\n",
    "    mention_list.append(piece.span.get_text().strip())\n",
    "for piece in soup_reviews:\n",
    "    mention_list.append(piece.span.get_text().strip())"
   ]
  },
  {
   "cell_type": "code",
   "execution_count": 7,
   "metadata": {},
   "outputs": [],
   "source": [
    "BlogTO=pd.DataFrame(columns=[\"titles\"])\n",
    "BlogTO[\"titles\"]=mention_list"
   ]
  },
  {
   "cell_type": "code",
   "execution_count": 8,
   "metadata": {},
   "outputs": [
    {
     "data": {
      "text/html": [
       "<div>\n",
       "<style scoped>\n",
       "    .dataframe tbody tr th:only-of-type {\n",
       "        vertical-align: middle;\n",
       "    }\n",
       "\n",
       "    .dataframe tbody tr th {\n",
       "        vertical-align: top;\n",
       "    }\n",
       "\n",
       "    .dataframe thead th {\n",
       "        text-align: right;\n",
       "    }\n",
       "</style>\n",
       "<table border=\"1\" class=\"dataframe\">\n",
       "  <thead>\n",
       "    <tr style=\"text-align: right;\">\n",
       "      <th></th>\n",
       "      <th>titles</th>\n",
       "    </tr>\n",
       "  </thead>\n",
       "  <tbody>\n",
       "    <tr>\n",
       "      <td>0</td>\n",
       "      <td>Popular underground bar is closing after 12 ye...</td>\n",
       "    </tr>\n",
       "    <tr>\n",
       "      <td>1</td>\n",
       "      <td>10 great restaurants for Sunday brunch in Toronto</td>\n",
       "    </tr>\n",
       "    <tr>\n",
       "      <td>2</td>\n",
       "      <td>Toronto to become one of fourteen Good Food Ci...</td>\n",
       "    </tr>\n",
       "    <tr>\n",
       "      <td>3</td>\n",
       "      <td>Toronto Restaurant Openings: YGO Lab, Chiang R...</td>\n",
       "    </tr>\n",
       "    <tr>\n",
       "      <td>4</td>\n",
       "      <td>Soufi's announces they're reopening their Toro...</td>\n",
       "    </tr>\n",
       "    <tr>\n",
       "      <td>...</td>\n",
       "      <td>...</td>\n",
       "    </tr>\n",
       "    <tr>\n",
       "      <td>419</td>\n",
       "      <td>Market 63</td>\n",
       "    </tr>\n",
       "    <tr>\n",
       "      <td>420</td>\n",
       "      <td>Bauzza Bauzza</td>\n",
       "    </tr>\n",
       "    <tr>\n",
       "      <td>421</td>\n",
       "      <td>Mos Mos on Bay</td>\n",
       "    </tr>\n",
       "    <tr>\n",
       "      <td>422</td>\n",
       "      <td>SOS Pasta</td>\n",
       "    </tr>\n",
       "    <tr>\n",
       "      <td>423</td>\n",
       "      <td>Allwyn's Bakery on Queen</td>\n",
       "    </tr>\n",
       "  </tbody>\n",
       "</table>\n",
       "<p>424 rows × 1 columns</p>\n",
       "</div>"
      ],
      "text/plain": [
       "                                                titles\n",
       "0    Popular underground bar is closing after 12 ye...\n",
       "1    10 great restaurants for Sunday brunch in Toronto\n",
       "2    Toronto to become one of fourteen Good Food Ci...\n",
       "3    Toronto Restaurant Openings: YGO Lab, Chiang R...\n",
       "4    Soufi's announces they're reopening their Toro...\n",
       "..                                                 ...\n",
       "419                                          Market 63\n",
       "420                                      Bauzza Bauzza\n",
       "421                                     Mos Mos on Bay\n",
       "422                                          SOS Pasta\n",
       "423                           Allwyn's Bakery on Queen\n",
       "\n",
       "[424 rows x 1 columns]"
      ]
     },
     "execution_count": 8,
     "metadata": {},
     "output_type": "execute_result"
    }
   ],
   "source": [
    "BlogTO"
   ]
  },
  {
   "cell_type": "code",
   "execution_count": 9,
   "metadata": {},
   "outputs": [],
   "source": [
    "BlogTO.to_csv(\"BlogTO_mentions.csv\",index=False)"
   ]
  }
 ],
 "metadata": {
  "kernelspec": {
   "display_name": "Python 3",
   "language": "python",
   "name": "python3"
  },
  "language_info": {
   "codemirror_mode": {
    "name": "ipython",
    "version": 3
   },
   "file_extension": ".py",
   "mimetype": "text/x-python",
   "name": "python",
   "nbconvert_exporter": "python",
   "pygments_lexer": "ipython3",
   "version": "3.7.3"
  }
 },
 "nbformat": 4,
 "nbformat_minor": 2
}
