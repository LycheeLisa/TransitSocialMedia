{
 "cells": [
  {
   "cell_type": "code",
   "execution_count": 3,
   "metadata": {},
   "outputs": [
    {
     "ename": "NameError",
     "evalue": "name 'tweepy' is not defined",
     "output_type": "error",
     "traceback": [
      "\u001b[1;31m---------------------------------------------------------------------------\u001b[0m",
      "\u001b[1;31mNameError\u001b[0m                                 Traceback (most recent call last)",
      "\u001b[1;32m<ipython-input-3-97417a13fc3f>\u001b[0m in \u001b[0;36m<module>\u001b[1;34m\u001b[0m\n\u001b[0;32m      8\u001b[0m \u001b[0maccessTokenSecret\u001b[0m \u001b[1;33m=\u001b[0m \u001b[1;34m\"AMxViGZ25ErpZS7742pof73LhNFWmnWEwja5uv9QmKUk0\"\u001b[0m\u001b[1;33m\u001b[0m\u001b[1;33m\u001b[0m\u001b[0m\n\u001b[0;32m      9\u001b[0m \u001b[1;33m\u001b[0m\u001b[0m\n\u001b[1;32m---> 10\u001b[1;33m \u001b[0mauth\u001b[0m \u001b[1;33m=\u001b[0m \u001b[0mtweepy\u001b[0m\u001b[1;33m.\u001b[0m\u001b[0mOAuthHandler\u001b[0m\u001b[1;33m(\u001b[0m\u001b[0mconsumerKey\u001b[0m\u001b[1;33m,\u001b[0m \u001b[0mconsumerSecret\u001b[0m\u001b[1;33m)\u001b[0m\u001b[1;33m\u001b[0m\u001b[1;33m\u001b[0m\u001b[0m\n\u001b[0m\u001b[0;32m     11\u001b[0m \u001b[0mauth\u001b[0m\u001b[1;33m.\u001b[0m\u001b[0mset_access_token\u001b[0m\u001b[1;33m(\u001b[0m\u001b[0maccessToken\u001b[0m\u001b[1;33m,\u001b[0m \u001b[0maccessTokenSecret\u001b[0m\u001b[1;33m)\u001b[0m\u001b[1;33m\u001b[0m\u001b[1;33m\u001b[0m\u001b[0m\n\u001b[0;32m     12\u001b[0m \u001b[1;33m\u001b[0m\u001b[0m\n",
      "\u001b[1;31mNameError\u001b[0m: name 'tweepy' is not defined"
     ]
    }
   ],
   "source": [
    "\n",
    "import datetime\n",
    "import sys \n",
    "import GetOldTweets3 as got\n",
    "\n",
    "consumerKey = \"Jau67IONLN7rWmGj6aNBiVzCm\"\n",
    "consumerSecret = \"xccUsCWFpRSrVFZSFFAz6zaT41VguFeTU6BKBrhFSmjkLSTSQj\"\n",
    "accessToken = \"1174000359108501505-t7RPGBp3gAEt0ru2dBxJRopJaDopXg\"\n",
    "accessTokenSecret = \"AMxViGZ25ErpZS7742pof73LhNFWmnWEwja5uv9QmKUk0\"\n",
    "\n",
    "auth = tweepy.OAuthHandler(consumerKey, consumerSecret)\n",
    "auth.set_access_token(accessToken, accessTokenSecret)\n",
    "\n",
    "api = tweepy.API(auth)"
   ]
  },
  {
   "cell_type": "code",
   "execution_count": null,
   "metadata": {},
   "outputs": [],
   "source": [
    "def get_tweet_info(tweet):\n",
    "    topics_dict = { \"body\":[], \n",
    "                    \"username\":[], \n",
    "                    \"retweet\":[], \n",
    "                    \"favourite\":[], \n",
    "                    \"date\": [], \n",
    "                    \"geo\": [], \n",
    "                    \"mentions\":[],\n",
    "                    \"hashtags\":[]}\n",
    "    \n",
    "    \n",
    "    for i in range(0, len(tweet)):\n",
    "        tweet_subset = tweet[i]\n",
    "        topics_dict[\"body\"].append(tweet_subset.text)\n",
    "        topics_dict[\"username\"].append(tweet_subset.username)\n",
    "        topics_dict[\"retweet\"].append(tweet_subset.retweets)\n",
    "        topics_dict[\"favourite\"].append(tweet_subset.favorites)\n",
    "        topics_dict[\"date\"].append(tweet_subset.date)\n",
    "        topics_dict[\"geo\"].append(tweet_subset.geo)\n",
    "        topics_dict[\"mentions\"].append(tweet_subset.mentions)\n",
    "        topics_dict[\"hashtags\"].append(tweet_subset.hashtags)\n",
    "    \n",
    "        print (i)\n",
    "    \n",
    "    return pd.DataFrame(topics_dict)"
   ]
  },
  {
   "cell_type": "code",
   "execution_count": null,
   "metadata": {},
   "outputs": [],
   "source": [
    "search_terms = ['gotransit','metrolinx','presto card', 'ttc']\n",
    "final_df = pd.DataFrame()\n",
    "\n",
    "for term in search_terms:\n",
    "    tweetCriteria = got.manager.TweetCriteria().setQuerySearch(term)\\\n",
    "                                               .setSince(\"2019-01-01\")\\\n",
    "                                               .setUntil(\"2019-09-20\")\\\n",
    "                                               .setMaxTweets(100000)\n",
    "\n",
    "\n",
    "    tweet = got.manager.TweetManager.getTweets(tweetCriteria)\n",
    "    final_df = pd.concat([final_df,get_tweet_info(tweet)])\n"
   ]
  },
  {
   "cell_type": "code",
   "execution_count": null,
   "metadata": {},
   "outputs": [],
   "source": [
    "final_df.to_csv('twitter_raw_data.csv', index = False)"
   ]
  }
 ],
 "metadata": {
  "kernelspec": {
   "display_name": "Python 3",
   "language": "python",
   "name": "python3"
  },
  "language_info": {
   "codemirror_mode": {
    "name": "ipython",
    "version": 3
   },
   "file_extension": ".py",
   "mimetype": "text/x-python",
   "name": "python",
   "nbconvert_exporter": "python",
   "pygments_lexer": "ipython3",
   "version": "3.7.3"
  }
 },
 "nbformat": 4,
 "nbformat_minor": 2
}
