{
 "cells": [
  {
   "cell_type": "code",
   "execution_count": null,
   "metadata": {},
   "outputs": [],
   "source": [
    "import tweepy \n",
    "import datetime\n",
    "import sys \n",
    "import GetOldTweets3 as got\n",
    "import pandas as pd\n",
    "\n",
    "consumerKey = \"Jau67IONLN7rWmGj6aNBiVzCm\"\n",
    "consumerSecret = \"xccUsCWFpRSrVFZSFFAz6zaT41VguFeTU6BKBrhFSmjkLSTSQj\"\n",
    "accessToken = \"1174000359108501505-t7RPGBp3gAEt0ru2dBxJRopJaDopXg\"\n",
    "accessTokenSecret = \"AMxViGZ25ErpZS7742pof73LhNFWmnWEwja5uv9QmKUk0\"\n",
    "\n",
    "auth = tweepy.OAuthHandler(consumerKey, consumerSecret)\n",
    "auth.set_access_token(accessToken, accessTokenSecret)\n",
    "\n",
    "api = tweepy.API(auth)"
   ]
  },
  {
   "cell_type": "code",
   "execution_count": null,
   "metadata": {},
   "outputs": [],
   "source": [
    "def get_tweet_info(tweet):\n",
    "    topics_dict = { \"body\":[], \n",
    "                    \"username\":[], \n",
    "                    \"retweet\":[], \n",
    "                    \"favourite\":[], \n",
    "                    \"date\": [], \n",
    "                    \"geo\": [], \n",
    "                    \"mentions\":[],\n",
    "                    \"hashtags\":[]}\n",
    "    \n",
    "    \n",
    "    for i in range(0, len(tweet)):\n",
    "        tweet_subset = tweet[i]\n",
    "        topics_dict[\"body\"].append(tweet_subset.text)\n",
    "        topics_dict[\"username\"].append(tweet_subset.username)\n",
    "        topics_dict[\"retweet\"].append(tweet_subset.retweets)\n",
    "        topics_dict[\"favourite\"].append(tweet_subset.favorites)\n",
    "        topics_dict[\"date\"].append(tweet_subset.date)\n",
    "        topics_dict[\"geo\"].append(tweet_subset.geo)\n",
    "        topics_dict[\"mentions\"].append(tweet_subset.mentions)\n",
    "        topics_dict[\"hashtags\"].append(tweet_subset.hashtags)\n",
    "    \n",
    "        print (i)\n",
    "    \n",
    "    return pd.DataFrame(topics_dict)"
   ]
  },
  {
   "cell_type": "code",
   "execution_count": null,
   "metadata": {},
   "outputs": [],
   "source": [
    "search_terms = ['gotransit','metrolinx','presto card', 'ttc']\n",
    "final_df = pd.DataFrame()\n",
    "\n",
    "for term in search_terms:\n",
    "    tweetCriteria = got.manager.TweetCriteria().setQuerySearch(term)\\\n",
    "                                               .setSince(\"2019-01-01\")\\\n",
    "                                               .setUntil(\"2019-09-20\")\\\n",
    "                                               .setMaxTweets(100000)\n",
    "\n",
    "\n",
    "    tweet = got.manager.TweetManager.getTweets(tweetCriteria)\n",
    "    final_df = pd.concat([final_df,get_tweet_info(tweet)])\n"
   ]
  },
  {
   "cell_type": "code",
   "execution_count": null,
   "metadata": {},
   "outputs": [],
   "source": [
    "# final_df.to_csv('twitter_raw_data.csv', index = False)"
   ]
  },
  {
   "cell_type": "code",
   "execution_count": null,
   "metadata": {},
   "outputs": [],
   "source": []
  }
 ],
 "metadata": {
  "kernelspec": {
   "display_name": "Python 3",
   "language": "python",
   "name": "python3"
  },
  "language_info": {
   "codemirror_mode": {
    "name": "ipython",
    "version": 3
   },
   "file_extension": ".py",
   "mimetype": "text/x-python",
   "name": "python",
   "nbconvert_exporter": "python",
   "pygments_lexer": "ipython3",
   "version": "3.7.4"
  }
 },
 "nbformat": 4,
 "nbformat_minor": 2
}
