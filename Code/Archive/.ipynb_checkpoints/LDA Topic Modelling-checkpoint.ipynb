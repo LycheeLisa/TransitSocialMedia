{
 "cells": [
  {
   "cell_type": "code",
   "execution_count": 1,
   "metadata": {},
   "outputs": [
    {
     "ename": "ModuleNotFoundError",
     "evalue": "No module named 'spacy'",
     "output_type": "error",
     "traceback": [
      "\u001b[1;31m---------------------------------------------------------------------------\u001b[0m",
      "\u001b[1;31mModuleNotFoundError\u001b[0m                       Traceback (most recent call last)",
      "\u001b[1;32m<ipython-input-1-07941d19a8f1>\u001b[0m in \u001b[0;36m<module>\u001b[1;34m\u001b[0m\n\u001b[0;32m      1\u001b[0m \u001b[1;32mimport\u001b[0m \u001b[0mpandas\u001b[0m \u001b[1;32mas\u001b[0m \u001b[0mpd\u001b[0m\u001b[1;33m\u001b[0m\u001b[1;33m\u001b[0m\u001b[0m\n\u001b[1;32m----> 2\u001b[1;33m \u001b[1;32mimport\u001b[0m \u001b[0mspacy\u001b[0m\u001b[1;33m\u001b[0m\u001b[1;33m\u001b[0m\u001b[0m\n\u001b[0m\u001b[0;32m      3\u001b[0m \u001b[1;32mfrom\u001b[0m \u001b[0mspacy\u001b[0m\u001b[1;33m.\u001b[0m\u001b[0mlang\u001b[0m\u001b[1;33m.\u001b[0m\u001b[0men\u001b[0m \u001b[1;32mimport\u001b[0m \u001b[0mEnglish\u001b[0m\u001b[1;33m\u001b[0m\u001b[1;33m\u001b[0m\u001b[0m\n\u001b[0;32m      4\u001b[0m \u001b[1;32mfrom\u001b[0m \u001b[0mnltk\u001b[0m\u001b[1;33m.\u001b[0m\u001b[0mtokenize\u001b[0m \u001b[1;32mimport\u001b[0m \u001b[0mword_tokenize\u001b[0m\u001b[1;33m\u001b[0m\u001b[1;33m\u001b[0m\u001b[0m\n\u001b[0;32m      5\u001b[0m \u001b[1;32mfrom\u001b[0m \u001b[0mnltk\u001b[0m\u001b[1;33m.\u001b[0m\u001b[0mstem\u001b[0m \u001b[1;32mimport\u001b[0m \u001b[0mWordNetLemmatizer\u001b[0m\u001b[1;33m\u001b[0m\u001b[1;33m\u001b[0m\u001b[0m\n",
      "\u001b[1;31mModuleNotFoundError\u001b[0m: No module named 'spacy'"
     ]
    }
   ],
   "source": [
    "import pandas as pd\n",
    "import spacy\n",
    "from spacy.lang.en import English\n",
    "from nltk.tokenize import word_tokenize\n",
    "from nltk.stem import WordNetLemmatizer\n",
    "from nltk.tokenize import word_tokenize\n",
    "from nltk.corpus import wordnet\n",
    "import nltk\n",
    "import re\n",
    "import gensim\n",
    "from gensim import corpora\n",
    "import pickle\n",
    "from collections import OrderedDict\n",
    "import pyLDAvis.gensim\n",
    "from gensim.models import CoherenceModel\n",
    "import matplotlib.pyplot as plt\n",
    "\n",
    "nlp = spacy.load('en_core_web_sm')\n",
    "lemmatizer=WordNetLemmatizer()\n",
    "\n",
    "### Load updated stop words list\n",
    "stop_words = pd.read_csv(r'..\\Data\\stop_words.csv')\n",
    "stop_words = set(stop_words['stop_words']) \n",
    "\n",
    "### Load station names list\n",
    "station_names = pd.read_csv(r'..\\Data\\station_names.csv')\n",
    "station = re.compile('|'.join(map(re.escape, station_names['Station'].str.lower())))\n",
    "\n",
    "photo_names = ['svg','png','jpeg','jpg', 'photo','pictures','picture','photos']\n",
    "photo = re.compile('|'.join(map(re.escape, photo_names)))\n",
    "\n",
    "### ================================ Function ================================\n",
    "\n",
    "def flatten(x):\n",
    "    \"\"\"\n",
    "    Function to flatten out nested list\n",
    "    \n",
    "    Parameters:\n",
    "    ----------\n",
    "    x : nested list\n",
    "    \n",
    "    Return:\n",
    "    ----------\n",
    "    [list elements removed from nested list]\n",
    "    \"\"\"\n",
    "    result = []\n",
    "    for el in x:\n",
    "        if hasattr(el, \"__iter__\") and not isinstance(el, str):\n",
    "            result.extend(flatten(el))\n",
    "        else:\n",
    "            result.append(el)\n",
    "    return result\n",
    "\n",
    "\n",
    "def get_keywords(text):\n",
    "    \"\"\"\n",
    "    Function to extract chunks of key nouns and verbs\n",
    "    \n",
    "    Parameters:\n",
    "    ----------\n",
    "    text : comment string\n",
    "    \n",
    "    Return:\n",
    "    ----------\n",
    "    [list of unigram keywords ]\n",
    "    \"\"\"\n",
    "    main_phrases = []\n",
    "    for chunk in text.noun_chunks:\n",
    "        if chunk.root.dep_ == 'nsubj' or chunk.root.dep_ == 'dobj' or chunk.root.dep_ == 'pobj': \n",
    "            main_phrases.append(chunk.lemma_)\n",
    "    for word in text:\n",
    "        if word.pos_ == 'VERB':\n",
    "            main_phrases.append(word.lemma_)\n",
    "    final_phrases = flatten([i.split(' ') for i in main_phrases])\n",
    "    return [w for w in final_phrases if w not in stop_words and '-PRON-' not in w]\n",
    "\n",
    "def tokenize(text):\n",
    "    \"\"\"\n",
    "    Function to pre-process string \n",
    "    \n",
    "    Parameters:\n",
    "    ----------\n",
    "    text : comment string\n",
    "    Return:\n",
    "    ----------\n",
    "    [processed string, [list of keywords]]\n",
    "    \"\"\"\n",
    "    ### 1. Masking common strings\n",
    "    if 'https://' in text:\n",
    "        text = re.sub(r'(https|http)?:\\/\\/(\\w|\\.|\\/|\\?|\\=|\\&|\\%)*\\b', 'urllink', text, flags=re.MULTILINE)\n",
    "    processed_text = re.sub('[^A-Za-z]+', ' ', text).lower()\n",
    "    processed_text = station.sub(\"ttcstation\", processed_text)\n",
    "    processed_text = photo.sub(\"photo\", processed_text)\n",
    "    ### 2. Get Lemma and conduct POS tagging\n",
    "    input_str=nlp(processed_text)\n",
    "    lemma_str = [token.lemma_ for token in input_str]\n",
    "    filtered_str = ' '.join([w for w in lemma_str if not w in stop_words])\n",
    "    return [filtered_str, get_keywords(input_str)]\n",
    "           "
   ]
  },
  {
   "cell_type": "code",
   "execution_count": 2,
   "metadata": {},
   "outputs": [
    {
     "data": {
      "text/plain": [
       "Index(['title', 'score', 'id', 'url', 'comms_num', 'created', 'body',\n",
       "       'subreddit', 'Presto_label', 'keywords'],\n",
       "      dtype='object')"
      ]
     },
     "execution_count": 2,
     "metadata": {},
     "output_type": "execute_result"
    }
   ],
   "source": [
    "reddit_df = pd.read_csv(r'..\\Data\\reddit_data_raw.csv')\n",
    "reddit_df.columns"
   ]
  },
  {
   "cell_type": "code",
   "execution_count": 3,
   "metadata": {},
   "outputs": [],
   "source": [
    "processed_list = reddit_df['body'].apply(lambda x: tokenize(x))\n",
    "\n",
    "text_data = [i[1] for i in processed_list]\n"
   ]
  },
  {
   "cell_type": "code",
   "execution_count": 35,
   "metadata": {},
   "outputs": [],
   "source": [
    "dictionary = corpora.Dictionary(text_data)\n",
    "corpus = [dictionary.doc2bow(text) for text in text_data]\n",
    "pickle.dump(corpus, open('corpus.pkl', 'wb'))"
   ]
  },
  {
   "cell_type": "code",
   "execution_count": null,
   "metadata": {},
   "outputs": [],
   "source": [
    "def compute_coherence_values(dictionary, corpus, texts, limit, start=2, step=1):\n",
    "    \"\"\"\n",
    "    Compute c_v coherence for various number of topics\n",
    "\n",
    "    Parameters:\n",
    "    ----------\n",
    "    dictionary : Gensim dictionary\n",
    "    corpus : Gensim corpus\n",
    "    texts : List of input texts\n",
    "    limit : Max num of topics\n",
    "\n",
    "    Returns:\n",
    "    -------\n",
    "    model_list : List of LDA topic models\n",
    "    coherence_values : Coherence values corresponding to the LDA model with respective number of topics\n",
    "    \"\"\"\n",
    "    coherence_values = []\n",
    "    model_list = []\n",
    "    for num_topics in range(start, limit, step):\n",
    "        model = gensim.models.ldamodel.LdaModel(corpus, num_topics = num_topics, id2word=dictionary, passes=15)\n",
    "        model_list.append(model)\n",
    "        coherencemodel = CoherenceModel(model=model, texts=texts, dictionary=dictionary, coherence='c_v')\n",
    "        coherence_values.append(coherencemodel.get_coherence())\n",
    "\n",
    "    return model_list, coherence_values\n",
    "\n",
    "model_list, coherence_values = compute_coherence_values(dictionary=dictionary, corpus=corpus, texts=text_data, start=2, limit=40, step=6)\n",
    "\n",
    "# Show graph\n",
    "limit=40; start=2; step=6;\n",
    "x = range(start, limit, step)\n",
    "plt.plot(x, coherence_values)\n",
    "plt.xlabel(\"Num Topics\")\n",
    "plt.ylabel(\"Coherence score\")\n",
    "plt.legend((\"coherence_values\"), loc='best')\n",
    "plt.show()"
   ]
  },
  {
   "cell_type": "code",
   "execution_count": 20,
   "metadata": {},
   "outputs": [
    {
     "ename": "KeyboardInterrupt",
     "evalue": "",
     "output_type": "error",
     "traceback": [
      "\u001b[1;31m---------------------------------------------------------------------------\u001b[0m",
      "\u001b[1;31mKeyboardInterrupt\u001b[0m                         Traceback (most recent call last)",
      "\u001b[1;32m<ipython-input-20-457be35a7c5a>\u001b[0m in \u001b[0;36m<module>\u001b[1;34m()\u001b[0m\n\u001b[1;32m----> 1\u001b[1;33m \u001b[0mmodel_list\u001b[0m\u001b[1;33m,\u001b[0m \u001b[0mcoherence_values\u001b[0m \u001b[1;33m=\u001b[0m \u001b[0mcompute_coherence_values\u001b[0m\u001b[1;33m(\u001b[0m\u001b[0mdictionary\u001b[0m\u001b[1;33m=\u001b[0m\u001b[0mdictionary\u001b[0m\u001b[1;33m,\u001b[0m \u001b[0mcorpus\u001b[0m\u001b[1;33m=\u001b[0m\u001b[0mcorpus\u001b[0m\u001b[1;33m,\u001b[0m \u001b[0mtexts\u001b[0m\u001b[1;33m=\u001b[0m\u001b[0mtext_data\u001b[0m\u001b[1;33m,\u001b[0m \u001b[0mstart\u001b[0m\u001b[1;33m=\u001b[0m\u001b[1;36m2\u001b[0m\u001b[1;33m,\u001b[0m \u001b[0mlimit\u001b[0m\u001b[1;33m=\u001b[0m\u001b[1;36m40\u001b[0m\u001b[1;33m,\u001b[0m \u001b[0mstep\u001b[0m\u001b[1;33m=\u001b[0m\u001b[1;36m6\u001b[0m\u001b[1;33m)\u001b[0m\u001b[1;33m\u001b[0m\u001b[1;33m\u001b[0m\u001b[0m\n\u001b[0m\u001b[0;32m      2\u001b[0m \u001b[1;33m\u001b[0m\u001b[0m\n\u001b[0;32m      3\u001b[0m \u001b[1;31m# Show graph\u001b[0m\u001b[1;33m\u001b[0m\u001b[1;33m\u001b[0m\u001b[1;33m\u001b[0m\u001b[0m\n\u001b[0;32m      4\u001b[0m \u001b[0mlimit\u001b[0m\u001b[1;33m=\u001b[0m\u001b[1;36m40\u001b[0m\u001b[1;33m;\u001b[0m \u001b[0mstart\u001b[0m\u001b[1;33m=\u001b[0m\u001b[1;36m2\u001b[0m\u001b[1;33m;\u001b[0m \u001b[0mstep\u001b[0m\u001b[1;33m=\u001b[0m\u001b[1;36m6\u001b[0m\u001b[1;33m;\u001b[0m\u001b[1;33m\u001b[0m\u001b[1;33m\u001b[0m\u001b[0m\n\u001b[0;32m      5\u001b[0m \u001b[0mx\u001b[0m \u001b[1;33m=\u001b[0m \u001b[0mrange\u001b[0m\u001b[1;33m(\u001b[0m\u001b[0mstart\u001b[0m\u001b[1;33m,\u001b[0m \u001b[0mlimit\u001b[0m\u001b[1;33m,\u001b[0m \u001b[0mstep\u001b[0m\u001b[1;33m)\u001b[0m\u001b[1;33m\u001b[0m\u001b[1;33m\u001b[0m\u001b[0m\n",
      "\u001b[1;32m<ipython-input-12-f20803c48f39>\u001b[0m in \u001b[0;36mcompute_coherence_values\u001b[1;34m(dictionary, corpus, texts, limit, start, step)\u001b[0m\n\u001b[0;32m     18\u001b[0m     \u001b[0mmodel_list\u001b[0m \u001b[1;33m=\u001b[0m \u001b[1;33m[\u001b[0m\u001b[1;33m]\u001b[0m\u001b[1;33m\u001b[0m\u001b[1;33m\u001b[0m\u001b[0m\n\u001b[0;32m     19\u001b[0m     \u001b[1;32mfor\u001b[0m \u001b[0mnum_topics\u001b[0m \u001b[1;32min\u001b[0m \u001b[0mrange\u001b[0m\u001b[1;33m(\u001b[0m\u001b[0mstart\u001b[0m\u001b[1;33m,\u001b[0m \u001b[0mlimit\u001b[0m\u001b[1;33m,\u001b[0m \u001b[0mstep\u001b[0m\u001b[1;33m)\u001b[0m\u001b[1;33m:\u001b[0m\u001b[1;33m\u001b[0m\u001b[1;33m\u001b[0m\u001b[0m\n\u001b[1;32m---> 20\u001b[1;33m         \u001b[0mmodel\u001b[0m \u001b[1;33m=\u001b[0m \u001b[0mgensim\u001b[0m\u001b[1;33m.\u001b[0m\u001b[0mmodels\u001b[0m\u001b[1;33m.\u001b[0m\u001b[0mldamodel\u001b[0m\u001b[1;33m.\u001b[0m\u001b[0mLdaModel\u001b[0m\u001b[1;33m(\u001b[0m\u001b[0mcorpus\u001b[0m\u001b[1;33m,\u001b[0m \u001b[0mnum_topics\u001b[0m \u001b[1;33m=\u001b[0m \u001b[0mnum_topics\u001b[0m\u001b[1;33m,\u001b[0m \u001b[0mid2word\u001b[0m\u001b[1;33m=\u001b[0m\u001b[0mdictionary\u001b[0m\u001b[1;33m,\u001b[0m \u001b[0mpasses\u001b[0m\u001b[1;33m=\u001b[0m\u001b[1;36m15\u001b[0m\u001b[1;33m)\u001b[0m\u001b[1;33m\u001b[0m\u001b[1;33m\u001b[0m\u001b[0m\n\u001b[0m\u001b[0;32m     21\u001b[0m         \u001b[0mmodel_list\u001b[0m\u001b[1;33m.\u001b[0m\u001b[0mappend\u001b[0m\u001b[1;33m(\u001b[0m\u001b[0mmodel\u001b[0m\u001b[1;33m)\u001b[0m\u001b[1;33m\u001b[0m\u001b[1;33m\u001b[0m\u001b[0m\n\u001b[0;32m     22\u001b[0m         \u001b[0mcoherencemodel\u001b[0m \u001b[1;33m=\u001b[0m \u001b[0mCoherenceModel\u001b[0m\u001b[1;33m(\u001b[0m\u001b[0mmodel\u001b[0m\u001b[1;33m=\u001b[0m\u001b[0mmodel\u001b[0m\u001b[1;33m,\u001b[0m \u001b[0mtexts\u001b[0m\u001b[1;33m=\u001b[0m\u001b[0mtexts\u001b[0m\u001b[1;33m,\u001b[0m \u001b[0mdictionary\u001b[0m\u001b[1;33m=\u001b[0m\u001b[0mdictionary\u001b[0m\u001b[1;33m,\u001b[0m \u001b[0mcoherence\u001b[0m\u001b[1;33m=\u001b[0m\u001b[1;34m'c_v'\u001b[0m\u001b[1;33m)\u001b[0m\u001b[1;33m\u001b[0m\u001b[1;33m\u001b[0m\u001b[0m\n",
      "\u001b[1;32m~\\AppData\\Local\\Continuum\\anaconda3\\lib\\site-packages\\gensim\\models\\ldamodel.py\u001b[0m in \u001b[0;36m__init__\u001b[1;34m(self, corpus, num_topics, id2word, distributed, chunksize, passes, update_every, alpha, eta, decay, offset, eval_every, iterations, gamma_threshold, minimum_probability, random_state, ns_conf, minimum_phi_value, per_word_topics, callbacks, dtype)\u001b[0m\n\u001b[0;32m    517\u001b[0m         \u001b[1;32mif\u001b[0m \u001b[0mcorpus\u001b[0m \u001b[1;32mis\u001b[0m \u001b[1;32mnot\u001b[0m \u001b[1;32mNone\u001b[0m\u001b[1;33m:\u001b[0m\u001b[1;33m\u001b[0m\u001b[1;33m\u001b[0m\u001b[0m\n\u001b[0;32m    518\u001b[0m             \u001b[0muse_numpy\u001b[0m \u001b[1;33m=\u001b[0m \u001b[0mself\u001b[0m\u001b[1;33m.\u001b[0m\u001b[0mdispatcher\u001b[0m \u001b[1;32mis\u001b[0m \u001b[1;32mnot\u001b[0m \u001b[1;32mNone\u001b[0m\u001b[1;33m\u001b[0m\u001b[1;33m\u001b[0m\u001b[0m\n\u001b[1;32m--> 519\u001b[1;33m             \u001b[0mself\u001b[0m\u001b[1;33m.\u001b[0m\u001b[0mupdate\u001b[0m\u001b[1;33m(\u001b[0m\u001b[0mcorpus\u001b[0m\u001b[1;33m,\u001b[0m \u001b[0mchunks_as_numpy\u001b[0m\u001b[1;33m=\u001b[0m\u001b[0muse_numpy\u001b[0m\u001b[1;33m)\u001b[0m\u001b[1;33m\u001b[0m\u001b[1;33m\u001b[0m\u001b[0m\n\u001b[0m\u001b[0;32m    520\u001b[0m \u001b[1;33m\u001b[0m\u001b[0m\n\u001b[0;32m    521\u001b[0m     \u001b[1;32mdef\u001b[0m \u001b[0minit_dir_prior\u001b[0m\u001b[1;33m(\u001b[0m\u001b[0mself\u001b[0m\u001b[1;33m,\u001b[0m \u001b[0mprior\u001b[0m\u001b[1;33m,\u001b[0m \u001b[0mname\u001b[0m\u001b[1;33m)\u001b[0m\u001b[1;33m:\u001b[0m\u001b[1;33m\u001b[0m\u001b[1;33m\u001b[0m\u001b[0m\n",
      "\u001b[1;32m~\\AppData\\Local\\Continuum\\anaconda3\\lib\\site-packages\\gensim\\models\\ldamodel.py\u001b[0m in \u001b[0;36mupdate\u001b[1;34m(self, corpus, chunksize, decay, offset, passes, update_every, eval_every, iterations, gamma_threshold, chunks_as_numpy)\u001b[0m\n\u001b[0;32m    978\u001b[0m                         \u001b[0mpass_\u001b[0m\u001b[1;33m,\u001b[0m \u001b[0mchunk_no\u001b[0m \u001b[1;33m*\u001b[0m \u001b[0mchunksize\u001b[0m \u001b[1;33m+\u001b[0m \u001b[0mlen\u001b[0m\u001b[1;33m(\u001b[0m\u001b[0mchunk\u001b[0m\u001b[1;33m)\u001b[0m\u001b[1;33m,\u001b[0m \u001b[0mlencorpus\u001b[0m\u001b[1;33m\u001b[0m\u001b[1;33m\u001b[0m\u001b[0m\n\u001b[0;32m    979\u001b[0m                     )\n\u001b[1;32m--> 980\u001b[1;33m                     \u001b[0mgammat\u001b[0m \u001b[1;33m=\u001b[0m \u001b[0mself\u001b[0m\u001b[1;33m.\u001b[0m\u001b[0mdo_estep\u001b[0m\u001b[1;33m(\u001b[0m\u001b[0mchunk\u001b[0m\u001b[1;33m,\u001b[0m \u001b[0mother\u001b[0m\u001b[1;33m)\u001b[0m\u001b[1;33m\u001b[0m\u001b[1;33m\u001b[0m\u001b[0m\n\u001b[0m\u001b[0;32m    981\u001b[0m \u001b[1;33m\u001b[0m\u001b[0m\n\u001b[0;32m    982\u001b[0m                     \u001b[1;32mif\u001b[0m \u001b[0mself\u001b[0m\u001b[1;33m.\u001b[0m\u001b[0moptimize_alpha\u001b[0m\u001b[1;33m:\u001b[0m\u001b[1;33m\u001b[0m\u001b[1;33m\u001b[0m\u001b[0m\n",
      "\u001b[1;32m~\\AppData\\Local\\Continuum\\anaconda3\\lib\\site-packages\\gensim\\models\\ldamodel.py\u001b[0m in \u001b[0;36mdo_estep\u001b[1;34m(self, chunk, state)\u001b[0m\n\u001b[0;32m    740\u001b[0m         \u001b[1;32mif\u001b[0m \u001b[0mstate\u001b[0m \u001b[1;32mis\u001b[0m \u001b[1;32mNone\u001b[0m\u001b[1;33m:\u001b[0m\u001b[1;33m\u001b[0m\u001b[1;33m\u001b[0m\u001b[0m\n\u001b[0;32m    741\u001b[0m             \u001b[0mstate\u001b[0m \u001b[1;33m=\u001b[0m \u001b[0mself\u001b[0m\u001b[1;33m.\u001b[0m\u001b[0mstate\u001b[0m\u001b[1;33m\u001b[0m\u001b[1;33m\u001b[0m\u001b[0m\n\u001b[1;32m--> 742\u001b[1;33m         \u001b[0mgamma\u001b[0m\u001b[1;33m,\u001b[0m \u001b[0msstats\u001b[0m \u001b[1;33m=\u001b[0m \u001b[0mself\u001b[0m\u001b[1;33m.\u001b[0m\u001b[0minference\u001b[0m\u001b[1;33m(\u001b[0m\u001b[0mchunk\u001b[0m\u001b[1;33m,\u001b[0m \u001b[0mcollect_sstats\u001b[0m\u001b[1;33m=\u001b[0m\u001b[1;32mTrue\u001b[0m\u001b[1;33m)\u001b[0m\u001b[1;33m\u001b[0m\u001b[1;33m\u001b[0m\u001b[0m\n\u001b[0m\u001b[0;32m    743\u001b[0m         \u001b[0mstate\u001b[0m\u001b[1;33m.\u001b[0m\u001b[0msstats\u001b[0m \u001b[1;33m+=\u001b[0m \u001b[0msstats\u001b[0m\u001b[1;33m\u001b[0m\u001b[1;33m\u001b[0m\u001b[0m\n\u001b[0;32m    744\u001b[0m         \u001b[0mstate\u001b[0m\u001b[1;33m.\u001b[0m\u001b[0mnumdocs\u001b[0m \u001b[1;33m+=\u001b[0m \u001b[0mgamma\u001b[0m\u001b[1;33m.\u001b[0m\u001b[0mshape\u001b[0m\u001b[1;33m[\u001b[0m\u001b[1;36m0\u001b[0m\u001b[1;33m]\u001b[0m  \u001b[1;31m# avoids calling len(chunk) on a generator\u001b[0m\u001b[1;33m\u001b[0m\u001b[1;33m\u001b[0m\u001b[0m\n",
      "\u001b[1;32m~\\AppData\\Local\\Continuum\\anaconda3\\lib\\site-packages\\gensim\\models\\ldamodel.py\u001b[0m in \u001b[0;36minference\u001b[1;34m(self, chunk, collect_sstats)\u001b[0m\n\u001b[0;32m    691\u001b[0m                 \u001b[1;31m# Substituting the value of the optimal phi back into\u001b[0m\u001b[1;33m\u001b[0m\u001b[1;33m\u001b[0m\u001b[1;33m\u001b[0m\u001b[0m\n\u001b[0;32m    692\u001b[0m                 \u001b[1;31m# the update for gamma gives this update. Cf. Lee&Seung 2001.\u001b[0m\u001b[1;33m\u001b[0m\u001b[1;33m\u001b[0m\u001b[1;33m\u001b[0m\u001b[0m\n\u001b[1;32m--> 693\u001b[1;33m                 \u001b[0mgammad\u001b[0m \u001b[1;33m=\u001b[0m \u001b[0mself\u001b[0m\u001b[1;33m.\u001b[0m\u001b[0malpha\u001b[0m \u001b[1;33m+\u001b[0m \u001b[0mexpElogthetad\u001b[0m \u001b[1;33m*\u001b[0m \u001b[0mnp\u001b[0m\u001b[1;33m.\u001b[0m\u001b[0mdot\u001b[0m\u001b[1;33m(\u001b[0m\u001b[0mcts\u001b[0m \u001b[1;33m/\u001b[0m \u001b[0mphinorm\u001b[0m\u001b[1;33m,\u001b[0m \u001b[0mexpElogbetad\u001b[0m\u001b[1;33m.\u001b[0m\u001b[0mT\u001b[0m\u001b[1;33m)\u001b[0m\u001b[1;33m\u001b[0m\u001b[1;33m\u001b[0m\u001b[0m\n\u001b[0m\u001b[0;32m    694\u001b[0m                 \u001b[0mElogthetad\u001b[0m \u001b[1;33m=\u001b[0m \u001b[0mdirichlet_expectation\u001b[0m\u001b[1;33m(\u001b[0m\u001b[0mgammad\u001b[0m\u001b[1;33m)\u001b[0m\u001b[1;33m\u001b[0m\u001b[1;33m\u001b[0m\u001b[0m\n\u001b[0;32m    695\u001b[0m                 \u001b[0mexpElogthetad\u001b[0m \u001b[1;33m=\u001b[0m \u001b[0mnp\u001b[0m\u001b[1;33m.\u001b[0m\u001b[0mexp\u001b[0m\u001b[1;33m(\u001b[0m\u001b[0mElogthetad\u001b[0m\u001b[1;33m)\u001b[0m\u001b[1;33m\u001b[0m\u001b[1;33m\u001b[0m\u001b[0m\n",
      "\u001b[1;31mKeyboardInterrupt\u001b[0m: "
     ]
    }
   ],
   "source": [
    "model_list, coherence_values = compute_coherence_values(dictionary=dictionary, corpus=corpus, texts=text_data, start=2, limit=40, step=6)\n",
    "\n",
    "# Show graph\n",
    "limit=40; start=2; step=6;\n",
    "x = range(start, limit, step)\n",
    "plt.plot(x, coherence_values)\n",
    "plt.xlabel(\"Num Topics\")\n",
    "plt.ylabel(\"Coherence score\")\n",
    "plt.legend((\"coherence_values\"), loc='best')\n",
    "plt.show()"
   ]
  },
  {
   "cell_type": "code",
   "execution_count": 37,
   "metadata": {
    "scrolled": true
   },
   "outputs": [
    {
     "name": "stdout",
     "output_type": "stream",
     "text": [
      "(0, '0.028*\"urllink\" + 0.014*\"gas\" + 0.009*\"stations\" + 0.008*\"school\" + 0.006*\"ttcstation\" + 0.006*\"stickers\" + 0.005*\"kids\" + 0.004*\"food\" + 0.004*\"students\" + 0.004*\"free\"')\n",
      "(1, '0.033*\"transit\" + 0.023*\"people\" + 0.014*\"public\" + 0.012*\"city\" + 0.010*\"toronto\" + 0.007*\"money\" + 0.006*\"tax\" + 0.006*\"think\" + 0.006*\"cost\" + 0.006*\"pay\"')\n",
      "(2, '0.034*\"ttc\" + 0.016*\"presto\" + 0.013*\"people\" + 0.013*\"fare\" + 0.009*\"card\" + 0.007*\"police\" + 0.006*\"go\" + 0.006*\"think\" + 0.005*\"pay\" + 0.005*\"person\"')\n",
      "(3, '0.044*\"ttcstation\" + 0.026*\"subway\" + 0.016*\"go\" + 0.014*\"ttc\" + 0.012*\"people\" + 0.011*\"bus\" + 0.010*\"train\" + 0.008*\"stations\" + 0.007*\"transit\" + 0.007*\"going\"')\n",
      "(4, '0.023*\"transit\" + 0.013*\"toronto\" + 0.013*\"ford\" + 0.012*\"subway\" + 0.012*\"city\" + 0.011*\"government\" + 0.011*\"plan\" + 0.010*\"ontario\" + 0.008*\"province\" + 0.006*\"new\"')\n"
     ]
    }
   ],
   "source": [
    "### \n",
    "NUM_TOPICS = 8\n",
    "ldamodel = gensim.models.ldamodel.LdaModel(corpus, num_topics = NUM_TOPICS, id2word=dictionary, passes=15)\n",
    "topics = ldamodel.print_topics(num_words=5)\n",
    "for topic in topics:\n",
    "    print(topic)"
   ]
  },
  {
   "cell_type": "code",
   "execution_count": 38,
   "metadata": {
    "scrolled": true
   },
   "outputs": [
    {
     "name": "stderr",
     "output_type": "stream",
     "text": [
      "C:\\Users\\thaddea.chua\\AppData\\Local\\Continuum\\anaconda3\\lib\\site-packages\\pyLDAvis\\_prepare.py:257: FutureWarning: Sorting because non-concatenation axis is not aligned. A future version\n",
      "of pandas will change to not sort by default.\n",
      "\n",
      "To accept the future behavior, pass 'sort=False'.\n",
      "\n",
      "To retain the current behavior and silence the warning, pass 'sort=True'.\n",
      "\n",
      "  return pd.concat([default_term_info] + list(topic_dfs))\n"
     ]
    },
    {
     "data": {
      "text/html": [
       "\n",
       "<link rel=\"stylesheet\" type=\"text/css\" href=\"https://cdn.rawgit.com/bmabey/pyLDAvis/files/ldavis.v1.0.0.css\">\n",
       "\n",
       "\n",
       "<div id=\"ldavis_el3150421829689941204763445738\"></div>\n",
       "<script type=\"text/javascript\">\n",
       "\n",
       "var ldavis_el3150421829689941204763445738_data = {\"mdsDat\": {\"x\": [-0.337889989421653, 0.1213053113021482, 0.040753160829834746, 0.10010237626993736, 0.07572914101973276], \"y\": [0.01368704488839188, 0.05242894407247407, -0.1725721319388321, -0.1134099071120761, 0.21986605009004223], \"topics\": [1, 2, 3, 4, 5], \"cluster\": [1, 1, 1, 1, 1], \"Freq\": [11.891871452331543, 27.41241455078125, 19.04669189453125, 24.565458297729492, 17.083560943603516]}, \"tinfo\": {\"Category\": [\"Default\", \"Default\", \"Default\", \"Default\", \"Default\", \"Default\", \"Default\", \"Default\", \"Default\", \"Default\", \"Default\", \"Default\", \"Default\", \"Default\", \"Default\", \"Default\", \"Default\", \"Default\", \"Default\", \"Default\", \"Default\", \"Default\", \"Default\", \"Default\", \"Default\", \"Default\", \"Default\", \"Default\", \"Default\", \"Default\", \"Topic1\", \"Topic1\", \"Topic1\", \"Topic1\", \"Topic1\", \"Topic1\", \"Topic1\", \"Topic1\", \"Topic1\", \"Topic1\", \"Topic1\", \"Topic1\", \"Topic1\", \"Topic1\", \"Topic1\", \"Topic1\", \"Topic1\", \"Topic1\", \"Topic1\", \"Topic1\", \"Topic1\", \"Topic1\", \"Topic1\", \"Topic1\", \"Topic1\", \"Topic1\", \"Topic1\", \"Topic1\", \"Topic1\", \"Topic1\", \"Topic1\", \"Topic1\", \"Topic1\", \"Topic1\", \"Topic1\", \"Topic1\", \"Topic1\", \"Topic1\", \"Topic1\", \"Topic1\", \"Topic1\", \"Topic1\", \"Topic1\", \"Topic1\", \"Topic1\", \"Topic1\", \"Topic1\", \"Topic1\", \"Topic1\", \"Topic1\", \"Topic1\", \"Topic1\", \"Topic1\", \"Topic1\", \"Topic1\", \"Topic1\", \"Topic1\", \"Topic1\", \"Topic1\", \"Topic2\", \"Topic2\", \"Topic2\", \"Topic2\", \"Topic2\", \"Topic2\", \"Topic2\", \"Topic2\", \"Topic2\", \"Topic2\", \"Topic2\", \"Topic2\", \"Topic2\", \"Topic2\", \"Topic2\", \"Topic2\", \"Topic2\", \"Topic2\", \"Topic2\", \"Topic2\", \"Topic2\", \"Topic2\", \"Topic2\", \"Topic2\", \"Topic2\", \"Topic2\", \"Topic2\", \"Topic2\", \"Topic2\", \"Topic2\", \"Topic2\", \"Topic2\", \"Topic2\", \"Topic2\", \"Topic2\", \"Topic2\", \"Topic2\", \"Topic2\", \"Topic2\", \"Topic2\", \"Topic2\", \"Topic2\", \"Topic2\", \"Topic2\", \"Topic2\", \"Topic2\", \"Topic2\", \"Topic2\", \"Topic2\", \"Topic2\", \"Topic2\", \"Topic2\", \"Topic2\", \"Topic2\", \"Topic2\", \"Topic2\", \"Topic2\", \"Topic2\", \"Topic2\", \"Topic2\", \"Topic2\", \"Topic2\", \"Topic2\", \"Topic3\", \"Topic3\", \"Topic3\", \"Topic3\", \"Topic3\", \"Topic3\", \"Topic3\", \"Topic3\", \"Topic3\", \"Topic3\", \"Topic3\", \"Topic3\", \"Topic3\", \"Topic3\", \"Topic3\", \"Topic3\", \"Topic3\", \"Topic3\", \"Topic3\", \"Topic3\", \"Topic3\", \"Topic3\", \"Topic3\", \"Topic3\", \"Topic3\", \"Topic3\", \"Topic3\", \"Topic3\", \"Topic3\", \"Topic3\", \"Topic3\", \"Topic3\", \"Topic3\", \"Topic3\", \"Topic3\", \"Topic3\", \"Topic3\", \"Topic3\", \"Topic3\", \"Topic3\", \"Topic3\", \"Topic3\", \"Topic3\", \"Topic3\", \"Topic3\", \"Topic3\", \"Topic3\", \"Topic3\", \"Topic3\", \"Topic3\", \"Topic3\", \"Topic3\", \"Topic3\", \"Topic3\", \"Topic3\", \"Topic3\", \"Topic3\", \"Topic3\", \"Topic3\", \"Topic3\", \"Topic3\", \"Topic3\", \"Topic3\", \"Topic4\", \"Topic4\", \"Topic4\", \"Topic4\", \"Topic4\", \"Topic4\", \"Topic4\", \"Topic4\", \"Topic4\", \"Topic4\", \"Topic4\", \"Topic4\", \"Topic4\", \"Topic4\", \"Topic4\", \"Topic4\", \"Topic4\", \"Topic4\", \"Topic4\", \"Topic4\", \"Topic4\", \"Topic4\", \"Topic4\", \"Topic4\", \"Topic4\", \"Topic4\", \"Topic4\", \"Topic4\", \"Topic4\", \"Topic4\", \"Topic4\", \"Topic4\", \"Topic4\", \"Topic4\", \"Topic4\", \"Topic4\", \"Topic4\", \"Topic4\", \"Topic4\", \"Topic4\", \"Topic4\", \"Topic4\", \"Topic4\", \"Topic4\", \"Topic4\", \"Topic4\", \"Topic4\", \"Topic4\", \"Topic4\", \"Topic4\", \"Topic4\", \"Topic4\", \"Topic4\", \"Topic4\", \"Topic4\", \"Topic4\", \"Topic4\", \"Topic4\", \"Topic4\", \"Topic4\", \"Topic4\", \"Topic4\", \"Topic4\", \"Topic4\", \"Topic5\", \"Topic5\", \"Topic5\", \"Topic5\", \"Topic5\", \"Topic5\", \"Topic5\", \"Topic5\", \"Topic5\", \"Topic5\", \"Topic5\", \"Topic5\", \"Topic5\", \"Topic5\", \"Topic5\", \"Topic5\", \"Topic5\", \"Topic5\", \"Topic5\", \"Topic5\", \"Topic5\", \"Topic5\", \"Topic5\", \"Topic5\", \"Topic5\", \"Topic5\", \"Topic5\", \"Topic5\", \"Topic5\", \"Topic5\", \"Topic5\", \"Topic5\", \"Topic5\", \"Topic5\", \"Topic5\", \"Topic5\", \"Topic5\", \"Topic5\", \"Topic5\", \"Topic5\", \"Topic5\", \"Topic5\", \"Topic5\", \"Topic5\", \"Topic5\", \"Topic5\", \"Topic5\", \"Topic5\", \"Topic5\", \"Topic5\", \"Topic5\", \"Topic5\", \"Topic5\", \"Topic5\", \"Topic5\", \"Topic5\"], \"Freq\": [9137.0, 6646.0, 11755.0, 3214.0, 9614.0, 2366.0, 9145.0, 1917.0, 1762.0, 3247.0, 1631.0, 1904.0, 1454.0, 2671.0, 2069.0, 5028.0, 1288.0, 1126.0, 5151.0, 1842.0, 2814.0, 1367.0, 5441.0, 1237.0, 997.0, 1151.0, 1211.0, 724.0, 2223.0, 1195.0, 723.8103637695312, 538.2906494140625, 393.15277099609375, 266.7931823730469, 216.10076904296875, 204.74139404296875, 195.4126434326172, 164.84017944335938, 140.17230224609375, 133.6424102783203, 129.79852294921875, 128.7560577392578, 124.71261596679688, 128.81887817382812, 112.92080688476562, 107.86165618896484, 105.98419952392578, 102.44816589355469, 102.71361541748047, 100.62883758544922, 98.20706176757812, 96.73588562011719, 97.53578186035156, 92.64561462402344, 93.72183227539062, 97.92182159423828, 90.48394012451172, 89.08341217041016, 88.29871368408203, 86.15120697021484, 405.8304748535156, 355.8755798339844, 2640.169189453125, 461.8306884765625, 1296.74853515625, 189.08157348632812, 328.5281982421875, 306.2344970703125, 136.80210876464844, 186.25531005859375, 221.45346069335938, 156.86434936523438, 193.19769287109375, 840.369140625, 356.5015563964844, 274.9159240722656, 198.7526397705078, 190.31207275390625, 179.39413452148438, 242.56004333496094, 229.33746337890625, 219.08261108398438, 560.3837280273438, 245.59539794921875, 209.33815002441406, 237.6355438232422, 302.4952697753906, 195.3546905517578, 206.4652099609375, 1366.4310302734375, 852.65625, 814.9940185546875, 579.1346435546875, 542.1415405273438, 517.5371704101562, 517.1390380859375, 488.6933288574219, 460.36590576171875, 461.1290588378906, 451.6238708496094, 410.8122253417969, 407.57354736328125, 364.97003173828125, 299.5513000488281, 287.86383056640625, 284.5804748535156, 248.62857055664062, 248.1168212890625, 230.89431762695312, 206.28184509277344, 231.40049743652344, 194.92796325683594, 194.59176635742188, 186.63536071777344, 185.77955627441406, 183.96783447265625, 182.98248291015625, 171.8367156982422, 170.42982482910156, 981.5379638671875, 447.3255310058594, 2946.041015625, 687.7647705078125, 578.5213623046875, 241.8206024169922, 565.0299072265625, 662.5031127929688, 7215.81982421875, 1225.1072998046875, 641.5516357421875, 758.3859252929688, 4930.552734375, 804.7783813476562, 1505.1143798828125, 686.896240234375, 653.7514038085938, 2544.50244140625, 1211.572509765625, 2207.3232421875, 900.256591796875, 1091.458251953125, 929.97265625, 1321.240478515625, 1124.83544921875, 657.1907348632812, 1024.151611328125, 763.1812744140625, 741.7277221679688, 881.6109008789062, 661.788818359375, 843.2899780273438, 893.4451904296875, 2365.513916015625, 1916.5386962890625, 1287.7105712890625, 996.3082275390625, 599.582275390625, 505.19390869140625, 410.6883850097656, 378.1397399902344, 325.7818603515625, 252.6980743408203, 246.12725830078125, 243.04592895507812, 244.43788146972656, 242.8196258544922, 223.3392333984375, 211.88656616210938, 204.9846954345703, 189.66012573242188, 189.48915100097656, 165.44635009765625, 168.82669067382812, 155.72970581054688, 155.53250122070312, 147.78195190429688, 141.23025512695312, 135.65866088867188, 132.56338500976562, 131.2782440185547, 129.77392578125, 127.08174896240234, 128.73500061035156, 323.32470703125, 183.00941467285156, 236.98487854003906, 259.0882263183594, 606.192138671875, 5209.74267578125, 419.2104187011719, 723.3068237304688, 266.5990905761719, 324.56292724609375, 481.103759765625, 356.6220397949219, 292.6288757324219, 392.6823425292969, 721.695556640625, 1919.52783203125, 454.97369384765625, 348.7685241699219, 729.1688842773438, 866.6044921875, 967.8909301757812, 453.250244140625, 595.646240234375, 430.048583984375, 565.4576416015625, 459.1744384765625, 520.6586303710938, 391.5722961425781, 433.3025207519531, 371.16827392578125, 363.048583984375, 363.12066650390625, 1904.095947265625, 1236.7449951171875, 1151.056640625, 934.8399658203125, 858.6199951171875, 752.7325439453125, 687.071044921875, 682.7874755859375, 545.9109497070312, 452.7319030761719, 423.2632141113281, 358.5270690917969, 314.482666015625, 298.3801574707031, 269.768310546875, 230.74169921875, 220.65194702148438, 212.2990264892578, 198.72618103027344, 199.80752563476562, 200.001953125, 194.91104125976562, 192.13609313964844, 191.4092254638672, 190.32359313964844, 179.35633850097656, 174.16896057128906, 168.8595428466797, 164.04525756835938, 152.35450744628906, 482.7997741699219, 8577.0068359375, 1177.746826171875, 667.3632202148438, 1131.879638671875, 507.86981201171875, 286.02764892578125, 2237.532958984375, 374.1424560546875, 562.2257690429688, 4994.95654296875, 863.3638916015625, 387.7142333984375, 3105.64892578125, 944.4241333007812, 493.4501037597656, 1229.7496337890625, 979.095703125, 1550.635009765625, 517.272216796875, 902.8753662109375, 800.0806884765625, 1131.728271484375, 2705.71533203125, 1294.91455078125, 2293.40673828125, 844.5964965820312, 884.968994140625, 986.2901000976562, 898.9869384765625, 1152.843994140625, 1374.466796875, 903.823974609375, 882.2884521484375, 1761.9661865234375, 1453.3143310546875, 1125.2406005859375, 616.8660888671875, 592.345458984375, 557.6422729492188, 547.5558471679688, 418.98577880859375, 393.3392028808594, 388.0281677246094, 347.78131103515625, 337.4649353027344, 277.75177001953125, 260.562255859375, 259.2253723144531, 252.50790405273438, 248.86766052246094, 243.86538696289062, 213.96205139160156, 201.45651245117188, 196.24008178710938, 183.4148406982422, 178.92306518554688, 175.00042724609375, 167.07986450195312, 161.39866638183594, 156.4566650390625, 151.27218627929688, 131.15574645996094, 128.98451232910156, 603.0377197265625, 327.9228820800781, 648.4036254882812, 358.73895263671875, 1508.80419921875, 1321.2777099609375, 728.7797241210938, 650.0436401367188, 368.7138366699219, 514.6168823242188, 552.1181030273438, 3078.6435546875, 1778.3389892578125, 1593.172119140625, 1651.225341796875, 532.1031494140625, 511.67437744140625, 878.0326538085938, 601.50537109375, 580.1052856445312, 505.17779541015625, 637.3555908203125, 805.3184814453125, 573.8055419921875, 532.5220336914062, 460.798583984375], \"Term\": [\"ttcstation\", \"subway\", \"transit\", \"urllink\", \"ttc\", \"presto\", \"people\", \"fare\", \"ford\", \"public\", \"gas\", \"train\", \"plan\", \"bus\", \"government\", \"city\", \"card\", \"province\", \"go\", \"ontario\", \"stations\", \"tax\", \"toronto\", \"trains\", \"police\", \"buses\", \"street\", \"school\", \"car\", \"hour\", \"school\", \"stickers\", \"students\", \"suicide\", \"beer\", \"stores\", \"parents\", \"maps\", \"teachers\", \"french\", \"fuel\", \"festival\", \"pump\", \"tiff\", \"plant\", \"subreddit\", \"coffee\", \"lcbo\", \"grocery\", \"exclude\", \"gender\", \"products\", \"drove\", \"downvote\", \"walls\", \"wallet\", \"shop\", \"sites\", \"art\", \"sale\", \"food\", \"store\", \"urllink\", \"kids\", \"gas\", \"radio\", \"pm\", \"transition\", \"hospital\", \"site\", \"source\", \"events\", \"fire\", \"stations\", \"free\", \"health\", \"canadian\", \"program\", \"water\", \"canada\", \"home\", \"local\", \"ttcstation\", \"first\", \"power\", \"us\", \"toronto\", \"family\", \"ontario\", \"tax\", \"housing\", \"taxes\", \"increase\", \"density\", \"income\", \"population\", \"afford\", \"low\", \"increased\", \"rent\", \"higher\", \"prices\", \"class\", \"america\", \"buildings\", \"increasing\", \"affordable\", \"homes\", \"units\", \"subsidized\", \"sticker\", \"economy\", \"businesses\", \"fees\", \"profit\", \"rental\", \"countries\", \"highways\", \"transport\", \"cities\", \"jobs\", \"public\", \"world\", \"roads\", \"benefits\", \"property\", \"living\", \"transit\", \"cost\", \"services\", \"costs\", \"people\", \"infrastructure\", \"money\", \"areas\", \"better\", \"city\", \"pay\", \"toronto\", \"live\", \"car\", \"many\", \"think\", \"work\", \"paying\", \"system\", \"lot\", \"things\", \"going\", \"drive\", \"go\", \"ttc\", \"presto\", \"fare\", \"card\", \"police\", \"guy\", \"tap\", \"phone\", \"inspectors\", \"ticket\", \"machine\", \"machines\", \"officers\", \"monthly\", \"cards\", \"gates\", \"enforcement\", \"customer\", \"cops\", \"officer\", \"inspector\", \"woman\", \"evasion\", \"readers\", \"cameras\", \"fines\", \"fined\", \"privacy\", \"discount\", \"incident\", \"tokens\", \"cell\", \"video\", \"caught\", \"app\", \"balance\", \"pass\", \"ttc\", \"call\", \"person\", \"fine\", \"man\", \"driver\", \"told\", \"tickets\", \"post\", \"said\", \"people\", \"paid\", \"happened\", \"pay\", \"think\", \"go\", \"using\", \"system\", \"let\", \"work\", \"getting\", \"going\", \"day\", \"bus\", \"ride\", \"shit\", \"give\", \"train\", \"trains\", \"buses\", \"bike\", \"minutes\", \"rush\", \"route\", \"west\", \"routes\", \"lanes\", \"tracks\", \"lane\", \"minute\", \"hill\", \"richmond\", \"peak\", \"intersection\", \"airport\", \"tunnel\", \"crowded\", \"pedestrian\", \"south\", \"platforms\", \"corridor\", \"lights\", \"packed\", \"busses\", \"signal\", \"mins\", \"crossing\", \"doors\", \"ttcstation\", \"street\", \"stops\", \"hour\", \"east\", \"express\", \"bus\", \"walttcstation\", \"streetcars\", \"subway\", \"walk\", \"light\", \"go\", \"streetcar\", \"platform\", \"stop\", \"traffic\", \"stations\", \"rail\", \"downtown\", \"area\", \"car\", \"ttc\", \"going\", \"people\", \"cars\", \"service\", \"work\", \"new\", \"toronto\", \"transit\", \"think\", \"city\", \"ford\", \"plan\", \"province\", \"plans\", \"projects\", \"doug\", \"provincial\", \"political\", \"proposed\", \"council\", \"politicians\", \"election\", \"vote\", \"liberals\", \"tory\", \"cancelled\", \"conservative\", \"rob\", \"harris\", \"elected\", \"mayor\", \"conservatives\", \"liberal\", \"premier\", \"john\", \"politics\", \"voted\", \"pc\", \"experts\", \"proposal\", \"project\", \"federal\", \"planning\", \"party\", \"government\", \"ontario\", \"metrolinx\", \"funding\", \"relief\", \"scarborough\", \"subways\", \"transit\", \"toronto\", \"city\", \"subway\", \"existing\", \"lrt\", \"new\", \"build\", \"built\", \"done\", \"system\", \"ttc\", \"urllink\", \"money\", \"said\"], \"Total\": [9137.0, 6646.0, 11755.0, 3214.0, 9614.0, 2366.0, 9145.0, 1917.0, 1762.0, 3247.0, 1631.0, 1904.0, 1454.0, 2671.0, 2069.0, 5028.0, 1288.0, 1126.0, 5151.0, 1842.0, 2814.0, 1367.0, 5441.0, 1237.0, 997.0, 1151.0, 1211.0, 724.0, 2223.0, 1195.0, 724.60595703125, 539.09423828125, 393.94793701171875, 267.6455078125, 216.8956756591797, 205.5352020263672, 196.2061309814453, 165.6411590576172, 140.9696807861328, 134.43496704101562, 130.5908660888672, 129.55934143066406, 125.51224517822266, 129.65158081054688, 113.71726989746094, 108.65670776367188, 106.77513885498047, 103.24097442626953, 103.50860595703125, 101.41825103759766, 98.9968490600586, 97.5327377319336, 98.34546661376953, 93.43558502197266, 94.53339385986328, 98.77226257324219, 91.27781677246094, 89.8841552734375, 89.09355926513672, 86.964111328125, 428.2162780761719, 381.7023010253906, 3214.552734375, 513.6461181640625, 1631.572265625, 202.1846923828125, 392.9434509277344, 379.2917175292969, 155.5560302734375, 237.498779296875, 313.92431640625, 194.1844024658203, 269.78643798828125, 2814.073486328125, 751.2869873046875, 494.6144104003906, 308.82183837890625, 315.5016174316406, 290.8896789550781, 684.474365234375, 602.2684326171875, 542.4860229492188, 9137.998046875, 850.820068359375, 529.7592163085938, 1066.7100830078125, 5441.1953125, 430.5447998046875, 1842.2581787109375, 1367.218505859375, 853.4404296875, 815.7775268554688, 579.9237670898438, 542.9248046875, 518.3240356445312, 517.92626953125, 489.4830017089844, 461.1573486328125, 461.9228210449219, 452.4124450683594, 411.60321044921875, 408.35955810546875, 365.76031494140625, 300.34259033203125, 288.65155029296875, 285.3678283691406, 249.41444396972656, 248.90750122070312, 231.68304443359375, 207.0670928955078, 232.30322265625, 195.71707153320312, 195.3834991455078, 187.42462158203125, 186.56716918945312, 184.7540283203125, 183.7732696533203, 172.62466430664062, 171.220703125, 1028.0089111328125, 461.1006774902344, 3247.13427734375, 761.0908813476562, 641.34716796875, 248.9020538330078, 633.6270751953125, 769.2767333984375, 11755.5576171875, 1590.0, 768.91650390625, 937.9052124023438, 9145.7255859375, 1027.6937255859375, 2271.526611328125, 856.5191650390625, 833.3243408203125, 5028.701171875, 2010.479736328125, 5441.1953125, 1480.12939453125, 2223.788818359375, 1732.729248046875, 3494.1689453125, 2779.146240234375, 924.539794921875, 2826.296875, 1444.6514892578125, 1568.315185546875, 3147.53662109375, 1220.905029296875, 5151.6484375, 9614.412109375, 2366.297119140625, 1917.32763671875, 1288.4932861328125, 997.100341796875, 600.3793334960938, 505.9781188964844, 411.47601318359375, 378.92388916015625, 326.5722961425781, 253.48680114746094, 246.91355895996094, 243.83241271972656, 245.23056030273438, 243.6109619140625, 224.1253204345703, 212.67922973632812, 205.78172302246094, 190.4485626220703, 190.2844696044922, 166.2289276123047, 169.62579345703125, 156.51434326171875, 156.31683349609375, 148.57122802734375, 142.03338623046875, 136.46739196777344, 133.36732482910156, 132.07537841796875, 130.56402587890625, 127.86485290527344, 129.55755615234375, 340.9356689453125, 190.3004150390625, 255.69894409179688, 286.0484313964844, 763.9983520507812, 9614.412109375, 512.1617431640625, 1022.833984375, 306.43170166015625, 402.0870666503906, 707.3623657226562, 481.1366271972656, 367.5790710449219, 590.8754272460938, 1637.723388671875, 9145.7255859375, 789.128173828125, 502.7253723144531, 2010.479736328125, 3494.1689453125, 5151.6484375, 1091.9183349609375, 2826.296875, 1165.528564453125, 2779.146240234375, 1616.4556884765625, 3147.53662109375, 1293.8314208984375, 2671.43798828125, 1027.29296875, 798.0794677734375, 837.5267333984375, 1904.8929443359375, 1237.537841796875, 1151.853759765625, 935.6426391601562, 859.4166259765625, 753.5284423828125, 687.8693237304688, 683.5875854492188, 546.7069702148438, 453.5292663574219, 424.05596923828125, 359.3236083984375, 315.2845153808594, 299.1752014160156, 270.5640563964844, 231.53700256347656, 221.44285583496094, 213.09495544433594, 199.51956176757812, 200.6066436767578, 200.80233764648438, 195.71368408203125, 192.9293670654297, 192.20526123046875, 191.11793518066406, 180.1481475830078, 174.9663848876953, 169.6607666015625, 164.8362274169922, 153.16285705566406, 490.1793212890625, 9137.998046875, 1211.36572265625, 685.4124145507812, 1195.83740234375, 528.2543334960938, 291.10162353515625, 2671.43798828125, 392.7438659667969, 616.909423828125, 6646.7607421875, 1025.70947265625, 430.3364562988281, 5151.6484375, 1254.3560791015625, 580.455078125, 1871.25439453125, 1463.20703125, 2814.073486328125, 639.6831665039062, 1522.3880615234375, 1272.46630859375, 2223.788818359375, 9614.412109375, 3147.53662109375, 9145.7255859375, 1487.5347900390625, 1767.1995849609375, 2779.146240234375, 2435.88525390625, 5441.1953125, 11755.5576171875, 3494.1689453125, 5028.701171875, 1762.72509765625, 1454.082763671875, 1126.00537109375, 617.6275634765625, 593.1061401367188, 558.4005737304688, 548.3194580078125, 419.74725341796875, 394.1037292480469, 388.7861633300781, 348.54498291015625, 338.2218322753906, 278.5146484375, 261.32244873046875, 259.9832458496094, 253.26885986328125, 249.6302490234375, 244.62306213378906, 214.7207794189453, 202.21377563476562, 196.99740600585938, 184.1764373779297, 179.68299865722656, 175.7590789794922, 167.85633850097656, 162.16180419921875, 157.21365356445312, 152.03250122070312, 131.91433715820312, 129.75894165039062, 644.463134765625, 353.0367736816406, 759.7149047851562, 401.67144775390625, 2069.46044921875, 1842.2581787109375, 951.8050537109375, 905.5714721679688, 475.88641357421875, 758.795654296875, 895.90478515625, 11755.5576171875, 5441.1953125, 5028.701171875, 6646.7607421875, 918.49853515625, 878.18115234375, 2435.88525390625, 1246.99560546875, 1244.34375, 1143.373046875, 2826.296875, 9614.412109375, 3214.552734375, 2271.526611328125, 1637.723388671875], \"loglift\": [30.0, 29.0, 28.0, 27.0, 26.0, 25.0, 24.0, 23.0, 22.0, 21.0, 20.0, 19.0, 18.0, 17.0, 16.0, 15.0, 14.0, 13.0, 12.0, 11.0, 10.0, 9.0, 8.0, 7.0, 6.0, 5.0, 4.0, 3.0, 2.0, 1.0, 2.128200054168701, 2.1277999877929688, 2.1273000240325928, 2.1261000633239746, 2.1256000995635986, 2.1254000663757324, 2.1252999305725098, 2.124500036239624, 2.1236000061035156, 2.1233999729156494, 2.123199939727783, 2.1231000423431396, 2.1229000091552734, 2.1229000091552734, 2.122299909591675, 2.121999979019165, 2.1219000816345215, 2.1215999126434326, 2.1215999126434326, 2.121500015258789, 2.121299982070923, 2.1210999488830566, 2.121000051498413, 2.120800018310547, 2.120699882507324, 2.120699882507324, 2.1205999851226807, 2.1203999519348145, 2.1203999519348145, 2.1198999881744385, 2.0755999088287354, 2.059299945831299, 1.9325000047683716, 2.0230000019073486, 1.8996000289916992, 2.062299966812134, 1.9502999782562256, 1.9154000282287598, 2.0007998943328857, 1.886299967765808, 1.780400037765503, 1.9158999919891357, 1.7954000234603882, 0.920799970626831, 1.3839000463485718, 1.5420000553131104, 1.688599944114685, 1.6238000392913818, 1.6460000276565552, 1.0918999910354614, 1.1638000011444092, 1.222599983215332, -0.6622999906539917, 0.8867999911308289, 1.2007999420166016, 0.6276999711990356, -0.7603999972343445, 1.3391000032424927, -0.059300001710653305, 1.2935999631881714, 1.2933000326156616, 1.2932000160217285, 1.292799949645996, 1.2927000522613525, 1.2927000522613525, 1.2927000522613525, 1.2926000356674194, 1.2925000190734863, 1.2925000190734863, 1.2924000024795532, 1.2922999858856201, 1.292199969291687, 1.2920000553131104, 1.2914999723434448, 1.2913999557495117, 1.2913999557495117, 1.2910000085830688, 1.2910000085830688, 1.2907999753952026, 1.2904000282287598, 1.2903000116348267, 1.2900999784469604, 1.2900999784469604, 1.2899999618530273, 1.2898999452590942, 1.2898999452590942, 1.2898999452590942, 1.2896000146865845, 1.2894999980926514, 1.2479000091552734, 1.263800024986267, 1.1969000101089478, 1.1928999423980713, 1.191100001335144, 1.2653000354766846, 1.1796000003814697, 1.144700050354004, 0.8061000108718872, 1.0334999561309814, 1.1131000518798828, 1.0816999673843384, 0.6762999892234802, 1.0497000217437744, 0.8826000094413757, 1.0735000371932983, 1.0514999628067017, 0.6129000186920166, 0.7876999974250793, 0.3919999897480011, 0.796999990940094, 0.5824999809265137, 0.6718999743461609, 0.3215999901294708, 0.3896999955177307, 0.9528999924659729, 0.2791000008583069, 0.656000018119812, 0.5454000234603882, 0.0215000007301569, 0.6818000078201294, -0.5156000256538391, -1.0817999839782715, 1.6578999757766724, 1.6578999757766724, 1.6576999425888062, 1.6575000286102295, 1.6569000482559204, 1.6567000150680542, 1.6563999652862549, 1.6562000513076782, 1.655900001525879, 1.6552000045776367, 1.6550999879837036, 1.6549999713897705, 1.6549999713897705, 1.6549999713897705, 1.6548000574111938, 1.6545000076293945, 1.6543999910354614, 1.654099941253662, 1.654099941253662, 1.6535999774932861, 1.6535999774932861, 1.6533000469207764, 1.6532000303268433, 1.652999997138977, 1.6526000499725342, 1.6523000001907349, 1.6521999835968018, 1.6521999835968018, 1.6521999835968018, 1.6520999670028687, 1.651900053024292, 1.6052000522613525, 1.6191999912261963, 1.5822999477386475, 1.5592999458312988, 1.426900029182434, 1.0455000400543213, 1.4579999446868896, 1.3118000030517578, 1.5190000534057617, 1.444100022315979, 1.2727999687194824, 1.3588000535964966, 1.4301999807357788, 1.2496999502182007, 0.8388000130653381, 0.09709999710321426, 1.1075999736785889, 1.2926000356674194, 0.64410001039505, 0.2639999985694885, -0.013700000010430813, 0.7789999842643738, 0.10119999945163727, 0.6611999869346619, 0.06599999964237213, 0.39969998598098755, -0.14100000262260437, 0.46309998631477356, -0.1606999933719635, 0.6402000188827515, 0.8705999851226807, 0.8226000070571899, 1.40339994430542, 1.4032000303268433, 1.4031000137329102, 1.402999997138977, 1.402899980545044, 1.4027999639511108, 1.4026999473571777, 1.4026999473571777, 1.402400016784668, 1.4020999670028687, 1.4019999504089355, 1.4016000032424927, 1.4012999534606934, 1.4012000560760498, 1.4009000062942505, 1.4004000425338745, 1.4003000259399414, 1.4000999927520752, 1.3997999429702759, 1.3997999429702759, 1.3997999429702759, 1.3997000455856323, 1.3997000455856323, 1.3997000455856323, 1.3997000455856323, 1.399399995803833, 1.3992999792099, 1.3990999460220337, 1.3990000486373901, 1.3984999656677246, 1.388700008392334, 1.340499997138977, 1.3756999969482422, 1.3770999908447266, 1.3488999605178833, 1.3645000457763672, 1.386199951171875, 1.2266000509262085, 1.355299949645996, 1.3109999895095825, 1.1181000471115112, 1.2315000295639038, 1.2994999885559082, 0.8977000117301941, 1.1200000047683716, 1.2414000034332275, 0.984000027179718, 1.0020999908447266, 0.8079000115394592, 1.1914000511169434, 0.8813999891281128, 0.9398000240325928, 0.7283999919891357, 0.13590000569820404, 0.5156999826431274, 0.020600000396370888, 0.8378000259399414, 0.7121999859809875, 0.367900013923645, 0.40700000524520874, -0.14790000021457672, -0.7423999905586243, 0.051600001752376556, -0.33660000562667847, 1.7666000127792358, 1.7664999961853027, 1.7663999795913696, 1.7657999992370605, 1.7657999992370605, 1.7656999826431274, 1.7656999826431274, 1.7652000188827515, 1.7651000022888184, 1.7651000022888184, 1.7648999691009521, 1.764799952507019, 1.764299988746643, 1.7640999555587769, 1.7640999555587769, 1.7640000581741333, 1.7640000581741333, 1.7640000581741333, 1.7634999752044678, 1.7632999420166016, 1.763200044631958, 1.7628999948501587, 1.7627999782562256, 1.7626999616622925, 1.7624000310897827, 1.7623000144958496, 1.7621999979019165, 1.7619999647140503, 1.761299967765808, 1.7611000537872314, 1.700600028038025, 1.6933000087738037, 1.6086000204086304, 1.6540000438690186, 1.4510999917984009, 1.4347000122070312, 1.500100016593933, 1.4355000257492065, 1.5118999481201172, 1.3787000179290771, 1.2829999923706055, 0.42719998955726624, 0.6486999988555908, 0.6176000237464905, 0.37439998984336853, 1.2211999893188477, 1.2268999814987183, 0.7466999888420105, 1.0379999876022339, 1.0039000511169434, 0.9502000212669373, 0.2777000069618225, -0.7127000093460083, 0.04390000179409981, 0.3165000081062317, 0.49900001287460327], \"logprob\": [30.0, 29.0, 28.0, 27.0, 26.0, 25.0, 24.0, 23.0, 22.0, 21.0, 20.0, 19.0, 18.0, 17.0, 16.0, 15.0, 14.0, 13.0, 12.0, 11.0, 10.0, 9.0, 8.0, 7.0, 6.0, 5.0, 4.0, 3.0, 2.0, 1.0, -4.870100021362305, -5.166299819946289, -5.480500221252441, -5.868199825286865, -6.07889986038208, -6.132900238037109, -6.179500102996826, -6.349699974060059, -6.5117998123168945, -6.559500217437744, -6.588699817657471, -6.596700191497803, -6.628600120544434, -6.59630012512207, -6.728000164031982, -6.773799896240234, -6.791399955749512, -6.825300216674805, -6.822700023651123, -6.843200206756592, -6.867599964141846, -6.882699966430664, -6.8744001388549805, -6.925899982452393, -6.914299964904785, -6.870500087738037, -6.94950008392334, -6.965099811553955, -6.973899841308594, -6.998600006103516, -5.448699951171875, -5.580100059509277, -3.5761001110076904, -5.319499969482422, -4.2870001792907715, -6.212500095367432, -5.659999847412109, -5.730299949645996, -6.536099910736084, -6.227499961853027, -6.0543999671936035, -6.3993000984191895, -6.190899848937988, -4.720799922943115, -5.5782999992370605, -5.838200092315674, -6.162600040435791, -6.205999851226807, -6.265100002288818, -5.963399887084961, -6.019499778747559, -6.065199851989746, -5.125999927520752, -5.951000213623047, -6.1107001304626465, -5.98390007019043, -5.742599964141846, -6.179800033569336, -6.124499797821045, -5.069799900054932, -5.541399955749512, -5.586599826812744, -5.928299903869629, -5.99429988861084, -6.0406999588012695, -6.041500091552734, -6.098100185394287, -6.157800197601318, -6.156099796295166, -6.177000045776367, -6.271699905395508, -6.279600143432617, -6.389999866485596, -6.587500095367432, -6.627299785614014, -6.638800144195557, -6.773799896240234, -6.775899887084961, -6.847799777984619, -6.960599899291992, -6.845699787139893, -7.017199993133545, -7.018899917602539, -7.0605998039245605, -7.065199851989746, -7.074999809265137, -7.080399990081787, -7.1433000564575195, -7.151500225067139, -5.400700092315674, -6.186500072479248, -4.301599979400635, -5.756400108337402, -5.929299831390381, -6.801599979400635, -5.952899932861328, -5.793799877166748, -3.4058001041412354, -5.178999900817871, -5.825900077819824, -5.658599853515625, -3.786600112915039, -5.5991997718811035, -4.973199844360352, -5.757599830627441, -5.80709981918335, -4.4481000900268555, -5.190100193023682, -4.5903000831604, -5.487100124359131, -5.29449987411499, -5.454599857330322, -5.103499889373779, -5.264400005340576, -5.801799774169922, -5.3582000732421875, -5.652299880981445, -5.680799961090088, -5.5081000328063965, -5.794899940490723, -5.552499771118164, -5.494699954986572, -4.156899929046631, -4.367400169372559, -4.765100002288818, -5.021599769592285, -5.5295000076293945, -5.700799942016602, -5.907899856567383, -5.9903998374938965, -6.139500141143799, -6.393499851226807, -6.419899940490723, -6.432400226593018, -6.426700115203857, -6.4334001541137695, -6.517000198364258, -6.5696001052856445, -6.602799892425537, -6.680500030517578, -6.681399822235107, -6.8171000480651855, -6.796800136566162, -6.877600193023682, -6.878799915313721, -6.929999828338623, -6.975299835205078, -7.015600204467773, -7.038599967956543, -7.048399925231934, -7.059899806976318, -7.080900192260742, -7.06790018081665, -6.146999835968018, -6.71619987487793, -6.457699775695801, -6.368500232696533, -5.518499851226807, -3.3673999309539795, -5.88730001449585, -5.341899871826172, -6.340000152587891, -6.143199920654297, -5.749599933624268, -6.048999786376953, -6.246799945831299, -5.952700138092041, -5.344099998474121, -4.365900039672852, -5.805500030517578, -6.071300029754639, -5.333799839019775, -5.161099910736084, -5.050600051879883, -5.809299945831299, -5.536099910736084, -5.861800193786621, -5.588099956512451, -5.796299934387207, -5.670599937438965, -5.95550012588501, -5.854300022125244, -6.008999824523926, -6.031199932098389, -6.031000137329102, -4.628399848937988, -5.059899806976318, -5.131700038909912, -5.339799880981445, -5.424799919128418, -5.556399822235107, -5.64769983291626, -5.6539998054504395, -5.877699851989746, -6.064799785614014, -6.132199764251709, -6.298099994659424, -6.429200172424316, -6.481800079345703, -6.582600116729736, -6.738800048828125, -6.783599853515625, -6.822199821472168, -6.888199806213379, -6.882800102233887, -6.881800174713135, -6.907599925994873, -6.921899795532227, -6.9257001876831055, -6.931399822235107, -6.990799903869629, -7.020100116729736, -7.05109977722168, -7.079999923706055, -7.153900146484375, -6.000500202178955, -3.123300075531006, -5.108799934387207, -5.676799774169922, -5.148499965667725, -5.949900150299072, -6.524099826812744, -4.4670000076293945, -6.255499839782715, -5.848199844360352, -3.6640000343322754, -5.419300079345703, -6.219900131225586, -4.139200210571289, -5.329599857330322, -5.978700160980225, -5.0655999183654785, -5.293499946594238, -4.833700180053711, -5.931600093841553, -5.374599933624268, -5.4953999519348145, -5.148600101470947, -4.2769999504089355, -5.013899803161621, -4.442399978637695, -5.441299915313721, -5.394599914550781, -5.286200046539307, -5.378900051116943, -5.130199909210205, -4.9542999267578125, -5.373499870300293, -5.397600173950195, -4.342700004577637, -4.535299777984619, -4.791200160980225, -5.392300128936768, -5.432799816131592, -5.493199825286865, -5.511499881744385, -5.779099941253662, -5.842199802398682, -5.855800151824951, -5.9653000831604, -5.995500087738037, -6.190199851989746, -6.2540998458862305, -6.259200096130371, -6.2855000495910645, -6.300000190734863, -6.320300102233887, -6.451099872589111, -6.511300086975098, -6.537600040435791, -6.605199813842773, -6.630000114440918, -6.652100086212158, -6.698500156402588, -6.732999801635742, -6.764100074768066, -6.797800064086914, -6.940499782562256, -6.957200050354004, -5.414899826049805, -6.024099826812744, -5.342400074005127, -5.934299945831299, -4.497799873352051, -4.6305999755859375, -5.225599765777588, -5.339900016784668, -5.906899929046631, -5.573500156402588, -5.503200054168701, -3.7846999168395996, -4.333499908447266, -4.443399906158447, -4.407599925994873, -5.54010009765625, -5.57919979095459, -5.0391998291015625, -5.417500019073486, -5.453700065612793, -5.5920000076293945, -5.359600067138672, -5.125699996948242, -5.464600086212158, -5.539299964904785, -5.684000015258789]}, \"token.table\": {\"Topic\": [2, 2, 4, 2, 1, 3, 1, 2, 4, 2, 4, 1, 2, 3, 1, 2, 5, 2, 4, 5, 4, 2, 4, 5, 2, 2, 4, 5, 3, 4, 4, 2, 4, 2, 3, 4, 5, 3, 1, 2, 5, 1, 2, 5, 5, 2, 4, 3, 3, 2, 4, 3, 4, 3, 2, 4, 1, 2, 4, 5, 2, 1, 5, 5, 3, 4, 2, 4, 5, 2, 5, 5, 2, 4, 4, 3, 1, 2, 3, 4, 5, 2, 3, 2, 3, 4, 5, 1, 4, 5, 2, 4, 5, 1, 2, 4, 3, 4, 1, 4, 5, 2, 5, 5, 3, 3, 1, 4, 1, 2, 4, 5, 5, 3, 4, 1, 2, 3, 2, 5, 2, 1, 2, 3, 3, 3, 1, 2, 4, 1, 2, 3, 4, 5, 1, 2, 5, 1, 2, 3, 1, 1, 2, 5, 1, 2, 3, 1, 2, 3, 4, 5, 1, 2, 3, 4, 5, 2, 3, 4, 5, 2, 3, 4, 5, 2, 5, 1, 3, 3, 4, 5, 5, 1, 2, 2, 2, 4, 1, 2, 4, 2, 1, 3, 3, 4, 2, 3, 2, 2, 2, 2, 2, 5, 3, 3, 4, 1, 2, 5, 1, 2, 4, 4, 1, 2, 3, 4, 5, 5, 5, 4, 5, 4, 1, 2, 4, 2, 4, 1, 2, 4, 5, 1, 2, 3, 4, 5, 2, 4, 5, 3, 3, 1, 3, 4, 5, 1, 2, 3, 4, 5, 1, 5, 3, 5, 4, 4, 4, 2, 3, 5, 3, 1, 2, 3, 4, 5, 3, 3, 1, 2, 5, 4, 2, 3, 5, 1, 1, 5, 2, 3, 4, 2, 3, 5, 2, 3, 5, 4, 4, 2, 3, 4, 5, 2, 3, 3, 5, 2, 4, 5, 5, 1, 4, 5, 4, 1, 4, 3, 5, 5, 5, 2, 1, 2, 3, 1, 3, 5, 5, 3, 2, 3, 1, 2, 1, 2, 4, 5, 5, 2, 3, 5, 5, 5, 5, 2, 5, 1, 1, 3, 4, 5, 3, 4, 5, 2, 2, 4, 2, 3, 4, 2, 4, 5, 4, 4, 4, 2, 3, 4, 5, 1, 4, 5, 1, 2, 3, 4, 5, 1, 2, 5, 2, 3, 4, 5, 1, 4, 1, 3, 1, 1, 2, 5, 4, 1, 2, 3, 4, 5, 2, 1, 2, 3, 4, 5, 4, 5, 1, 3, 1, 2, 4, 3, 4, 3, 4, 1, 1, 2, 4, 5, 4, 5, 1, 2, 3, 4, 5, 3, 2, 2, 1, 1, 2, 3, 4, 5, 2, 3, 4, 5, 3, 1, 3, 1, 3, 1, 3, 4, 5, 1, 2, 4, 5, 5, 4, 2, 4, 4, 4, 2, 3, 4, 5, 1, 2, 2, 2, 3, 4, 5, 1, 4, 4, 2, 1, 5, 1, 2, 3, 4, 5, 2, 3, 4, 5, 1, 3, 5, 5, 1, 3, 4, 1, 1, 2, 4, 1, 2, 4, 3, 1, 2, 3, 4, 5, 1, 2, 3], \"Freq\": [0.9990132451057434, 0.9983383417129517, 0.9948616623878479, 0.9988593459129333, 0.07039528340101242, 0.9268712401390076, 0.014145758002996445, 0.35678744316101074, 0.628700315952301, 0.8020836114883423, 0.19731023907661438, 0.9877257347106934, 0.0908937007188797, 0.9054411053657532, 0.9958704710006714, 0.9722700119018555, 0.028123512864112854, 0.7848084568977356, 0.10920117795467377, 0.10560113936662674, 0.9993131756782532, 0.4017656445503235, 0.115477554500103, 0.48276031017303467, 0.997742772102356, 0.2515382170677185, 0.2820763885974884, 0.46610915660858154, 0.16208499670028687, 0.837751030921936, 0.999258816242218, 0.9980372190475464, 0.9944767355918884, 0.03319263830780983, 0.8181009292602539, 0.07029029726982117, 0.07810033112764359, 0.9961552023887634, 0.35501694679260254, 0.420760840177536, 0.22352918982505798, 0.644384503364563, 0.16514375805854797, 0.19104866683483124, 0.9989384412765503, 0.49060413241386414, 0.5090411305427551, 0.9996171593666077, 0.9974920749664307, 0.43158653378486633, 0.5680539608001709, 0.9616374373435974, 0.03678394481539726, 0.995696485042572, 0.9552446603775024, 0.04474669322371483, 0.0017897265497595072, 0.5060948729515076, 0.175393208861351, 0.316781610250473, 0.9979212880134583, 0.9927404522895813, 0.997475266456604, 0.9936124682426453, 0.9976447224617004, 0.993729293346405, 0.7704402804374695, 0.004402515944093466, 0.22452829778194427, 0.808184027671814, 0.19085083901882172, 0.9979779124259949, 0.9957922697067261, 0.9924076795578003, 0.9969759583473206, 0.99620121717453, 0.10047677159309387, 0.12134502083063126, 0.3029761016368866, 0.4088631570339203, 0.06724214553833008, 0.9982966184616089, 0.9918578267097473, 0.13556380569934845, 0.14955748617649078, 0.2728768289089203, 0.4416756331920624, 0.014280487783253193, 0.9853537082672119, 0.9992826581001282, 0.39411765336990356, 0.5931470394134521, 0.01248039212077856, 0.9953381419181824, 0.5422207117080688, 0.45785707235336304, 0.6799909472465515, 0.3194967806339264, 0.9964872002601624, 0.9616580009460449, 0.03786054998636246, 0.9963361620903015, 0.9939975738525391, 0.9963874816894531, 0.9968063235282898, 0.9967137575149536, 0.8085098266601562, 0.19054053723812103, 0.9958759546279907, 0.048993002623319626, 0.37125808000564575, 0.5792061686515808, 0.9930686950683594, 0.013740905560553074, 0.9824747443199158, 0.4529145359992981, 0.5458200573921204, 0.999829113483429, 0.07081415504217148, 0.9290816783905029, 0.9977344274520874, 0.9956827163696289, 0.12727142870426178, 0.8713197708129883, 0.9965750575065613, 0.9927243590354919, 0.7153806686401367, 0.16679860651493073, 0.1149057000875473, 0.2891328036785126, 0.10342962294816971, 0.20568391680717468, 0.27267810702323914, 0.12928703427314758, 0.948119044303894, 0.05137590691447258, 0.999588668346405, 0.4751845896244049, 0.3607143461704254, 0.1637190580368042, 0.9967644810676575, 0.9954754114151001, 0.28159013390541077, 0.7177788019180298, 0.7949387431144714, 0.20471051335334778, 0.9949790835380554, 0.9899305105209351, 0.20971809327602386, 0.28395459055900574, 0.4027329683303833, 0.10393109172582626, 0.007163950242102146, 0.2877520024776459, 0.43341898918151855, 0.14447300136089325, 0.12656311690807343, 0.1636369377374649, 0.18790102005004883, 0.6029137969017029, 0.04561646655201912, 0.2802191376686096, 0.16552627086639404, 0.4114328622817993, 0.14296895265579224, 0.27060192823410034, 0.7291755676269531, 0.9950863122940063, 0.9993681907653809, 0.6942160129547119, 0.16311092674732208, 0.14321935176849365, 0.9966431856155396, 0.5559886693954468, 0.4427691400051117, 0.9985345005989075, 0.996381402015686, 0.9960718750953674, 0.380229115486145, 0.47487130761146545, 0.14445385336875916, 0.9963540434837341, 0.8807116150856018, 0.115713931620121, 0.052682746201753616, 0.9466170072555542, 0.9994839429855347, 0.9956800937652588, 0.9993748664855957, 0.9984070658683777, 0.9980022311210632, 0.9987110495567322, 0.7833073139190674, 0.21601766347885132, 0.9926069974899292, 0.9975618124008179, 0.9980001449584961, 0.028193408623337746, 0.969419538974762, 0.9948983788490295, 0.8994519710540771, 0.0992901474237442, 0.9990993738174438, 0.9988330006599426, 0.9879798293113708, 0.29342910647392273, 0.3689313232898712, 0.19132950901985168, 0.145856574177742, 0.9961988925933838, 0.9987660646438599, 0.901620090007782, 0.09759805351495743, 0.9941505193710327, 0.0006756166112609208, 0.6080549359321594, 0.391182005405426, 0.8618484735488892, 0.13779176771640778, 0.40369704365730286, 0.270974725484848, 0.07742135226726532, 0.2470109760761261, 0.016613002866506577, 0.5281550884246826, 0.07060526311397552, 0.37725362181663513, 0.00761429313570261, 0.9974903464317322, 0.41677048802375793, 0.583023190498352, 0.9980795979499817, 0.9963001012802124, 0.12435117363929749, 0.8082826733589172, 0.054714519530534744, 0.012435117736458778, 0.0075026145204901695, 0.5367255210876465, 0.13677844405174255, 0.28105950355529785, 0.03751307353377342, 0.9961292147636414, 0.9949369430541992, 0.2332410365343094, 0.7659131288528442, 0.994926929473877, 0.9959258437156677, 0.9995152354240417, 0.6625500321388245, 0.10301442444324493, 0.23464396595954895, 0.9949820041656494, 0.034894909709692, 0.16831663250923157, 0.06732665002346039, 0.3690650165081024, 0.36044391989707947, 0.9932497143745422, 0.9965861439704895, 0.11181928962469101, 0.17044299840927124, 0.7170547842979431, 0.9936266541481018, 0.3206069767475128, 0.5765856504440308, 0.1026449203491211, 0.9938527345657349, 0.10456307232379913, 0.8937652707099915, 0.09554994106292725, 0.7931954264640808, 0.11125678569078445, 0.6028411984443665, 0.36260002851486206, 0.034320168197155, 0.7106238007545471, 0.28879234194755554, 0.9932087063789368, 0.9976807236671448, 0.9960043430328369, 0.5391589999198914, 0.20993413031101227, 0.25071820616722107, 0.00021868139447178692, 0.29232504963874817, 0.7068595886230469, 0.9988431334495544, 0.999255359172821, 0.08819098025560379, 0.057916462421417236, 0.8529515266418457, 0.9989839196205139, 0.9936925172805786, 0.8493335843086243, 0.14815960824489594, 0.9951828718185425, 0.8372706174850464, 0.162873312830925, 0.9988964796066284, 0.9982197284698486, 0.9984363913536072, 0.992835521697998, 0.9982115626335144, 0.2927859127521515, 0.04231010377407074, 0.6651148200035095, 0.3945188522338867, 0.020764149725437164, 0.5832838416099548, 0.9956811666488647, 0.9998744130134583, 0.9991195201873779, 0.9972457885742188, 0.9945378303527832, 0.9969599843025208, 0.602215588092804, 0.3961944878101349, 0.06361884623765945, 0.9356625080108643, 0.9981350302696228, 0.8916916847229004, 0.10731864720582962, 0.9941511154174805, 0.9971994161605835, 0.9991071224212646, 0.9994173645973206, 0.9072615504264832, 0.09269712120294571, 0.9959187507629395, 0.9347888827323914, 0.0642976462841034, 0.8082125782966614, 0.19071941077709198, 0.9979731440544128, 0.2248435765504837, 0.7753950953483582, 0.9990883469581604, 0.9959187507629395, 0.9979152679443359, 0.10610410571098328, 0.3611433207988739, 0.5314939618110657, 0.9027871489524841, 0.09667151421308517, 0.997452974319458, 0.9987362027168274, 0.9987068772315979, 0.9992986917495728, 0.15142972767353058, 0.44085589051246643, 0.12639497220516205, 0.2814883291721344, 0.9889137148857117, 0.3215622007846832, 0.6787071228027344, 0.9991637468338013, 0.26029884815216064, 0.1901313215494156, 0.5007923245429993, 0.04866456612944603, 0.042917534708976746, 0.8349410891532898, 0.12224994599819183, 0.20925234258174896, 0.4548419117927551, 0.23305949568748474, 0.10274665802717209, 0.9860007762908936, 0.9961053729057312, 0.7831619381904602, 0.21473795175552368, 0.9901633858680725, 0.7039913535118103, 0.02548384852707386, 0.26758041977882385, 0.9963534474372864, 0.2984996736049652, 0.0028428540099412203, 0.07959990948438644, 0.5511583089828491, 0.06751777976751328, 0.9943900108337402, 0.9979702234268188, 0.04008006677031517, 0.1881091147661209, 0.6573131084442139, 0.11436178535223007, 0.9731367230415344, 0.024802586063742638, 0.9326640367507935, 0.065496064722538, 0.9973960518836975, 0.02724197879433632, 0.9724560976028442, 0.2463415265083313, 0.7525773644447327, 0.08753310889005661, 0.9109927415847778, 0.9975937604904175, 0.9939561486244202, 0.9948466420173645, 0.7514938712120056, 0.24839167296886444, 0.3828531801700592, 0.616136908531189, 0.9975882172584534, 0.36231154203414917, 0.21087664365768433, 0.2013235092163086, 0.22538325190544128, 0.9980669021606445, 0.9991087913513184, 0.9990468621253967, 0.993121325969696, 0.05547354370355606, 0.47311916947364807, 0.17279690504074097, 0.08161624521017075, 0.21679314970970154, 0.37805843353271484, 0.24812766909599304, 0.25871673226356506, 0.11504881829023361, 0.9982475638389587, 0.20131723582744598, 0.7971073985099792, 0.9949743747711182, 0.9932361841201782, 0.04364664480090141, 0.7419930100440979, 0.1496456414461136, 0.0665091723203659, 0.0555025115609169, 0.4056093990802765, 0.2119019627571106, 0.3267664313316345, 0.9962180256843567, 0.9975098371505737, 0.3307802677154541, 0.6690782308578491, 0.9995312094688416, 0.9995654225349426, 0.6138373017311096, 0.007315688766539097, 0.1168808862566948, 0.26191866397857666, 0.8067668676376343, 0.18982750177383423, 0.992870569229126, 0.09288139641284943, 0.541894793510437, 0.281452476978302, 0.08372846990823746, 0.06128256767988205, 0.9386082291603088, 0.997395932674408, 0.9970518350601196, 0.8212651014328003, 0.1785629391670227, 0.2231159210205078, 0.41904544830322266, 0.13124465942382812, 0.09187126159667969, 0.1349945068359375, 0.33518990874290466, 0.414866179227829, 0.23811304569244385, 0.010989832691848278, 0.049862779676914215, 0.9473928213119507, 0.9981521964073181, 0.9922802448272705, 0.04484700784087181, 0.11309245228767395, 0.8413688540458679, 0.9921813607215881, 0.9943575859069824, 0.04583139717578888, 0.9522745609283447, 0.6153535842895508, 0.381587952375412, 0.9991404414176941, 0.9963107705116272, 0.0003598227340262383, 0.40480056405067444, 0.2032998502254486, 0.3547852039337158, 0.03670191764831543, 0.0065695177763700485, 0.9039656519889832, 0.08934544026851654], \"Term\": [\"afford\", \"affordable\", \"airport\", \"america\", \"app\", \"app\", \"area\", \"area\", \"area\", \"areas\", \"areas\", \"art\", \"balance\", \"balance\", \"beer\", \"benefits\", \"benefits\", \"better\", \"better\", \"better\", \"bike\", \"build\", \"build\", \"build\", \"buildings\", \"built\", \"built\", \"built\", \"bus\", \"bus\", \"buses\", \"businesses\", \"busses\", \"call\", \"call\", \"call\", \"call\", \"cameras\", \"canada\", \"canada\", \"canada\", \"canadian\", \"canadian\", \"canadian\", \"cancelled\", \"car\", \"car\", \"card\", \"cards\", \"cars\", \"cars\", \"caught\", \"caught\", \"cell\", \"cities\", \"cities\", \"city\", \"city\", \"city\", \"city\", \"class\", \"coffee\", \"conservative\", \"conservatives\", \"cops\", \"corridor\", \"cost\", \"cost\", \"cost\", \"costs\", \"costs\", \"council\", \"countries\", \"crossing\", \"crowded\", \"customer\", \"day\", \"day\", \"day\", \"day\", \"day\", \"density\", \"discount\", \"done\", \"done\", \"done\", \"done\", \"doors\", \"doors\", \"doug\", \"downtown\", \"downtown\", \"downtown\", \"downvote\", \"drive\", \"drive\", \"driver\", \"driver\", \"drove\", \"east\", \"east\", \"economy\", \"elected\", \"election\", \"enforcement\", \"evasion\", \"events\", \"events\", \"exclude\", \"existing\", \"existing\", \"existing\", \"experts\", \"express\", \"express\", \"family\", \"family\", \"fare\", \"federal\", \"federal\", \"fees\", \"festival\", \"fine\", \"fine\", \"fined\", \"fines\", \"fire\", \"fire\", \"fire\", \"first\", \"first\", \"first\", \"first\", \"first\", \"food\", \"food\", \"ford\", \"free\", \"free\", \"free\", \"french\", \"fuel\", \"funding\", \"funding\", \"gas\", \"gas\", \"gates\", \"gender\", \"getting\", \"getting\", \"getting\", \"getting\", \"give\", \"give\", \"give\", \"give\", \"give\", \"go\", \"go\", \"go\", \"go\", \"going\", \"going\", \"going\", \"going\", \"government\", \"government\", \"grocery\", \"guy\", \"happened\", \"happened\", \"happened\", \"harris\", \"health\", \"health\", \"higher\", \"highways\", \"hill\", \"home\", \"home\", \"home\", \"homes\", \"hospital\", \"hospital\", \"hour\", \"hour\", \"housing\", \"incident\", \"income\", \"increase\", \"increased\", \"increasing\", \"infrastructure\", \"infrastructure\", \"inspector\", \"inspectors\", \"intersection\", \"jobs\", \"jobs\", \"john\", \"kids\", \"kids\", \"lane\", \"lanes\", \"lcbo\", \"let\", \"let\", \"let\", \"let\", \"liberal\", \"liberals\", \"light\", \"light\", \"lights\", \"live\", \"live\", \"live\", \"living\", \"living\", \"local\", \"local\", \"local\", \"local\", \"lot\", \"lot\", \"lot\", \"lot\", \"lot\", \"low\", \"lrt\", \"lrt\", \"machine\", \"machines\", \"man\", \"man\", \"man\", \"man\", \"many\", \"many\", \"many\", \"many\", \"many\", \"maps\", \"mayor\", \"metrolinx\", \"metrolinx\", \"mins\", \"minute\", \"minutes\", \"money\", \"money\", \"money\", \"monthly\", \"new\", \"new\", \"new\", \"new\", \"new\", \"officer\", \"officers\", \"ontario\", \"ontario\", \"ontario\", \"packed\", \"paid\", \"paid\", \"paid\", \"parents\", \"party\", \"party\", \"pass\", \"pass\", \"pass\", \"pay\", \"pay\", \"pay\", \"paying\", \"paying\", \"pc\", \"peak\", \"pedestrian\", \"people\", \"people\", \"people\", \"people\", \"person\", \"person\", \"phone\", \"plan\", \"planning\", \"planning\", \"planning\", \"plans\", \"plant\", \"platform\", \"platform\", \"platforms\", \"pm\", \"pm\", \"police\", \"political\", \"politicians\", \"politics\", \"population\", \"post\", \"post\", \"post\", \"power\", \"power\", \"power\", \"premier\", \"presto\", \"prices\", \"privacy\", \"products\", \"profit\", \"program\", \"program\", \"project\", \"project\", \"projects\", \"property\", \"property\", \"proposal\", \"proposed\", \"province\", \"provincial\", \"public\", \"public\", \"pump\", \"radio\", \"radio\", \"rail\", \"rail\", \"readers\", \"relief\", \"relief\", \"rent\", \"rental\", \"richmond\", \"ride\", \"ride\", \"ride\", \"roads\", \"roads\", \"rob\", \"route\", \"routes\", \"rush\", \"said\", \"said\", \"said\", \"said\", \"sale\", \"scarborough\", \"scarborough\", \"school\", \"service\", \"service\", \"service\", \"service\", \"services\", \"services\", \"services\", \"shit\", \"shit\", \"shit\", \"shit\", \"shop\", \"signal\", \"site\", \"site\", \"sites\", \"source\", \"source\", \"source\", \"south\", \"stations\", \"stations\", \"stations\", \"stations\", \"stations\", \"sticker\", \"stickers\", \"stop\", \"stop\", \"stop\", \"stop\", \"stops\", \"stops\", \"store\", \"store\", \"stores\", \"street\", \"street\", \"streetcar\", \"streetcar\", \"streetcars\", \"streetcars\", \"students\", \"subreddit\", \"subsidized\", \"subway\", \"subway\", \"subways\", \"subways\", \"suicide\", \"system\", \"system\", \"system\", \"system\", \"tap\", \"tax\", \"taxes\", \"teachers\", \"things\", \"things\", \"things\", \"things\", \"things\", \"think\", \"think\", \"think\", \"think\", \"ticket\", \"tickets\", \"tickets\", \"tiff\", \"tokens\", \"told\", \"told\", \"told\", \"told\", \"toronto\", \"toronto\", \"toronto\", \"toronto\", \"tory\", \"tracks\", \"traffic\", \"traffic\", \"train\", \"trains\", \"transit\", \"transit\", \"transit\", \"transit\", \"transition\", \"transition\", \"transport\", \"ttc\", \"ttc\", \"ttc\", \"ttc\", \"ttcstation\", \"ttcstation\", \"tunnel\", \"units\", \"urllink\", \"urllink\", \"us\", \"us\", \"us\", \"us\", \"us\", \"using\", \"using\", \"using\", \"using\", \"video\", \"video\", \"vote\", \"voted\", \"walk\", \"walk\", \"walk\", \"wallet\", \"walls\", \"walttcstation\", \"walttcstation\", \"water\", \"water\", \"west\", \"woman\", \"work\", \"work\", \"work\", \"work\", \"work\", \"world\", \"world\", \"world\"]}, \"R\": 30, \"lambda.step\": 0.01, \"plot.opts\": {\"xlab\": \"PC1\", \"ylab\": \"PC2\"}, \"topic.order\": [1, 2, 3, 4, 5]};\n",
       "\n",
       "function LDAvis_load_lib(url, callback){\n",
       "  var s = document.createElement('script');\n",
       "  s.src = url;\n",
       "  s.async = true;\n",
       "  s.onreadystatechange = s.onload = callback;\n",
       "  s.onerror = function(){console.warn(\"failed to load library \" + url);};\n",
       "  document.getElementsByTagName(\"head\")[0].appendChild(s);\n",
       "}\n",
       "\n",
       "if(typeof(LDAvis) !== \"undefined\"){\n",
       "   // already loaded: just create the visualization\n",
       "   !function(LDAvis){\n",
       "       new LDAvis(\"#\" + \"ldavis_el3150421829689941204763445738\", ldavis_el3150421829689941204763445738_data);\n",
       "   }(LDAvis);\n",
       "}else if(typeof define === \"function\" && define.amd){\n",
       "   // require.js is available: use it to load d3/LDAvis\n",
       "   require.config({paths: {d3: \"https://cdnjs.cloudflare.com/ajax/libs/d3/3.5.5/d3.min\"}});\n",
       "   require([\"d3\"], function(d3){\n",
       "      window.d3 = d3;\n",
       "      LDAvis_load_lib(\"https://cdn.rawgit.com/bmabey/pyLDAvis/files/ldavis.v1.0.0.js\", function(){\n",
       "        new LDAvis(\"#\" + \"ldavis_el3150421829689941204763445738\", ldavis_el3150421829689941204763445738_data);\n",
       "      });\n",
       "    });\n",
       "}else{\n",
       "    // require.js not available: dynamically load d3 & LDAvis\n",
       "    LDAvis_load_lib(\"https://cdnjs.cloudflare.com/ajax/libs/d3/3.5.5/d3.min.js\", function(){\n",
       "         LDAvis_load_lib(\"https://cdn.rawgit.com/bmabey/pyLDAvis/files/ldavis.v1.0.0.js\", function(){\n",
       "                 new LDAvis(\"#\" + \"ldavis_el3150421829689941204763445738\", ldavis_el3150421829689941204763445738_data);\n",
       "            })\n",
       "         });\n",
       "}\n",
       "</script>"
      ],
      "text/plain": [
       "<IPython.core.display.HTML object>"
      ]
     },
     "execution_count": 38,
     "metadata": {},
     "output_type": "execute_result"
    }
   ],
   "source": [
    "lda = gensim.models.ldamodel.LdaModel.load('..\\Models\\model5.gensim')\n",
    "lda_display = pyLDAvis.gensim.prepare(lda, corpus, dictionary, sort_topics=False)\n",
    "pyLDAvis.display(lda_display)"
   ]
  },
  {
   "cell_type": "code",
   "execution_count": 44,
   "metadata": {},
   "outputs": [],
   "source": [
    "#ldamodel.save('..\\Models\\model5.gensim')\n",
    "#pyLDAvis.save_html(lda_display, '..\\Visualisations\\5 topics.html')"
   ]
  }
 ],
 "metadata": {
  "kernelspec": {
   "display_name": "Python 3",
   "language": "python",
   "name": "python3"
  },
  "language_info": {
   "codemirror_mode": {
    "name": "ipython",
    "version": 3
   },
   "file_extension": ".py",
   "mimetype": "text/x-python",
   "name": "python",
   "nbconvert_exporter": "python",
   "pygments_lexer": "ipython3",
   "version": "3.7.3"
  }
 },
 "nbformat": 4,
 "nbformat_minor": 2
}
