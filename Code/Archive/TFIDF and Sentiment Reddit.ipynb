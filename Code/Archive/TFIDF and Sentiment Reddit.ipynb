{
 "cells": [
  {
   "cell_type": "code",
   "execution_count": 2,
   "metadata": {},
   "outputs": [],
   "source": [
    "import pandas as pd\n",
    "import spacy\n",
    "from spacy.lang.en import English\n",
    "import nltk\n",
    "from nltk.tokenize import word_tokenize\n",
    "from nltk.stem import WordNetLemmatizer\n",
    "from nltk.corpus import wordnet\n",
    "from nltk import ngrams\n",
    "import re\n",
    "import gensim\n",
    "from gensim import corpora\n",
    "import pyLDAvis.gensim\n",
    "from gensim.models import CoherenceModel\n",
    "from gensim.models.wrappers import LdaMallet\n",
    "from gensim.models import Phrases\n",
    "from gensim.models.phrases import Phraser \n",
    "import pickle\n",
    "from collections import OrderedDict\n",
    "import matplotlib.pyplot as plt\n",
    "import os\n",
    "import datetime as dt\n",
    "from nltk.sentiment.vader import SentimentIntensityAnalyzer as SIA\n",
    "import seaborn as sns; sns.set_style(\"whitegrid\"); sns.set_palette(\"Set2\")\n",
    "import matplotlib.pyplot as plt \n",
    "from sklearn.feature_extraction.text import TfidfTransformer\n",
    "from sklearn.feature_extraction.text import CountVectorizer\n",
    "from sklearn.feature_extraction.text import TfidfVectorizer"
   ]
  },
  {
   "cell_type": "code",
   "execution_count": 81,
   "metadata": {
    "scrolled": true
   },
   "outputs": [],
   "source": [
    "## Load mallet package\n",
    "os.environ['MALLET_HOME'] = 'C:/Users/josh.a.peters/Desktop/mallet-2.0.8/mallet-2.0.8' # update this path\n",
    "mallet_path = 'C:/Users/josh.a.peters/Desktop/mallet-2.0.8/mallet-2.0.8/bin/mallet' # update this path"
   ]
  },
  {
   "cell_type": "code",
   "execution_count": 11,
   "metadata": {},
   "outputs": [],
   "source": [
    "import ast"
   ]
  },
  {
   "cell_type": "code",
   "execution_count": 12,
   "metadata": {},
   "outputs": [],
   "source": [
    "reddit_df = pd.read_csv('C:/Users/josh.a.peters/Desktop/reddit_df.csv')\n",
    "reddit_df['tokenized_list'] = reddit_df['tokenized_list'].apply(lambda x: ast.literal_eval(x))"
   ]
  },
  {
   "cell_type": "code",
   "execution_count": 13,
   "metadata": {},
   "outputs": [],
   "source": [
    "text_data = reddit_df['tokenized_list'].tolist()"
   ]
  },
  {
   "cell_type": "code",
   "execution_count": 3,
   "metadata": {},
   "outputs": [
    {
     "name": "stderr",
     "output_type": "stream",
     "text": [
      "<>:1: DeprecationWarning: invalid escape sequence \\M\n",
      "<>:1: DeprecationWarning: invalid escape sequence \\M\n",
      "<>:1: DeprecationWarning: invalid escape sequence \\M\n",
      "<ipython-input-3-22f026b1ff07>:1: DeprecationWarning: invalid escape sequence \\M\n",
      "  test = gensim.models.ldamodel.LdaModel.load('..\\Models\\model6.gensim')\n"
     ]
    }
   ],
   "source": [
    "test = gensim.models.ldamodel.LdaModel.load('..\\Models\\model6.gensim')\n"
   ]
  },
  {
   "cell_type": "code",
   "execution_count": null,
   "metadata": {},
   "outputs": [],
   "source": []
  },
  {
   "cell_type": "code",
   "execution_count": 15,
   "metadata": {
    "scrolled": true
   },
   "outputs": [
    {
     "name": "stderr",
     "output_type": "stream",
     "text": [
      "C:\\Users\\josh.a.peters\\AppData\\Local\\Continuum\\anaconda3\\lib\\site-packages\\pyLDAvis\\_prepare.py:257: FutureWarning: Sorting because non-concatenation axis is not aligned. A future version\n",
      "of pandas will change to not sort by default.\n",
      "\n",
      "To accept the future behavior, pass 'sort=False'.\n",
      "\n",
      "To retain the current behavior and silence the warning, pass 'sort=True'.\n",
      "\n",
      "  return pd.concat([default_term_info] + list(topic_dfs))\n"
     ]
    }
   ],
   "source": [
    "#ldamodel = gensim.models.ldamodel.LdaModel.load('..\\Models\\model5.gensim')\n",
    "\n",
    "lda_display = pyLDAvis.gensim.prepare(test, corpus, dictionary, sort_topics=False)\n",
    "pyLDAvis.display(lda_display)\n",
    "pyLDAvis.save_html(lda_display, r'../Visualisations/visualisation_v6.html')\n"
   ]
  },
  {
   "cell_type": "markdown",
   "metadata": {},
   "source": [
    "# Vader"
   ]
  },
  {
   "cell_type": "code",
   "execution_count": 210,
   "metadata": {},
   "outputs": [],
   "source": [
    "from nltk import sent_tokenize"
   ]
  },
  {
   "cell_type": "code",
   "execution_count": 208,
   "metadata": {},
   "outputs": [],
   "source": [
    "def calculate_sent_score_sent(df, column):\n",
    "    \"\"\"\n",
    "    (DataFrame, string -->list)\n",
    "\n",
    "    For a given column containing text, calculate the sentiment score for each sentence, and take the average of the whole string\n",
    "    \"\"\"\n",
    "    #initialize vader\n",
    "    sia = SIA()\n",
    "    #empty lists to store results\n",
    "    results = []\n",
    "    results_score = []\n",
    "    results_sent = []\n",
    "    #go through each text value and each sentence, and apply vader\n",
    "    for value in df[column].astype(str):\n",
    "        if value!= 'nan':\n",
    "            sent_list = sent_tokenize(value)\n",
    "            sent_results = []\n",
    "            score = []\n",
    "            for i in range(len(sent_list)):\n",
    "                pol_score = sia.polarity_scores(sent_list[i])\n",
    "                pol_score['text'] = sent_list[i]\n",
    "                sent_results.append(pol_score)\n",
    "                score.append(sent_results[i]['compound'])\n",
    "            if len(sent_list) >0:\n",
    "                full_score = (sum(score))/(len(score))\n",
    "            else:\n",
    "                full_score = sum(score)\n",
    "            results.append(full_score)\n",
    "            results_score.append(score)\n",
    "            results_sent.append(sent_list)\n",
    "\n",
    "        else:\n",
    "            results.append(None)\n",
    "            results_score.append(None)\n",
    "            results_sent.append(None)\n",
    "    #add to df\n",
    "    df['full_post_score'] = results\n",
    "    df['full_post_all_scores'] = results_score\n",
    "    df['full_post_all_sentences'] = results_sent\n",
    "\n",
    "\n",
    "    return df"
   ]
  },
  {
   "cell_type": "code",
   "execution_count": 211,
   "metadata": {},
   "outputs": [],
   "source": [
    "df_vader = calculate_sent_score_sent(reddit_df, 'body')"
   ]
  },
  {
   "cell_type": "code",
   "execution_count": 221,
   "metadata": {},
   "outputs": [
    {
     "data": {
      "text/plain": [
       "array([[<matplotlib.axes._subplots.AxesSubplot object at 0x0000023BDAF68828>]],\n",
       "      dtype=object)"
      ]
     },
     "execution_count": 221,
     "metadata": {},
     "output_type": "execute_result"
    },
    {
     "data": {
      "image/png": "[encoded data removed]",
      "text/plain": [
       "<Figure size 432x288 with 1 Axes>"
      ]
     },
     "metadata": {
      "needs_background": "light"
     },
     "output_type": "display_data"
    }
   ],
   "source": [
    "df_vader.hist('full_post_score', bins= 20 )"
   ]
  },
  {
   "cell_type": "code",
   "execution_count": 229,
   "metadata": {},
   "outputs": [],
   "source": [
    "df_vader['clean_date_sub'] = df_vader['created'].apply(lambda x: dt.datetime.utcfromtimestamp(x)).apply(lambda x: x.strftime('%Y-%m-%d %H:%M:%S'))\n"
   ]
  },
  {
   "cell_type": "code",
   "execution_count": 233,
   "metadata": {},
   "outputs": [],
   "source": [
    "df_vader['year_sub'] = df_vader['clean_date_sub'].str.split(\"-\", expand = True)[0]\n",
    "df_vader['month_sub'] = df_vader['clean_date_sub'].str.split(\"-\", expand = True)[1]\n",
    "df_vader['day_sub'] = df_vader['clean_date_sub'].str.split(\"-\", expand = True)[2].str[:2]"
   ]
  },
  {
   "cell_type": "code",
   "execution_count": 237,
   "metadata": {},
   "outputs": [],
   "source": [
    "#combine year and month\n",
    "df_vader['yearmonth_sub'] = df_vader['year_sub'] + df_vader['month_sub']\n",
    "#combine year month and day\n",
    "df_vader['yearmonthday_sub'] = df_vader['year_sub'] + df_vader['month_sub'] + df_vader['day_sub']\n"
   ]
  },
  {
   "cell_type": "code",
   "execution_count": 245,
   "metadata": {},
   "outputs": [
    {
     "data": {
      "text/plain": [
       "(array([ 0,  1,  2,  3,  4,  5,  6,  7,  8,  9, 10, 11, 12]),\n",
       " <a list of 13 Text xticklabel objects>)"
      ]
     },
     "execution_count": 245,
     "metadata": {},
     "output_type": "execute_result"
    },
    {
     "data": {
      "image/png": "[encoded data removed]",
      "text/plain": [
       "<Figure size 864x360 with 1 Axes>"
      ]
     },
     "metadata": {},
     "output_type": "display_data"
    }
   ],
   "source": [
    "fig, (ax1) = plt.subplots()\n",
    "fig.set_size_inches(12,5)\n",
    "plot = sns.pointplot(x= 'yearmonth_sub', y=\"full_post_score\", data= df_vader)\n",
    "plt.xticks(rotation=90)"
   ]
  },
  {
   "cell_type": "code",
   "execution_count": 246,
   "metadata": {},
   "outputs": [
    {
     "data": {
      "text/plain": [
       "(array([ 0,  1,  2,  3,  4,  5,  6,  7,  8,  9, 10, 11, 12, 13, 14, 15, 16,\n",
       "        17, 18, 19, 20, 21, 22, 23, 24, 25, 26, 27, 28, 29, 30]),\n",
       " <a list of 31 Text xticklabel objects>)"
      ]
     },
     "execution_count": 246,
     "metadata": {},
     "output_type": "execute_result"
    },
    {
     "data": {
      "image/png": "[encoded data removed]",
      "text/plain": [
       "<Figure size 864x360 with 1 Axes>"
      ]
     },
     "metadata": {},
     "output_type": "display_data"
    }
   ],
   "source": [
    "fig, (ax1) = plt.subplots()\n",
    "fig.set_size_inches(12,5)\n",
    "plot = sns.pointplot(x= 'day_sub', y=\"full_post_score\", data= df_vader)\n",
    "plt.xticks(rotation=90)"
   ]
  },
  {
   "cell_type": "code",
   "execution_count": 256,
   "metadata": {},
   "outputs": [],
   "source": [
    "df_vader['sent_flag'] = df_vader['full_post_score'].apply(lambda x : 'pos' if x > 0.5 else ('neg' if x < -0.5 else 'neu'))"
   ]
  },
  {
   "cell_type": "code",
   "execution_count": 261,
   "metadata": {},
   "outputs": [],
   "source": [
    "def prop(df, col1, col2, join):\n",
    "    \"\"\"\n",
    "    (DataFrame, string, string, string --> DataFrame)\n",
    "    Takes original dataframe, two columns and returns a dataframe with a column showing the proportion of the first variable in\n",
    "    the second variable. For example, if the second variable is month, and first is gender, it would show the proportion of males\n",
    "    and females specific to that month\n",
    "    \n",
    "    \"\"\"\n",
    "    prop_group = pd.DataFrame(df.groupby([col1, col2]).count()[join].reset_index())\n",
    "    col2_totals = pd.DataFrame(df.groupby(col2).count()[join]).reset_index()\n",
    "    merge = pd.merge(prop_group, col2_totals, 'outer',col2)\n",
    "    merge['prop']= merge[join +'_x']/ merge[join +'_y']\n",
    "    \n",
    "    return merge"
   ]
  },
  {
   "cell_type": "code",
   "execution_count": 268,
   "metadata": {},
   "outputs": [],
   "source": [
    "prop_sent = prop(df_vader, 'sent_flag', 'yearmonth_sub', 'Unnamed: 0')"
   ]
  },
  {
   "cell_type": "code",
   "execution_count": 272,
   "metadata": {},
   "outputs": [
    {
     "data": {
      "text/html": [
       "<div>\n",
       "<style scoped>\n",
       "    .dataframe tbody tr th:only-of-type {\n",
       "        vertical-align: middle;\n",
       "    }\n",
       "\n",
       "    .dataframe tbody tr th {\n",
       "        vertical-align: top;\n",
       "    }\n",
       "\n",
       "    .dataframe thead th {\n",
       "        text-align: right;\n",
       "    }\n",
       "</style>\n",
       "<table border=\"1\" class=\"dataframe\">\n",
       "  <thead>\n",
       "    <tr style=\"text-align: right;\">\n",
       "      <th></th>\n",
       "      <th>sent_flag</th>\n",
       "      <th>yearmonth_sub</th>\n",
       "      <th>Unnamed: 0_x</th>\n",
       "      <th>Unnamed: 0_y</th>\n",
       "      <th>prop</th>\n",
       "    </tr>\n",
       "  </thead>\n",
       "  <tbody>\n",
       "    <tr>\n",
       "      <th>0</th>\n",
       "      <td>neg</td>\n",
       "      <td>201809</td>\n",
       "      <td>28</td>\n",
       "      <td>1182</td>\n",
       "      <td>0.023689</td>\n",
       "    </tr>\n",
       "    <tr>\n",
       "      <th>1</th>\n",
       "      <td>neu</td>\n",
       "      <td>201809</td>\n",
       "      <td>1112</td>\n",
       "      <td>1182</td>\n",
       "      <td>0.940778</td>\n",
       "    </tr>\n",
       "    <tr>\n",
       "      <th>2</th>\n",
       "      <td>pos</td>\n",
       "      <td>201809</td>\n",
       "      <td>42</td>\n",
       "      <td>1182</td>\n",
       "      <td>0.035533</td>\n",
       "    </tr>\n",
       "    <tr>\n",
       "      <th>3</th>\n",
       "      <td>neg</td>\n",
       "      <td>201810</td>\n",
       "      <td>81</td>\n",
       "      <td>2805</td>\n",
       "      <td>0.028877</td>\n",
       "    </tr>\n",
       "    <tr>\n",
       "      <th>4</th>\n",
       "      <td>neu</td>\n",
       "      <td>201810</td>\n",
       "      <td>2601</td>\n",
       "      <td>2805</td>\n",
       "      <td>0.927273</td>\n",
       "    </tr>\n",
       "  </tbody>\n",
       "</table>\n",
       "</div>"
      ],
      "text/plain": [
       "  sent_flag yearmonth_sub  Unnamed: 0_x  Unnamed: 0_y      prop\n",
       "0       neg        201809            28          1182  0.023689\n",
       "1       neu        201809          1112          1182  0.940778\n",
       "2       pos        201809            42          1182  0.035533\n",
       "3       neg        201810            81          2805  0.028877\n",
       "4       neu        201810          2601          2805  0.927273"
      ]
     },
     "execution_count": 272,
     "metadata": {},
     "output_type": "execute_result"
    }
   ],
   "source": [
    "prop_sent.head()"
   ]
  },
  {
   "cell_type": "code",
   "execution_count": 276,
   "metadata": {},
   "outputs": [
    {
     "data": {
      "text/plain": [
       "(array([ 0,  1,  2,  3,  4,  5,  6,  7,  8,  9, 10, 11, 12]),\n",
       " <a list of 13 Text xticklabel objects>)"
      ]
     },
     "execution_count": 276,
     "metadata": {},
     "output_type": "execute_result"
    },
    {
     "data": {
      "image/png": "[encoded data removed]",
      "text/plain": [
       "<Figure size 864x360 with 1 Axes>"
      ]
     },
     "metadata": {},
     "output_type": "display_data"
    }
   ],
   "source": [
    "fig, (ax1) = plt.subplots()\n",
    "fig.set_size_inches(12,5)\n",
    "plot = sns.pointplot(x= 'yearmonth_sub', y=\"prop\", data= prop_sent[prop_sent['sent_flag'] != 'neu'], hue = 'sent_flag', hue_order=['pos', 'neg'])\n",
    "plt.xticks(rotation=90)"
   ]
  },
  {
   "cell_type": "code",
   "execution_count": 277,
   "metadata": {},
   "outputs": [],
   "source": [
    "def tfidfVectorize(df, col, ngram1, ngram2):\n",
    "    for_vector = []\n",
    "    for value in df[col].astype(str):\n",
    "        if value != 'nan':\n",
    "            for_vector.append(value)\n",
    "    # settings that you use for count vectorizer will go here\n",
    "    tfidf_vectorizer=TfidfVectorizer(use_idf=True, norm=None, ngram_range=(ngram1,ngram2))\n",
    "    \n",
    "    # just send in all your docs here\n",
    "    tfidf_vectorizer_vectors=tfidf_vectorizer.fit_transform(for_vector)\n",
    "    \n",
    "    for i in range(len(for_vector)):\n",
    "        if i == 0:\n",
    "            sum_vector = tfidf_vectorizer_vectors[0].T.todense()\n",
    "        else:\n",
    "            i_vector = tfidf_vectorizer_vectors[i].T.todense()\n",
    "            sum_vector += i_vector \n",
    "            \n",
    "    avg_vector = sum_vector/len(for_vector)\n",
    "    df_tfidf = pd.DataFrame(avg_vector, index=tfidf_vectorizer.get_feature_names(), columns=[\"tfidf\"])\n",
    "    df_tfidf = df_tfidf.sort_values(by=[\"tfidf\"],ascending=False)\n",
    "    \n",
    "    return df_tfidf"
   ]
  },
  {
   "cell_type": "code",
   "execution_count": 287,
   "metadata": {
    "scrolled": true
   },
   "outputs": [
    {
     "data": {
      "text/html": [
       "<div>\n",
       "<style scoped>\n",
       "    .dataframe tbody tr th:only-of-type {\n",
       "        vertical-align: middle;\n",
       "    }\n",
       "\n",
       "    .dataframe tbody tr th {\n",
       "        vertical-align: top;\n",
       "    }\n",
       "\n",
       "    .dataframe thead th {\n",
       "        text-align: right;\n",
       "    }\n",
       "</style>\n",
       "<table border=\"1\" class=\"dataframe\">\n",
       "  <thead>\n",
       "    <tr style=\"text-align: right;\">\n",
       "      <th></th>\n",
       "      <th>tfidf</th>\n",
       "    </tr>\n",
       "  </thead>\n",
       "  <tbody>\n",
       "    <tr>\n",
       "      <th>on the ttc</th>\n",
       "      <td>0.121203</td>\n",
       "    </tr>\n",
       "    <tr>\n",
       "      <th>the ttc is</th>\n",
       "      <td>0.112824</td>\n",
       "    </tr>\n",
       "    <tr>\n",
       "      <th>on the subway</th>\n",
       "      <td>0.106242</td>\n",
       "    </tr>\n",
       "    <tr>\n",
       "      <th>one of the</th>\n",
       "      <td>0.094549</td>\n",
       "    </tr>\n",
       "    <tr>\n",
       "      <th>car crashes into</th>\n",
       "      <td>0.086812</td>\n",
       "    </tr>\n",
       "    <tr>\n",
       "      <th>www cbc ca</th>\n",
       "      <td>0.075783</td>\n",
       "    </tr>\n",
       "    <tr>\n",
       "      <th>toronto citynews ca</th>\n",
       "      <td>0.072343</td>\n",
       "    </tr>\n",
       "    <tr>\n",
       "      <th>https toronto citynews</th>\n",
       "      <td>0.072343</td>\n",
       "    </tr>\n",
       "    <tr>\n",
       "      <th>cbc ca news</th>\n",
       "      <td>0.071930</td>\n",
       "    </tr>\n",
       "    <tr>\n",
       "      <th>https www cbc</th>\n",
       "      <td>0.071930</td>\n",
       "    </tr>\n",
       "    <tr>\n",
       "      <th>news canada toronto</th>\n",
       "      <td>0.065391</td>\n",
       "    </tr>\n",
       "    <tr>\n",
       "      <th>ca news canada</th>\n",
       "      <td>0.065391</td>\n",
       "    </tr>\n",
       "    <tr>\n",
       "      <th>if you re</th>\n",
       "      <td>0.064282</td>\n",
       "    </tr>\n",
       "    <tr>\n",
       "      <th>the ttc has</th>\n",
       "      <td>0.061820</td>\n",
       "    </tr>\n",
       "    <tr>\n",
       "      <th>it would be</th>\n",
       "      <td>0.059809</td>\n",
       "    </tr>\n",
       "    <tr>\n",
       "      <th>in the world</th>\n",
       "      <td>0.056200</td>\n",
       "    </tr>\n",
       "    <tr>\n",
       "      <th>on public transit</th>\n",
       "      <td>0.055244</td>\n",
       "    </tr>\n",
       "    <tr>\n",
       "      <th>to pay for</th>\n",
       "      <td>0.055244</td>\n",
       "    </tr>\n",
       "    <tr>\n",
       "      <th>in front of</th>\n",
       "      <td>0.052595</td>\n",
       "    </tr>\n",
       "    <tr>\n",
       "      <th>www thestar com</th>\n",
       "      <td>0.052595</td>\n",
       "    </tr>\n",
       "    <tr>\n",
       "      <th>https www thestar</th>\n",
       "      <td>0.052595</td>\n",
       "    </tr>\n",
       "    <tr>\n",
       "      <th>is going to</th>\n",
       "      <td>0.051531</td>\n",
       "    </tr>\n",
       "    <tr>\n",
       "      <th>out of the</th>\n",
       "      <td>0.051531</td>\n",
       "    </tr>\n",
       "    <tr>\n",
       "      <th>citynews ca 2019</th>\n",
       "      <td>0.050640</td>\n",
       "    </tr>\n",
       "    <tr>\n",
       "      <th>of the ttc</th>\n",
       "      <td>0.050580</td>\n",
       "    </tr>\n",
       "  </tbody>\n",
       "</table>\n",
       "</div>"
      ],
      "text/plain": [
       "                           tfidf\n",
       "on the ttc              0.121203\n",
       "the ttc is              0.112824\n",
       "on the subway           0.106242\n",
       "one of the              0.094549\n",
       "car crashes into        0.086812\n",
       "www cbc ca              0.075783\n",
       "toronto citynews ca     0.072343\n",
       "https toronto citynews  0.072343\n",
       "cbc ca news             0.071930\n",
       "https www cbc           0.071930\n",
       "news canada toronto     0.065391\n",
       "ca news canada          0.065391\n",
       "if you re               0.064282\n",
       "the ttc has             0.061820\n",
       "it would be             0.059809\n",
       "in the world            0.056200\n",
       "on public transit       0.055244\n",
       "to pay for              0.055244\n",
       "in front of             0.052595\n",
       "www thestar com         0.052595\n",
       "https www thestar       0.052595\n",
       "is going to             0.051531\n",
       "out of the              0.051531\n",
       "citynews ca 2019        0.050640\n",
       "of the ttc              0.050580"
      ]
     },
     "execution_count": 287,
     "metadata": {},
     "output_type": "execute_result"
    }
   ],
   "source": [
    "tfidfVectorize(df_vader[df_vader['sent_flag'] == 'neg'], 'body', 3, 3)[:25]"
   ]
  },
  {
   "cell_type": "code",
   "execution_count": 288,
   "metadata": {},
   "outputs": [
    {
     "data": {
      "text/html": [
       "<div>\n",
       "<style scoped>\n",
       "    .dataframe tbody tr th:only-of-type {\n",
       "        vertical-align: middle;\n",
       "    }\n",
       "\n",
       "    .dataframe tbody tr th {\n",
       "        vertical-align: top;\n",
       "    }\n",
       "\n",
       "    .dataframe thead th {\n",
       "        text-align: right;\n",
       "    }\n",
       "</style>\n",
       "<table border=\"1\" class=\"dataframe\">\n",
       "  <thead>\n",
       "    <tr style=\"text-align: right;\">\n",
       "      <th></th>\n",
       "      <th>tfidf</th>\n",
       "    </tr>\n",
       "  </thead>\n",
       "  <tbody>\n",
       "    <tr>\n",
       "      <th>power station china</th>\n",
       "      <td>0.618822</td>\n",
       "    </tr>\n",
       "    <tr>\n",
       "      <th>on the ttc</th>\n",
       "      <td>0.102747</td>\n",
       "    </tr>\n",
       "    <tr>\n",
       "      <th>the ttc is</th>\n",
       "      <td>0.097260</td>\n",
       "    </tr>\n",
       "    <tr>\n",
       "      <th>horse racing industry</th>\n",
       "      <td>0.080020</td>\n",
       "    </tr>\n",
       "    <tr>\n",
       "      <th>in the city</th>\n",
       "      <td>0.076516</td>\n",
       "    </tr>\n",
       "    <tr>\n",
       "      <th>on the subway</th>\n",
       "      <td>0.076516</td>\n",
       "    </tr>\n",
       "    <tr>\n",
       "      <th>if you re</th>\n",
       "      <td>0.074217</td>\n",
       "    </tr>\n",
       "    <tr>\n",
       "      <th>one of the</th>\n",
       "      <td>0.071193</td>\n",
       "    </tr>\n",
       "    <tr>\n",
       "      <th>out of the</th>\n",
       "      <td>0.067446</td>\n",
       "    </tr>\n",
       "    <tr>\n",
       "      <th>30 pm free</th>\n",
       "      <td>0.065639</td>\n",
       "    </tr>\n",
       "    <tr>\n",
       "      <th>station china 31</th>\n",
       "      <td>0.064016</td>\n",
       "    </tr>\n",
       "    <tr>\n",
       "      <th>it would be</th>\n",
       "      <td>0.061891</td>\n",
       "    </tr>\n",
       "    <tr>\n",
       "      <th>is going to</th>\n",
       "      <td>0.058706</td>\n",
       "    </tr>\n",
       "    <tr>\n",
       "      <th>as well as</th>\n",
       "      <td>0.058023</td>\n",
       "    </tr>\n",
       "    <tr>\n",
       "      <th>some of the</th>\n",
       "      <td>0.058023</td>\n",
       "    </tr>\n",
       "    <tr>\n",
       "      <th>station china 32</th>\n",
       "      <td>0.053347</td>\n",
       "    </tr>\n",
       "    <tr>\n",
       "      <th>the relief line</th>\n",
       "      <td>0.051511</td>\n",
       "    </tr>\n",
       "    <tr>\n",
       "      <th>the rest of</th>\n",
       "      <td>0.048176</td>\n",
       "    </tr>\n",
       "    <tr>\n",
       "      <th>be able to</th>\n",
       "      <td>0.048176</td>\n",
       "    </tr>\n",
       "    <tr>\n",
       "      <th>to the ttc</th>\n",
       "      <td>0.048176</td>\n",
       "    </tr>\n",
       "    <tr>\n",
       "      <th>https www toronto</th>\n",
       "      <td>0.045599</td>\n",
       "    </tr>\n",
       "    <tr>\n",
       "      <th>the fact that</th>\n",
       "      <td>0.045457</td>\n",
       "    </tr>\n",
       "    <tr>\n",
       "      <th>should be free</th>\n",
       "      <td>0.044782</td>\n",
       "    </tr>\n",
       "    <tr>\n",
       "      <th>https www reddit</th>\n",
       "      <td>0.044512</td>\n",
       "    </tr>\n",
       "    <tr>\n",
       "      <th>www reddit com</th>\n",
       "      <td>0.044512</td>\n",
       "    </tr>\n",
       "  </tbody>\n",
       "</table>\n",
       "</div>"
      ],
      "text/plain": [
       "                          tfidf\n",
       "power station china    0.618822\n",
       "on the ttc             0.102747\n",
       "the ttc is             0.097260\n",
       "horse racing industry  0.080020\n",
       "in the city            0.076516\n",
       "on the subway          0.076516\n",
       "if you re              0.074217\n",
       "one of the             0.071193\n",
       "out of the             0.067446\n",
       "30 pm free             0.065639\n",
       "station china 31       0.064016\n",
       "it would be            0.061891\n",
       "is going to            0.058706\n",
       "as well as             0.058023\n",
       "some of the            0.058023\n",
       "station china 32       0.053347\n",
       "the relief line        0.051511\n",
       "the rest of            0.048176\n",
       "be able to             0.048176\n",
       "to the ttc             0.048176\n",
       "https www toronto      0.045599\n",
       "the fact that          0.045457\n",
       "should be free         0.044782\n",
       "https www reddit       0.044512\n",
       "www reddit com         0.044512"
      ]
     },
     "execution_count": 288,
     "metadata": {},
     "output_type": "execute_result"
    }
   ],
   "source": [
    "tfidfVectorize(df_vader[df_vader['sent_flag'] == 'pos'], 'body', 3, 3)[:25]"
   ]
  },
  {
   "cell_type": "code",
   "execution_count": 300,
   "metadata": {},
   "outputs": [],
   "source": [
    "import numpy as np"
   ]
  },
  {
   "cell_type": "code",
   "execution_count": 306,
   "metadata": {},
   "outputs": [
    {
     "data": {
      "text/html": [
       "<div>\n",
       "<style scoped>\n",
       "    .dataframe tbody tr th:only-of-type {\n",
       "        vertical-align: middle;\n",
       "    }\n",
       "\n",
       "    .dataframe tbody tr th {\n",
       "        vertical-align: top;\n",
       "    }\n",
       "\n",
       "    .dataframe thead th {\n",
       "        text-align: right;\n",
       "    }\n",
       "</style>\n",
       "<table border=\"1\" class=\"dataframe\">\n",
       "  <thead>\n",
       "    <tr style=\"text-align: right;\">\n",
       "      <th></th>\n",
       "      <th>term</th>\n",
       "      <th>tfidf</th>\n",
       "      <th>counts</th>\n",
       "    </tr>\n",
       "  </thead>\n",
       "  <tbody>\n",
       "    <tr>\n",
       "      <th>0</th>\n",
       "      <td>on the ttc</td>\n",
       "      <td>0.024270</td>\n",
       "      <td>26</td>\n",
       "    </tr>\n",
       "    <tr>\n",
       "      <th>1</th>\n",
       "      <td>the ttc is</td>\n",
       "      <td>0.022768</td>\n",
       "      <td>24</td>\n",
       "    </tr>\n",
       "    <tr>\n",
       "      <th>2</th>\n",
       "      <td>on the subway</td>\n",
       "      <td>0.020179</td>\n",
       "      <td>22</td>\n",
       "    </tr>\n",
       "    <tr>\n",
       "      <th>3</th>\n",
       "      <td>one of the</td>\n",
       "      <td>0.016675</td>\n",
       "      <td>19</td>\n",
       "    </tr>\n",
       "    <tr>\n",
       "      <th>4</th>\n",
       "      <td>if you re</td>\n",
       "      <td>0.011250</td>\n",
       "      <td>12</td>\n",
       "    </tr>\n",
       "    <tr>\n",
       "      <th>5</th>\n",
       "      <td>on public transit</td>\n",
       "      <td>0.009767</td>\n",
       "      <td>10</td>\n",
       "    </tr>\n",
       "    <tr>\n",
       "      <th>6</th>\n",
       "      <td>to pay for</td>\n",
       "      <td>0.009552</td>\n",
       "      <td>10</td>\n",
       "    </tr>\n",
       "    <tr>\n",
       "      <th>7</th>\n",
       "      <td>it would be</td>\n",
       "      <td>0.008752</td>\n",
       "      <td>11</td>\n",
       "    </tr>\n",
       "    <tr>\n",
       "      <th>8</th>\n",
       "      <td>the ttc has</td>\n",
       "      <td>0.008200</td>\n",
       "      <td>11</td>\n",
       "    </tr>\n",
       "    <tr>\n",
       "      <th>9</th>\n",
       "      <td>www cbc ca</td>\n",
       "      <td>0.002099</td>\n",
       "      <td>12</td>\n",
       "    </tr>\n",
       "    <tr>\n",
       "      <th>10</th>\n",
       "      <td>cbc ca news</td>\n",
       "      <td>0.001133</td>\n",
       "      <td>11</td>\n",
       "    </tr>\n",
       "    <tr>\n",
       "      <th>11</th>\n",
       "      <td>https www cbc</td>\n",
       "      <td>0.001133</td>\n",
       "      <td>11</td>\n",
       "    </tr>\n",
       "    <tr>\n",
       "      <th>12</th>\n",
       "      <td>ca news canada</td>\n",
       "      <td>0.001065</td>\n",
       "      <td>10</td>\n",
       "    </tr>\n",
       "    <tr>\n",
       "      <th>13</th>\n",
       "      <td>news canada toronto</td>\n",
       "      <td>0.001065</td>\n",
       "      <td>10</td>\n",
       "    </tr>\n",
       "    <tr>\n",
       "      <th>14</th>\n",
       "      <td>car crashes into</td>\n",
       "      <td>0.000898</td>\n",
       "      <td>12</td>\n",
       "    </tr>\n",
       "  </tbody>\n",
       "</table>\n",
       "</div>"
      ],
      "text/plain": [
       "                   term     tfidf  counts\n",
       "0            on the ttc  0.024270      26\n",
       "1            the ttc is  0.022768      24\n",
       "2         on the subway  0.020179      22\n",
       "3            one of the  0.016675      19\n",
       "4             if you re  0.011250      12\n",
       "5     on public transit  0.009767      10\n",
       "6            to pay for  0.009552      10\n",
       "7           it would be  0.008752      11\n",
       "8           the ttc has  0.008200      11\n",
       "9            www cbc ca  0.002099      12\n",
       "10          cbc ca news  0.001133      11\n",
       "11        https www cbc  0.001133      11\n",
       "12       ca news canada  0.001065      10\n",
       "13  news canada toronto  0.001065      10\n",
       "14     car crashes into  0.000898      12"
      ]
     },
     "execution_count": 306,
     "metadata": {},
     "output_type": "execute_result"
    }
   ],
   "source": [
    "getTFIDFandCount(df_vader[df_vader['sent_flag'] == 'neg']['body'],(3,3))"
   ]
  },
  {
   "cell_type": "code",
   "execution_count": 305,
   "metadata": {},
   "outputs": [],
   "source": [
    "def getTFIDFandCount(df_col, ngramrange):\n",
    "    \"\"\"(DataFrame, tuple --> DataFrame)\n",
    "    Takes a column of a dataframe and the range for n-gram analysis to find the TF-IDF for each\n",
    "    n-gram in the column.\n",
    "\n",
    "    Returns a DataFrame of the top 10 n-grams, TF-IDF score, and actual count of n-gram appearance.\n",
    "    \"\"\"\n",
    "    cv=CountVectorizer(ngram_range=ngramrange, max_features=15)\n",
    "    word_count_vector=cv.fit_transform(df_col.unique())\n",
    "    feature_names = cv.get_feature_names()\n",
    "\n",
    "    # Transforming top 400 most common words to produce TF-IDF score\n",
    "    tfidf_transformer=TfidfTransformer(smooth_idf=True,use_idf=True)\n",
    "    tfidf_transformer.fit(word_count_vector)\n",
    "    tfidf_vector=tfidf_transformer.transform(word_count_vector)\n",
    "\n",
    "    # Combining TF-IDF score with the words into a dictionary\n",
    "    weights = np.asarray(tfidf_vector.mean(axis=0)).ravel().tolist()\n",
    "    df_tfidf = pd.DataFrame(weights, index=feature_names, columns=[\"tfidf\"])\n",
    "    df_tfidf = df_tfidf.sort_values(by=[\"tfidf\"],ascending=False).reset_index()\n",
    "    df_tfidf.rename(index=str, columns={\"index\": \"term\"}, inplace=True)\n",
    "\n",
    "    # Counting the actual number of occurances and appending to dictionary of word\n",
    "    # with TF-IDF value\n",
    "    count_list = word_count_vector.toarray().sum(axis=0)\n",
    "    actual_count_dict = {\"term\": feature_names, \"counts\": count_list}\n",
    "    actual_count_df = pd.DataFrame.from_records(actual_count_dict)\n",
    "    tfidf_and_count = pd.merge(df_tfidf, actual_count_df, on='term', how='left')\n",
    "    return tfidf_and_count\n",
    "\n",
    "def add_tfidf_column(full_df, month, suffix):\n",
    "    \"\"\"(DataFrame, string, string --> DataFrame)\n",
    "    Takes the filtered dataframe to generate TFIDF scores for, as well as the month\n",
    "    and suffix relating to what the dataframe has been filtered for (i.e. mental health\n",
    "    or sarcastic posts).\n",
    "\n",
    "    Returns the top 10 TFIDF for the filtered dataframe, for that month.\n",
    "    \"\"\"\n",
    "    tfidf_df = getTFIDFandCount(full_df[\"Post_Clean\"],(2, 4))\n",
    "    tfidf_df = tfidf_df[:10]\n",
    "    tfidf_df = tfidf_df.add_suffix(suffix)\n",
    "    return tfidf_df\n",
    "\n",
    "def create_monthly_tfidf(full_df):\n",
    "    \"\"\"(DataFrame --> DataFrame)\n",
    "    Taking the Reddit dataframe and combining it with the dataframe of TF-IDF values\n",
    "    so each month is matched up with the most popular TF-IDFs for that month.\n",
    "\n",
    "    Returns a dataframe with a new column for most popular TF-IDFs of that month.\n",
    "    \"\"\"\n",
    "    all_tfidf = pd.DataFrame()\n",
    "    # Filters out empty posts as well as mental health monday posts, since they\n",
    "    # skew the popular word count\n",
    "\n",
    "    full_df = full_df[~full_df[\"Post_Clean\"].isnull()]\n",
    "    full_df = full_df[~full_df[\"Post_Clean\"].str.contains(\"mental health monday\")]\n",
    "\n",
    "    # Getting the unique month and years for the reddit data and iterating through\n",
    "    # each month-year combination\n",
    "    all_time = full_df.yearmonth_sub.unique()\n",
    "    for month in all_time:\n",
    "        filtered = full_df[full_df.yearmonth_sub == month]\n",
    "        # Generate top 10 monthly TF-IDF for all posts\n",
    "        tfidf_df = getTFIDFandCount(filtered[\"Post_Clean\"],(2, 4))\n",
    "        tfidf_df = tfidf_df[:10]\n",
    "        tfidf_df[\"yearmonth_sub\"] = month\n",
    "        # Generate top 10 monthly TF-IDF for all MH posts\n",
    "        mh_filtered = filtered[filtered.mh_combined_updated > 0.7]\n",
    "        if len(mh_filtered) > 1:\n",
    "            mh_tfidf_df = add_tfidf_column(mh_filtered, month, '_mh')\n",
    "            tfidf_df = pd.concat([tfidf_df, mh_tfidf_df], axis=1, sort=True)\n",
    "        # Generate top 10 monthly TF-IDF for all sarcastic posts\n",
    "        sarc_filtered = filtered[filtered.prob_sarc > 0.8]\n",
    "        if len(sarc_filtered) > 1:\n",
    "            sarc_tfidf_df = add_tfidf_column(sarc_filtered, month, '_sarc')\n",
    "            tfidf_df = pd.concat([tfidf_df, sarc_tfidf_df], axis=1, sort=True)\n",
    "        # Adding filtered TFIDF columns to master TFIDF dataframe with the top\n",
    "        # terms for all posts\n",
    "        all_tfidf = all_tfidf.append(tfidf_df, ignore_index=True, sort=True)\n",
    "        \n",
    "    return all_tfidf\n"
   ]
  },
  {
   "cell_type": "code",
   "execution_count": null,
   "metadata": {},
   "outputs": [],
   "source": []
  }
 ],
 "metadata": {
  "kernelspec": {
   "display_name": "Python 3",
   "language": "python",
   "name": "python3"
  },
  "language_info": {
   "codemirror_mode": {
    "name": "ipython",
    "version": 3
   },
   "file_extension": ".py",
   "mimetype": "text/x-python",
   "name": "python",
   "nbconvert_exporter": "python",
   "pygments_lexer": "ipython3",
   "version": "3.7.1"
  }
 },
 "nbformat": 4,
 "nbformat_minor": 2
}
