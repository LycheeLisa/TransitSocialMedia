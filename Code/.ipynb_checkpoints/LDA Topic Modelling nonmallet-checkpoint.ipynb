{
 "cells": [
  {
   "cell_type": "code",
   "execution_count": 0,
   "metadata": {
    "colab": {},
    "colab_type": "code",
    "id": "JK8BvRXS3D2u"
   },
   "outputs": [],
   "source": [
    "import pandas as pd\n",
    "import spacy\n",
    "from spacy.lang.en import English\n",
    "from nltk.tokenize import word_tokenize\n",
    "from nltk.stem import WordNetLemmatizer\n",
    "from nltk.tokenize import word_tokenize\n",
    "from nltk.corpus import wordnet\n",
    "import nltk\n",
    "import re\n",
    "import gensim\n",
    "from gensim import corpora\n",
    "import pickle\n",
    "from collections import OrderedDict\n",
    "from gensim.models import CoherenceModel\n",
    "import matplotlib.pyplot as plt\n",
    "import os\n",
    "\n",
    "from hyperopt import fmin, tpe, hp, STATUS_OK, Trials, rand\n",
    "import time"
   ]
  },
  {
   "cell_type": "code",
   "execution_count": 0,
   "metadata": {
    "colab": {
     "base_uri": "https://localhost:8080/",
     "height": 90
    },
    "colab_type": "code",
    "executionInfo": {
     "elapsed": 4898,
     "status": "ok",
     "timestamp": 1570213985018,
     "user": {
      "displayName": "Josh Peters",
      "photoUrl": "https://lh6.googleusercontent.com/-XL4KocJWFfg/AAAAAAAAAAI/AAAAAAAAAF8/4ODtxj9eTGk/s64/photo.jpg",
      "userId": "04868396463175031125"
     },
     "user_tz": 240
    },
    "id": "h8YvcEeRC5mK",
    "outputId": "946d74b0-4b2b-4478-eae6-9a33b78e4512"
   },
   "outputs": [
    {
     "name": "stdout",
     "output_type": "stream",
     "text": [
      "shell-init: error retrieving current directory: getcwd: cannot access parent directories: Transport endpoint is not connected\n",
      "fusermount: bad mount point drive: Transport endpoint is not connected\n",
      "shell-init: error retrieving current directory: getcwd: cannot access parent directories: Transport endpoint is not connected\n",
      "/bin/bash: google-drive-ocamlfuse: command not found\n"
     ]
    }
   ],
   "source": [
    "!fusermount -u drive\n",
    "!google-drive-ocamlfuse driv"
   ]
  },
  {
   "cell_type": "code",
   "execution_count": 148,
   "metadata": {
    "colab": {
     "base_uri": "https://localhost:8080/",
     "height": 35
    },
    "colab_type": "code",
    "executionInfo": {
     "elapsed": 1027,
     "status": "ok",
     "timestamp": 1570214576460,
     "user": {
      "displayName": "Josh Peters",
      "photoUrl": "https://lh6.googleusercontent.com/-XL4KocJWFfg/AAAAAAAAAAI/AAAAAAAAAF8/4ODtxj9eTGk/s64/photo.jpg",
      "userId": "04868396463175031125"
     },
     "user_tz": 240
    },
    "id": "BZPll0FU9oOS",
    "outputId": "c9de8767-70f0-4fd5-fece-ec04b5cb47f0"
   },
   "outputs": [
    {
     "name": "stdout",
     "output_type": "stream",
     "text": [
      "Drive already mounted at /content/gdrive; to attempt to forcibly remount, call drive.mount(\"/content/gdrive\", force_remount=True).\n"
     ]
    }
   ],
   "source": [
    "from google.colab import drive\n",
    "\n",
    "drive.mount('/content/gdrive')"
   ]
  },
  {
   "cell_type": "code",
   "execution_count": 0,
   "metadata": {
    "colab": {
     "base_uri": "https://localhost:8080/",
     "height": 74,
     "resources": {
      "http://localhost:8080/nbextensions/google.colab/files.js": {
       "data": "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",
       "headers": [
        [
         "content-type",
         "application/javascript"
        ]
       ],
       "ok": true,
       "status": 200,
       "status_text": ""
      }
     }
    },
    "colab_type": "code",
    "executionInfo": {
     "elapsed": 12570,
     "status": "ok",
     "timestamp": 1570206175738,
     "user": {
      "displayName": "Josh Peters",
      "photoUrl": "https://lh6.googleusercontent.com/-XL4KocJWFfg/AAAAAAAAAAI/AAAAAAAAAF8/4ODtxj9eTGk/s64/photo.jpg",
      "userId": "04868396463175031125"
     },
     "user_tz": 240
    },
    "id": "87XaXLGnRnBA",
    "outputId": "213dc424-3d46-4d33-b96b-33b4f7acce0c"
   },
   "outputs": [
    {
     "data": {
      "text/html": [
       "\n",
       "     <input type=\"file\" id=\"files-0ac3021b-f7e8-4e4f-bdd6-981968219099\" name=\"files[]\" multiple disabled />\n",
       "     <output id=\"result-0ac3021b-f7e8-4e4f-bdd6-981968219099\">\n",
       "      Upload widget is only available when the cell has been executed in the\n",
       "      current browser session. Please rerun this cell to enable.\n",
       "      </output>\n",
       "      <script src=\"/nbextensions/google.colab/files.js\"></script> "
      ],
      "text/plain": [
       "<IPython.core.display.HTML object>"
      ]
     },
     "metadata": {
      "tags": []
     },
     "output_type": "display_data"
    },
    {
     "name": "stdout",
     "output_type": "stream",
     "text": [
      "Saving helper_functions.py to helper_functions (1).py\n"
     ]
    }
   ],
   "source": [
    "from google.colab import files\n",
    "src = list(files.upload().values())[0]\n",
    "open('helper_functions.py','wb').write(src)\n",
    "import helper_functions as hf"
   ]
  },
  {
   "cell_type": "code",
   "execution_count": 0,
   "metadata": {
    "colab": {},
    "colab_type": "code",
    "id": "JBh0J46o3D3H"
   },
   "outputs": [],
   "source": [
    "nlp = spacy.load('en_core_web_sm')\n",
    "lemmatizer=WordNetLemmatizer()"
   ]
  },
  {
   "cell_type": "code",
   "execution_count": 0,
   "metadata": {
    "colab": {},
    "colab_type": "code",
    "id": "UfCj_4_p3D3N"
   },
   "outputs": [],
   "source": [
    "### Load updated stop words list\n",
    "stop_words = pd.read_csv('/content/gdrive/My Drive/TransitProject/TransitSocialMedia/Data/stop_words.csv')\n",
    "stop_words = set(stop_words['stop_words']) \n",
    "\n",
    "### Load station names list\n",
    "station_names = pd.read_csv('/content/gdrive/My Drive/TransitProject/TransitSocialMedia/Data/station_names.csv')\n",
    "station = re.compile('|'.join(map(re.escape, station_names['Station'].str.lower())))\n",
    "\n",
    "photo_names = ['svg','png','jpeg','jpg', 'photo','pictures','picture','photos']\n",
    "photo = re.compile('|'.join(map(re.escape, photo_names)))   \n",
    "\n"
   ]
  },
  {
   "cell_type": "code",
   "execution_count": 0,
   "metadata": {
    "colab": {
     "base_uri": "https://localhost:8080/",
     "height": 70
    },
    "colab_type": "code",
    "executionInfo": {
     "elapsed": 7576,
     "status": "ok",
     "timestamp": 1570133699029,
     "user": {
      "displayName": "Josh Peters",
      "photoUrl": "https://lh6.googleusercontent.com/-XL4KocJWFfg/AAAAAAAAAAI/AAAAAAAAAF8/4ODtxj9eTGk/s64/photo.jpg",
      "userId": "04868396463175031125"
     },
     "user_tz": 240
    },
    "id": "t3vyhwhYQhW7",
    "outputId": "b01c4a66-71d4-4efd-cd25-025c5b36a41b"
   },
   "outputs": [
    {
     "name": "stdout",
     "output_type": "stream",
     "text": [
      "openjdk version \"11.0.4\" 2019-07-16\n",
      "OpenJDK Runtime Environment (build 11.0.4+11-post-Ubuntu-1ubuntu218.04.3)\n",
      "OpenJDK 64-Bit Server VM (build 11.0.4+11-post-Ubuntu-1ubuntu218.04.3, mixed mode, sharing)\n"
     ]
    }
   ],
   "source": [
    "import os       #importing os to set environment variable\n",
    "def install_java():\n",
    "  !apt-get install -y openjdk-8-jdk-headless -qq > /dev/null      #install openjdk\n",
    "  os.environ[\"JAVA_HOME\"] = \"/usr/lib/jvm/java-8-openjdk-amd64\"     #set environment variable\n",
    "  !java -version       #check java version\n",
    "install_java()"
   ]
  },
  {
   "cell_type": "code",
   "execution_count": 0,
   "metadata": {
    "colab": {},
    "colab_type": "code",
    "id": "SFnvi6TTQsuY"
   },
   "outputs": [],
   "source": [
    "!wget http://mallet.cs.umass.edu/dist/mallet-2.0.8.zip\n",
    "!unzip mallet-2.0.8.zip"
   ]
  },
  {
   "cell_type": "code",
   "execution_count": 0,
   "metadata": {
    "colab": {},
    "colab_type": "code",
    "id": "4PNb2kdaOTkZ"
   },
   "outputs": [],
   "source": [
    "os.environ['MALLET_HOME'] = '/content/mallet-2.0.8'\n",
    "mallet_path = '/content/mallet-2.0.8/bin/mallet' # you should NOT need to change this "
   ]
  },
  {
   "cell_type": "code",
   "execution_count": 0,
   "metadata": {
    "colab": {},
    "colab_type": "code",
    "id": "JNJL5Lrm3D3S"
   },
   "outputs": [],
   "source": [
    "import ast \n",
    "reddit_df = pd.read_csv('/content/gdrive/My Drive/TransitProject/TransitSocialMedia/Data/reddit_df.csv')\n",
    "reddit_df['tokenized_list'] = reddit_df['tokenized_list'].apply(lambda x: ast.literal_eval(x))\n",
    "text_data = reddit_df['tokenized_list'].tolist()"
   ]
  },
  {
   "cell_type": "code",
   "execution_count": 0,
   "metadata": {
    "colab": {},
    "colab_type": "code",
    "id": "JDiDScW73D3X",
    "outputId": "c6f773b9-a97e-4900-d624-a9964c3ff79c"
   },
   "outputs": [
    {
     "name": "stdout",
     "output_type": "stream",
     "text": [
      "reddit data : 35085\n",
      "reddit data : 14034\n"
     ]
    }
   ],
   "source": [
    "print(\"reddit data :\", reddit_df.shape[0])\n",
    "working_fraction=0.4\n",
    "reddit_df=reddit_df.sample(frac=working_fraction)\n",
    "print(\"reddit data :\", reddit_df.shape[0])"
   ]
  },
  {
   "cell_type": "code",
   "execution_count": 0,
   "metadata": {
    "colab": {},
    "colab_type": "code",
    "id": "R5V1434r3D3d"
   },
   "outputs": [],
   "source": [
    "jobs=8\n",
    "mp_instance=hf.mp_tokenize(df=reddit_df,\n",
    "                           target_column='body', \n",
    "                           stop_words=stop_words,\n",
    "                           station=station, \n",
    "                           photo=photo, \n",
    "                           nlp=nlp,\n",
    "                           jobs=jobs)"
   ]
  },
  {
   "cell_type": "code",
   "execution_count": 0,
   "metadata": {
    "colab": {},
    "colab_type": "code",
    "id": "KTa4DR6_3D3j",
    "outputId": "fedcb133-a8ab-42ff-c126-d15c94ddb5d4"
   },
   "outputs": [
    {
     "name": "stdout",
     "output_type": "stream",
     "text": [
      "14034 tokenized in 126.67205238342285 sec with 8 threads\n"
     ]
    }
   ],
   "source": [
    "start_time = time.time()\n",
    "processed_list=mp_instance.excecute()\n",
    "end_time = time.time() - start_time\n",
    "print(\"{0} tokenized in {1} sec with {2} threads\".format(reddit_df.shape[0], end_time, jobs))"
   ]
  },
  {
   "cell_type": "code",
   "execution_count": 0,
   "metadata": {
    "colab": {},
    "colab_type": "code",
    "id": "2HLo6EXW3D4F"
   },
   "outputs": [],
   "source": [
    "text_data = [i[1] for i in processed_list]"
   ]
  },
  {
   "cell_type": "code",
   "execution_count": 0,
   "metadata": {
    "colab": {},
    "colab_type": "code",
    "id": "_NnKsKP83D4L"
   },
   "outputs": [],
   "source": [
    "dictionary = corpora.Dictionary(text_data)\n",
    "corpus = [dictionary.doc2bow(text) for text in text_data]\n",
    "pickle.dump(corpus, open('corpus.pkl', 'wb'))"
   ]
  },
  {
   "cell_type": "code",
   "execution_count": 0,
   "metadata": {
    "colab": {
     "base_uri": "https://localhost:8080/",
     "height": 354
    },
    "colab_type": "code",
    "executionInfo": {
     "elapsed": 1961,
     "status": "error",
     "timestamp": 1570135659221,
     "user": {
      "displayName": "Josh Peters",
      "photoUrl": "https://lh6.googleusercontent.com/-XL4KocJWFfg/AAAAAAAAAAI/AAAAAAAAAF8/4ODtxj9eTGk/s64/photo.jpg",
      "userId": "04868396463175031125"
     },
     "user_tz": 240
    },
    "id": "_y5sqXHYYIe8",
    "outputId": "03a0df67-0925-4542-e438-e07d59b278da"
   },
   "outputs": [
    {
     "ename": "CalledProcessError",
     "evalue": "ignored",
     "output_type": "error",
     "traceback": [
      "\u001b[0;31m---------------------------------------------------------------------------\u001b[0m",
      "\u001b[0;31mCalledProcessError\u001b[0m                        Traceback (most recent call last)",
      "\u001b[0;32m<ipython-input-52-6eece416ecaf>\u001b[0m in \u001b[0;36m<module>\u001b[0;34m()\u001b[0m\n\u001b[1;32m      1\u001b[0m ldamodel_test = gensim.models.wrappers.LdaMallet(mallet_path, corpus=corpus, num_topics= 12,\n\u001b[0;32m----> 2\u001b[0;31m                                             topic_threshold=0.356735, alpha=76,id2word=dictionary)\n\u001b[0m",
      "\u001b[0;32m/usr/local/lib/python3.6/dist-packages/gensim/models/wrappers/ldamallet.py\u001b[0m in \u001b[0;36m__init__\u001b[0;34m(self, mallet_path, corpus, num_topics, alpha, id2word, workers, prefix, optimize_interval, iterations, topic_threshold)\u001b[0m\n\u001b[1;32m    124\u001b[0m             \u001b[0mprefix\u001b[0m \u001b[0;34m=\u001b[0m \u001b[0mos\u001b[0m\u001b[0;34m.\u001b[0m\u001b[0mpath\u001b[0m\u001b[0;34m.\u001b[0m\u001b[0mjoin\u001b[0m\u001b[0;34m(\u001b[0m\u001b[0mtempfile\u001b[0m\u001b[0;34m.\u001b[0m\u001b[0mgettempdir\u001b[0m\u001b[0;34m(\u001b[0m\u001b[0;34m)\u001b[0m\u001b[0;34m,\u001b[0m \u001b[0mrand_prefix\u001b[0m\u001b[0;34m)\u001b[0m\u001b[0;34m\u001b[0m\u001b[0;34m\u001b[0m\u001b[0m\n\u001b[1;32m    125\u001b[0m         \u001b[0mself\u001b[0m\u001b[0;34m.\u001b[0m\u001b[0mprefix\u001b[0m \u001b[0;34m=\u001b[0m \u001b[0mprefix\u001b[0m\u001b[0;34m\u001b[0m\u001b[0;34m\u001b[0m\u001b[0m\n\u001b[0;32m--> 126\u001b[0;31m         \u001b[0mself\u001b[0m\u001b[0;34m.\u001b[0m\u001b[0mworkers\u001b[0m \u001b[0;34m=\u001b[0m \u001b[0mworkers\u001b[0m\u001b[0;34m\u001b[0m\u001b[0;34m\u001b[0m\u001b[0m\n\u001b[0m\u001b[1;32m    127\u001b[0m         \u001b[0mself\u001b[0m\u001b[0;34m.\u001b[0m\u001b[0moptimize_interval\u001b[0m \u001b[0;34m=\u001b[0m \u001b[0moptimize_interval\u001b[0m\u001b[0;34m\u001b[0m\u001b[0;34m\u001b[0m\u001b[0m\n\u001b[1;32m    128\u001b[0m         \u001b[0mself\u001b[0m\u001b[0;34m.\u001b[0m\u001b[0miterations\u001b[0m \u001b[0;34m=\u001b[0m \u001b[0miterations\u001b[0m\u001b[0;34m\u001b[0m\u001b[0;34m\u001b[0m\u001b[0m\n",
      "\u001b[0;32m/usr/local/lib/python3.6/dist-packages/gensim/models/wrappers/ldamallet.py\u001b[0m in \u001b[0;36mtrain\u001b[0;34m(self, corpus)\u001b[0m\n\u001b[1;32m    265\u001b[0m \u001b[0;34m\u001b[0m\u001b[0m\n\u001b[1;32m    266\u001b[0m         \u001b[0mParameters\u001b[0m\u001b[0;34m\u001b[0m\u001b[0;34m\u001b[0m\u001b[0m\n\u001b[0;32m--> 267\u001b[0;31m         \u001b[0;34m-\u001b[0m\u001b[0;34m-\u001b[0m\u001b[0;34m-\u001b[0m\u001b[0;34m-\u001b[0m\u001b[0;34m-\u001b[0m\u001b[0;34m-\u001b[0m\u001b[0;34m-\u001b[0m\u001b[0;34m-\u001b[0m\u001b[0;34m-\u001b[0m\u001b[0;34m-\u001b[0m\u001b[0;34m\u001b[0m\u001b[0;34m\u001b[0m\u001b[0m\n\u001b[0m\u001b[1;32m    268\u001b[0m         \u001b[0mcorpus\u001b[0m \u001b[0;34m:\u001b[0m \u001b[0miterable\u001b[0m \u001b[0mof\u001b[0m \u001b[0miterable\u001b[0m \u001b[0mof\u001b[0m \u001b[0;34m(\u001b[0m\u001b[0mint\u001b[0m\u001b[0;34m,\u001b[0m \u001b[0mint\u001b[0m\u001b[0;34m)\u001b[0m\u001b[0;34m\u001b[0m\u001b[0;34m\u001b[0m\u001b[0m\n\u001b[1;32m    269\u001b[0m             \u001b[0mCorpus\u001b[0m \u001b[0;32min\u001b[0m \u001b[0mBoW\u001b[0m \u001b[0mformat\u001b[0m\u001b[0;34m\u001b[0m\u001b[0;34m\u001b[0m\u001b[0m\n",
      "\u001b[0;32m/usr/local/lib/python3.6/dist-packages/gensim/models/wrappers/ldamallet.py\u001b[0m in \u001b[0;36mconvert_input\u001b[0;34m(self, corpus, infer, serialize_corpus)\u001b[0m\n\u001b[1;32m    254\u001b[0m             \u001b[0;34m\"--remove-stopwords --token-regex \\\"\\\\S+\\\" --input %s --output %s\"\u001b[0m\u001b[0;34m\u001b[0m\u001b[0;34m\u001b[0m\u001b[0m\n\u001b[1;32m    255\u001b[0m         \u001b[0;32mif\u001b[0m \u001b[0minfer\u001b[0m\u001b[0;34m:\u001b[0m\u001b[0;34m\u001b[0m\u001b[0;34m\u001b[0m\u001b[0m\n\u001b[0;32m--> 256\u001b[0;31m             \u001b[0mcmd\u001b[0m \u001b[0;34m+=\u001b[0m \u001b[0;34m' --use-pipe-from '\u001b[0m \u001b[0;34m+\u001b[0m \u001b[0mself\u001b[0m\u001b[0;34m.\u001b[0m\u001b[0mfcorpusmallet\u001b[0m\u001b[0;34m(\u001b[0m\u001b[0;34m)\u001b[0m\u001b[0;34m\u001b[0m\u001b[0;34m\u001b[0m\u001b[0m\n\u001b[0m\u001b[1;32m    257\u001b[0m             \u001b[0mcmd\u001b[0m \u001b[0;34m=\u001b[0m \u001b[0mcmd\u001b[0m \u001b[0;34m%\u001b[0m \u001b[0;34m(\u001b[0m\u001b[0mself\u001b[0m\u001b[0;34m.\u001b[0m\u001b[0mfcorpustxt\u001b[0m\u001b[0;34m(\u001b[0m\u001b[0;34m)\u001b[0m\u001b[0;34m,\u001b[0m \u001b[0mself\u001b[0m\u001b[0;34m.\u001b[0m\u001b[0mfcorpusmallet\u001b[0m\u001b[0;34m(\u001b[0m\u001b[0;34m)\u001b[0m \u001b[0;34m+\u001b[0m \u001b[0;34m'.infer'\u001b[0m\u001b[0;34m)\u001b[0m\u001b[0;34m\u001b[0m\u001b[0;34m\u001b[0m\u001b[0m\n\u001b[1;32m    258\u001b[0m         \u001b[0;32melse\u001b[0m\u001b[0;34m:\u001b[0m\u001b[0;34m\u001b[0m\u001b[0;34m\u001b[0m\u001b[0m\n",
      "\u001b[0;32m/usr/local/lib/python3.6/dist-packages/gensim/utils.py\u001b[0m in \u001b[0;36mcheck_output\u001b[0;34m(stdout, *popenargs, **kwargs)\u001b[0m\n\u001b[1;32m   1877\u001b[0m     \u001b[0;32melse\u001b[0m\u001b[0;34m:\u001b[0m\u001b[0;34m\u001b[0m\u001b[0;34m\u001b[0m\u001b[0m\n\u001b[1;32m   1878\u001b[0m         \u001b[0mrule_res\u001b[0m \u001b[0;34m=\u001b[0m \u001b[0mtrim_rule\u001b[0m\u001b[0;34m(\u001b[0m\u001b[0mword\u001b[0m\u001b[0;34m,\u001b[0m \u001b[0mcount\u001b[0m\u001b[0;34m,\u001b[0m \u001b[0mmin_count\u001b[0m\u001b[0;34m)\u001b[0m\u001b[0;34m\u001b[0m\u001b[0;34m\u001b[0m\u001b[0m\n\u001b[0;32m-> 1879\u001b[0;31m         \u001b[0;32mif\u001b[0m \u001b[0mrule_res\u001b[0m \u001b[0;34m==\u001b[0m \u001b[0mRULE_KEEP\u001b[0m\u001b[0;34m:\u001b[0m\u001b[0;34m\u001b[0m\u001b[0;34m\u001b[0m\u001b[0m\n\u001b[0m\u001b[1;32m   1880\u001b[0m             \u001b[0;32mreturn\u001b[0m \u001b[0;32mTrue\u001b[0m\u001b[0;34m\u001b[0m\u001b[0;34m\u001b[0m\u001b[0m\n\u001b[1;32m   1881\u001b[0m         \u001b[0;32melif\u001b[0m \u001b[0mrule_res\u001b[0m \u001b[0;34m==\u001b[0m \u001b[0mRULE_DISCARD\u001b[0m\u001b[0;34m:\u001b[0m\u001b[0;34m\u001b[0m\u001b[0;34m\u001b[0m\u001b[0m\n",
      "\u001b[0;31mCalledProcessError\u001b[0m: Command '/content/mallet-2.0.8/bin/mallet import-file --preserve-case --keep-sequence --remove-stopwords --token-regex \"\\S+\" --input /tmp/50b653_corpus.txt --output /tmp/50b653_corpus.mallet' returned non-zero exit status 127."
     ]
    }
   ],
   "source": [
    "ldamodel_test = gensim.models.wrappers.LdaMallet(mallet_path, corpus=corpus, num_topics= 12,\n",
    "                                            topic_threshold=0.356735, alpha=76,id2word=dictionary)"
   ]
  },
  {
   "cell_type": "code",
   "execution_count": 0,
   "metadata": {
    "colab": {},
    "colab_type": "code",
    "id": "HRljsZMA3D4Q"
   },
   "outputs": [],
   "source": [
    "model_name=\"ldamodel\" #\"ldamodel\"\n",
    "max_evals=25\n",
    "gensim_optimizer=hf.gensim_optimizer(model_name=model_name, \n",
    "                                     model_path=mallet_path,\n",
    "                                     dictionary=dictionary, \n",
    "                                     corpus=corpus, \n",
    "                                     texts=text_data, \n",
    "                                     max_evals=max_evals)\n",
    "trials, best_model, best_score= gensim_optimizer.exceute()"
   ]
  },
  {
   "cell_type": "code",
   "execution_count": 0,
   "metadata": {
    "colab": {},
    "colab_type": "code",
    "id": "_h3uBzUlOMSu"
   },
   "outputs": [],
   "source": [
    "best_model = gensim.models.ldamodel.LdaModel.load('/content/gdrive/My Drive/TransitProject/TransitSocialMedia/Models/model6.gensim')"
   ]
  },
  {
   "cell_type": "code",
   "execution_count": 0,
   "metadata": {
    "colab": {},
    "colab_type": "code",
    "id": "JH6lxY5O3D4V"
   },
   "outputs": [],
   "source": [
    "losses = [trials.trials[i]['result']['loss'] for i in range(len(trials.trials))]\n",
    "params = pd.DataFrame(trials.vals)\n",
    "params['loss'] = losses\n",
    "params.sort_values('loss', inplace=True)"
   ]
  },
  {
   "cell_type": "code",
   "execution_count": 0,
   "metadata": {
    "colab": {
     "base_uri": "https://localhost:8080/",
     "height": 198
    },
    "colab_type": "code",
    "executionInfo": {
     "elapsed": 853,
     "status": "ok",
     "timestamp": 1570213163593,
     "user": {
      "displayName": "Josh Peters",
      "photoUrl": "https://lh6.googleusercontent.com/-XL4KocJWFfg/AAAAAAAAAAI/AAAAAAAAAF8/4ODtxj9eTGk/s64/photo.jpg",
      "userId": "04868396463175031125"
     },
     "user_tz": 240
    },
    "id": "slArNztQ3D4b",
    "outputId": "94f97523-22cf-4e82-865e-519da996fcad"
   },
   "outputs": [
    {
     "data": {
      "text/html": [
       "<div>\n",
       "<style scoped>\n",
       "    .dataframe tbody tr th:only-of-type {\n",
       "        vertical-align: middle;\n",
       "    }\n",
       "\n",
       "    .dataframe tbody tr th {\n",
       "        vertical-align: top;\n",
       "    }\n",
       "\n",
       "    .dataframe thead th {\n",
       "        text-align: right;\n",
       "    }\n",
       "</style>\n",
       "<table border=\"1\" class=\"dataframe\">\n",
       "  <thead>\n",
       "    <tr style=\"text-align: right;\">\n",
       "      <th></th>\n",
       "      <th>alpha</th>\n",
       "      <th>decay</th>\n",
       "      <th>num_topics</th>\n",
       "      <th>passes</th>\n",
       "      <th>loss</th>\n",
       "    </tr>\n",
       "  </thead>\n",
       "  <tbody>\n",
       "    <tr>\n",
       "      <th>0</th>\n",
       "      <td>1</td>\n",
       "      <td>0.705377</td>\n",
       "      <td>9.0</td>\n",
       "      <td>26.0</td>\n",
       "      <td>-0.550442</td>\n",
       "    </tr>\n",
       "    <tr>\n",
       "      <th>1</th>\n",
       "      <td>1</td>\n",
       "      <td>0.708372</td>\n",
       "      <td>11.0</td>\n",
       "      <td>27.0</td>\n",
       "      <td>-0.531389</td>\n",
       "    </tr>\n",
       "    <tr>\n",
       "      <th>2</th>\n",
       "      <td>1</td>\n",
       "      <td>0.724814</td>\n",
       "      <td>7.0</td>\n",
       "      <td>22.0</td>\n",
       "      <td>-0.529763</td>\n",
       "    </tr>\n",
       "    <tr>\n",
       "      <th>3</th>\n",
       "      <td>1</td>\n",
       "      <td>0.658837</td>\n",
       "      <td>10.0</td>\n",
       "      <td>27.0</td>\n",
       "      <td>-0.517649</td>\n",
       "    </tr>\n",
       "    <tr>\n",
       "      <th>4</th>\n",
       "      <td>0</td>\n",
       "      <td>0.781771</td>\n",
       "      <td>15.0</td>\n",
       "      <td>30.0</td>\n",
       "      <td>-0.498092</td>\n",
       "    </tr>\n",
       "  </tbody>\n",
       "</table>\n",
       "</div>"
      ],
      "text/plain": [
       "   alpha     decay  num_topics  passes      loss\n",
       "0      1  0.705377         9.0    26.0 -0.550442\n",
       "1      1  0.708372        11.0    27.0 -0.531389\n",
       "2      1  0.724814         7.0    22.0 -0.529763\n",
       "3      1  0.658837        10.0    27.0 -0.517649\n",
       "4      0  0.781771        15.0    30.0 -0.498092"
      ]
     },
     "execution_count": 115,
     "metadata": {
      "tags": []
     },
     "output_type": "execute_result"
    }
   ],
   "source": [
    "params = pd.read_csv('hyper_parameters_2.csv')\n",
    "params.head()"
   ]
  },
  {
   "cell_type": "code",
   "execution_count": 0,
   "metadata": {
    "colab": {
     "base_uri": "https://localhost:8080/",
     "height": 181
    },
    "colab_type": "code",
    "executionInfo": {
     "elapsed": 817,
     "status": "ok",
     "timestamp": 1570212662122,
     "user": {
      "displayName": "Josh Peters",
      "photoUrl": "https://lh6.googleusercontent.com/-XL4KocJWFfg/AAAAAAAAAAI/AAAAAAAAAF8/4ODtxj9eTGk/s64/photo.jpg",
      "userId": "04868396463175031125"
     },
     "user_tz": 240
    },
    "id": "v5ez084E3D4g",
    "outputId": "16b3b324-f720-4b64-dfb5-5ed294c2e328",
    "scrolled": true
   },
   "outputs": [
    {
     "name": "stdout",
     "output_type": "stream",
     "text": [
      "(0, '0.018*\"school\" + 0.015*\"kid\" + 0.012*\"student\" + 0.009*\"transition\" + 0.009*\"child\"')\n",
      "(1, '0.075*\"system\" + 0.027*\"ttc\" + 0.022*\"transit\" + 0.015*\"metrolinx\" + 0.013*\"world\"')\n",
      "(2, '0.065*\"presto\" + 0.061*\"fare\" + 0.041*\"card\" + 0.025*\"pay\" + 0.020*\"tap\"')\n",
      "(3, '0.042*\"ttc\" + 0.023*\"go\" + 0.017*\"people\" + 0.014*\"bus\" + 0.011*\"day\"')\n",
      "(4, '0.158*\"ttcstation\" + 0.038*\"urllink\" + 0.016*\"subway\" + 0.015*\"lrt\" + 0.014*\"train\"')\n",
      "(5, '0.038*\"transit\" + 0.021*\"subway\" + 0.020*\"people\" + 0.020*\"city\" + 0.017*\"toronto\"')\n",
      "(6, '0.033*\"ford\" + 0.025*\"plan\" + 0.015*\"city\" + 0.013*\"toronto\" + 0.013*\"government\"')\n",
      "(7, '0.023*\"pay\" + 0.020*\"money\" + 0.020*\"cost\" + 0.013*\"tax\" + 0.012*\"government\"')\n",
      "(8, '0.027*\"urllink\" + 0.022*\"police\" + 0.009*\"law\" + 0.009*\"report\" + 0.009*\"vehicle\"')\n"
     ]
    }
   ],
   "source": [
    "topics = best_model.print_topics(num_words=5)\n",
    "for topic in topics:\n",
    "    print(topic)"
   ]
  },
  {
   "cell_type": "code",
   "execution_count": 0,
   "metadata": {
    "colab": {},
    "colab_type": "code",
    "id": "UYcZHCzsN308"
   },
   "outputs": [],
   "source": [
    "topics = []\n",
    "percents = []\n",
    "for i in range(len(corpus)):\n",
    "  top_pair = max(best_model[corpus[i]],key=lambda item:item[1])\n",
    "  topic = top_pair[0]\n",
    "  percent = top_pair[1]\n",
    "  \n",
    "  topics.append(topic)\n",
    "  percents.append(percent)"
   ]
  },
  {
   "cell_type": "code",
   "execution_count": 0,
   "metadata": {
    "colab": {},
    "colab_type": "code",
    "id": "PhDb67fdo1ce"
   },
   "outputs": [],
   "source": [
    "reddit_df['topic'] = topics"
   ]
  },
  {
   "cell_type": "code",
   "execution_count": 0,
   "metadata": {
    "colab": {},
    "colab_type": "code",
    "id": "rI2k_bwprikh"
   },
   "outputs": [],
   "source": [
    "reddit_df['topic_pct'] = percents"
   ]
  },
  {
   "cell_type": "code",
   "execution_count": 0,
   "metadata": {
    "colab": {},
    "colab_type": "code",
    "id": "bIg8UNL5p7py"
   },
   "outputs": [],
   "source": [
    "reddit_df.to_csv('/content/gdrive/My Drive/TransitProject/TransitSocialMedia/Data/reddit_df_topics.csv')"
   ]
  },
  {
   "cell_type": "code",
   "execution_count": 0,
   "metadata": {
    "colab": {
     "base_uri": "https://localhost:8080/",
     "height": 187
    },
    "colab_type": "code",
    "executionInfo": {
     "elapsed": 1253,
     "status": "ok",
     "timestamp": 1570208120683,
     "user": {
      "displayName": "Josh Peters",
      "photoUrl": "https://lh6.googleusercontent.com/-XL4KocJWFfg/AAAAAAAAAAI/AAAAAAAAAF8/4ODtxj9eTGk/s64/photo.jpg",
      "userId": "04868396463175031125"
     },
     "user_tz": 240
    },
    "id": "CJRREe_Br4-Y",
    "outputId": "443e91f9-e692-4a61-a7ae-71fe84693617"
   },
   "outputs": [
    {
     "data": {
      "text/plain": [
       "5    14172\n",
       "3    11335\n",
       "7     2576\n",
       "4     2052\n",
       "2     1853\n",
       "6     1482\n",
       "8      808\n",
       "0      420\n",
       "1      387\n",
       "Name: topic, dtype: int64"
      ]
     },
     "execution_count": 100,
     "metadata": {
      "tags": []
     },
     "output_type": "execute_result"
    }
   ],
   "source": [
    "reddit_df['topic'].value_counts()"
   ]
  },
  {
   "cell_type": "code",
   "execution_count": 0,
   "metadata": {
    "colab": {
     "base_uri": "https://localhost:8080/",
     "height": 1000
    },
    "colab_type": "code",
    "executionInfo": {
     "elapsed": 1518,
     "status": "ok",
     "timestamp": 1570208241630,
     "user": {
      "displayName": "Josh Peters",
      "photoUrl": "https://lh6.googleusercontent.com/-XL4KocJWFfg/AAAAAAAAAAI/AAAAAAAAAF8/4ODtxj9eTGk/s64/photo.jpg",
      "userId": "04868396463175031125"
     },
     "user_tz": 240
    },
    "id": "BsLQMUDDsCUm",
    "outputId": "4bdd7e35-7160-418d-eb3b-824ff0052729"
   },
   "outputs": [
    {
     "data": {
      "text/plain": [
       "27441    > Are you sying that a surgery that would be p...\n",
       "11543    What is it that you think transitioning entail...\n",
       "11542    No, that's horrible reading comprehension on y...\n",
       "14242    Dont feed the trolls but here i am  \\r\\r\\n  \\r...\n",
       "23030    That’s incredible. Is this fairly recent? \\r\\r...\n",
       "5793     \\> I think in most cases the fetus is too imma...\n",
       "13540    > advocates and activists are trying to normal...\n",
       "11546    Normalization of prepubescent children taking ...\n",
       "5794     >is feeling pain what makes killing wrong?\\r\\r...\n",
       "18544    It's not the digital world that I think will b...\n",
       "9844     > \"not only is this a naturally-occurring psyc...\n",
       "5464     I think your real concern is someone transitio...\n",
       "20300    Do you have proof its not? He could very well ...\n",
       "3724     If you don't know what the NPC meme is :   \\r\\...\n",
       "5792     > If it's not happening then what is the issue...\n",
       "34980    An adult travelling all around while appearing...\n",
       "2503     This was the whole issue around the psychologi...\n",
       "19043    I believe the TTC can help with mental health ...\n",
       "20611    G and m likes him as a social services hitman....\n",
       "27440    It is by far the most effective way to reduce/...\n",
       "3085     Ugh yeah. I thought she was just a harmless gr...\n",
       "23031    Gr 12 is not elementary school. And that exact...\n",
       "33241    The high suicide rates are correlated with the...\n",
       "23603    > 163.1(2) Every person who makes, prints, pub...\n",
       "5461     Being trans is a recognized medical condition ...\n",
       "2225     It’s the only thing I think I generally believ...\n",
       "8117     >There are plenty of unsolved murders in Toron...\n",
       "34003    Pretty much the ones that are in demand at the...\n",
       "1255     >Presto stores all their passwords and recover...\n",
       "5879     >Do parents get called when someone shoplifts?...\n",
       "                               ...                        \n",
       "4066     as an aside. one of the most organized/intelli...\n",
       "32450    Given the way they make assertions-as-fact and...\n",
       "13790    > The public doesn't want automation the RT wa...\n",
       "34889    They’re currently trying to see if it’s feasib...\n",
       "6132     This is a weird article.\\r\\r\\n\\r\\r\\n&#x200B;\\r...\n",
       "34155    You may get the answer by tweeting to @PRESTOcard\n",
       "10281    At my age I've become cynical of every institu...\n",
       "13882    Or maybe the TTC can stop being greedy and rec...\n",
       "12738    Then explain all the successful organizations ...\n",
       "3445     I agree, but the removal of a regulation is so...\n",
       "5583     First,\\r\\r\\n\\r\\r\\nHoly\\r\\r\\n\\r\\r\\nCrap\\r\\r\\n\\r...\n",
       "1329     strong language? yes. Over-reacting? not reall...\n",
       "5374     Where does it say that he was depressed after ...\n",
       "10483    Toronto has a great page on this pest. Be sure...\n",
       "3373     Matlow impressed the fuck outta me when he ask...\n",
       "25323    These girls are brought in with the promise of...\n",
       "9050     It wasn't a grammar lesson, she was teaching a...\n",
       "33051    I can't believe they would mislabel a station ...\n",
       "29890    Does karel say in her tweet that she doesn’t h...\n",
       "15604    Never mind the fact that arguing employee hour...\n",
       "24695    www.logmein.com for when you get to one of the...\n",
       "13883     \"post graduate students use student tickets\" ...\n",
       "8418     Do they make them on-site or are they frozen f...\n",
       "2866     Wow, most surprising to me is this:\\r\\r\\n\\r\\r\\...\n",
       "18417    No, it’s bullshit because you just made it up,...\n",
       "19089    Um, I'm not denying the existence of special c...\n",
       "21453    Sheridan student here,  \\r\\r\\n\\r\\r\\n\\r\\r\\nI se...\n",
       "26777    So now Doug and his band of Cons have pissed o...\n",
       "31722    ITT thread someone stated $425 is overly punit...\n",
       "2369     Yup! That's the one I saw on a MrMobile review...\n",
       "Name: body, Length: 420, dtype: object"
      ]
     },
     "execution_count": 107,
     "metadata": {
      "tags": []
     },
     "output_type": "execute_result"
    }
   ],
   "source": [
    "reddit_df[reddit_df['topic'] == 0].sort_values('topic_pct', ascending = False)['body']"
   ]
  },
  {
   "cell_type": "code",
   "execution_count": 0,
   "metadata": {
    "colab": {},
    "colab_type": "code",
    "id": "5TPn-NINstJX"
   },
   "outputs": [],
   "source": [
    "params.to_csv('/content/gdrive/My Drive/TransitProject/TransitSocialMedia/Data/hyper_parameters_new.csv')"
   ]
  },
  {
   "cell_type": "code",
   "execution_count": 0,
   "metadata": {
    "colab": {},
    "colab_type": "code",
    "id": "T8hvNjZ9_odr"
   },
   "outputs": [],
   "source": [
    "stop_words = pd.read_csv('/content/gdrive/My Drive/TransitProject/TransitSocialMedia/Data/stop_words.csv')"
   ]
  },
  {
   "cell_type": "code",
   "execution_count": 0,
   "metadata": {
    "colab": {
     "base_uri": "https://localhost:8080/",
     "height": 54
    },
    "colab_type": "code",
    "executionInfo": {
     "elapsed": 2725,
     "status": "ok",
     "timestamp": 1570213283041,
     "user": {
      "displayName": "Josh Peters",
      "photoUrl": "https://lh6.googleusercontent.com/-XL4KocJWFfg/AAAAAAAAAAI/AAAAAAAAAF8/4ODtxj9eTGk/s64/photo.jpg",
      "userId": "04868396463175031125"
     },
     "user_tz": 240
    },
    "id": "b3hJxHUfAJxi",
    "outputId": "15a5cfc9-7085-47a7-8a0d-34767414bcc9"
   },
   "outputs": [
    {
     "name": "stdout",
     "output_type": "stream",
     "text": [
      "shell-init: error retrieving current directory: getcwd: cannot access parent directories: Transport endpoint is not connected\n",
      "fatal: Unable to read current working directory: Transport endpoint is not connected\n"
     ]
    }
   ],
   "source": [
    "!git pull"
   ]
  },
  {
   "cell_type": "code",
   "execution_count": 149,
   "metadata": {
    "colab": {
     "base_uri": "https://localhost:8080/",
     "height": 54
    },
    "colab_type": "code",
    "executionInfo": {
     "elapsed": 2885,
     "status": "ok",
     "timestamp": 1570214586043,
     "user": {
      "displayName": "Josh Peters",
      "photoUrl": "https://lh6.googleusercontent.com/-XL4KocJWFfg/AAAAAAAAAAI/AAAAAAAAAF8/4ODtxj9eTGk/s64/photo.jpg",
      "userId": "04868396463175031125"
     },
     "user_tz": 240
    },
    "id": "2qQoj-DoBpf_",
    "outputId": "af74c280-3565-461a-9d0c-2996a219c1f2"
   },
   "outputs": [
    {
     "name": "stdout",
     "output_type": "stream",
     "text": [
      "shell-init: error retrieving current directory: getcwd: cannot access parent directories: Transport endpoint is not connected\n",
      "ls: cannot open directory '.': Transport endpoint is not connected\n"
     ]
    }
   ],
   "source": [
    "!ls"
   ]
  },
  {
   "cell_type": "code",
   "execution_count": 150,
   "metadata": {
    "colab": {
     "base_uri": "https://localhost:8080/",
     "height": 953
    },
    "colab_type": "code",
    "executionInfo": {
     "elapsed": 881,
     "status": "error",
     "timestamp": 1570214591641,
     "user": {
      "displayName": "Josh Peters",
      "photoUrl": "https://lh6.googleusercontent.com/-XL4KocJWFfg/AAAAAAAAAAI/AAAAAAAAAF8/4ODtxj9eTGk/s64/photo.jpg",
      "userId": "04868396463175031125"
     },
     "user_tz": 240
    },
    "id": "fEQWEsi-B22L",
    "outputId": "6fce7dfc-ed53-4e67-9c0e-cb9b28a33c21"
   },
   "outputs": [
    {
     "name": "stderr",
     "output_type": "stream",
     "text": [
      "ERROR:root:Internal Python error in the inspect module.\n",
      "Below is the traceback from this internal error.\n",
      "\n"
     ]
    },
    {
     "name": "stdout",
     "output_type": "stream",
     "text": [
      "Traceback (most recent call last):\n",
      "  File \"/usr/local/lib/python3.6/dist-packages/IPython/core/interactiveshell.py\", line 2882, in run_code\n",
      "    exec(code_obj, self.user_global_ns, self.user_ns)\n",
      "  File \"<ipython-input-150-32ea3259b772>\", line 1, in <module>\n",
      "    get_ipython().magic('cd')\n",
      "  File \"/usr/local/lib/python3.6/dist-packages/IPython/core/interactiveshell.py\", line 2160, in magic\n",
      "    return self.run_line_magic(magic_name, magic_arg_s)\n",
      "  File \"/usr/local/lib/python3.6/dist-packages/IPython/core/interactiveshell.py\", line 2081, in run_line_magic\n",
      "    result = fn(*args,**kwargs)\n",
      "  File \"</usr/local/lib/python3.6/dist-packages/decorator.py:decorator-gen-91>\", line 2, in cd\n",
      "  File \"/usr/local/lib/python3.6/dist-packages/IPython/core/magic.py\", line 188, in <lambda>\n",
      "    call = lambda f, *a, **k: f(*a, **k)\n",
      "  File \"/usr/local/lib/python3.6/dist-packages/IPython/core/magics/osm.py\", line 288, in cd\n",
      "    oldcwd = py3compat.getcwd()\n",
      "OSError: [Errno 107] Transport endpoint is not connected\n",
      "\n",
      "During handling of the above exception, another exception occurred:\n",
      "\n",
      "Traceback (most recent call last):\n",
      "  File \"/usr/local/lib/python3.6/dist-packages/IPython/core/interactiveshell.py\", line 1823, in showtraceback\n",
      "    stb = value._render_traceback_()\n",
      "AttributeError: 'OSError' object has no attribute '_render_traceback_'\n",
      "\n",
      "During handling of the above exception, another exception occurred:\n",
      "\n",
      "Traceback (most recent call last):\n",
      "  File \"/usr/local/lib/python3.6/dist-packages/IPython/core/ultratb.py\", line 1132, in get_records\n",
      "    return _fixed_getinnerframes(etb, number_of_lines_of_context, tb_offset)\n",
      "  File \"/usr/local/lib/python3.6/dist-packages/IPython/core/ultratb.py\", line 313, in wrapped\n",
      "    return f(*args, **kwargs)\n",
      "  File \"/usr/local/lib/python3.6/dist-packages/IPython/core/ultratb.py\", line 358, in _fixed_getinnerframes\n",
      "    records = fix_frame_records_filenames(inspect.getinnerframes(etb, context))\n",
      "  File \"/usr/lib/python3.6/inspect.py\", line 1490, in getinnerframes\n",
      "    frameinfo = (tb.tb_frame,) + getframeinfo(tb, context)\n",
      "  File \"/usr/lib/python3.6/inspect.py\", line 1448, in getframeinfo\n",
      "    filename = getsourcefile(frame) or getfile(frame)\n",
      "  File \"/usr/lib/python3.6/inspect.py\", line 696, in getsourcefile\n",
      "    if getattr(getmodule(object, filename), '__loader__', None) is not None:\n",
      "  File \"/usr/lib/python3.6/inspect.py\", line 725, in getmodule\n",
      "    file = getabsfile(object, _filename)\n",
      "  File \"/usr/lib/python3.6/inspect.py\", line 709, in getabsfile\n",
      "    return os.path.normcase(os.path.abspath(_filename))\n",
      "  File \"/usr/lib/python3.6/posixpath.py\", line 383, in abspath\n",
      "    cwd = os.getcwd()\n",
      "OSError: [Errno 107] Transport endpoint is not connected\n"
     ]
    },
    {
     "ename": "OSError",
     "evalue": "ignored",
     "output_type": "error",
     "traceback": [
      "\u001b[0;31m---------------------------------------------------------------------------\u001b[0m"
     ]
    }
   ],
   "source": [
    "%cd"
   ]
  },
  {
   "cell_type": "code",
   "execution_count": 0,
   "metadata": {
    "colab": {},
    "colab_type": "code",
    "id": "_XQfKgJYFTiv"
   },
   "outputs": [],
   "source": []
  }
 ],
 "metadata": {
  "accelerator": "GPU",
  "colab": {
   "collapsed_sections": [],
   "name": "LDA Topic Modelling nonmallet.ipynb",
   "provenance": []
  },
  "kernelspec": {
   "display_name": "Python 3",
   "language": "python",
   "name": "python3"
  },
  "language_info": {
   "codemirror_mode": {
    "name": "ipython",
    "version": 3
   },
   "file_extension": ".py",
   "mimetype": "text/x-python",
   "name": "python",
   "nbconvert_exporter": "python",
   "pygments_lexer": "ipython3",
<<<<<<< HEAD
   "version": "3.7.1"
=======
   "version": "3.7.4"
>>>>>>> d253fa4acef870b03b792306bccd6478aef26303
  }
 },
 "nbformat": 4,
 "nbformat_minor": 1
}
