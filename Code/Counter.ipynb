{
 "cells": [
  {
   "cell_type": "code",
   "execution_count": 1,
   "metadata": {},
   "outputs": [],
   "source": [
    "import pandas as pd\n",
    "import numpy as np\n",
    "import time\n",
    "import os\n",
    "import glob\n",
    "from pathlib import Path\n",
    "import warnings\n",
    "warnings.filterwarnings('ignore')\n",
    "import string \n",
    "import helper_functions as hf\n",
    "from selenium import webdriver"
   ]
  },
  {
   "cell_type": "code",
   "execution_count": 2,
   "metadata": {},
   "outputs": [],
   "source": [
    "cwd=Path.cwd().resolve().parents[0]"
   ]
  },
  {
   "cell_type": "code",
   "execution_count": 3,
   "metadata": {},
   "outputs": [
    {
     "name": "stdout",
     "output_type": "stream",
     "text": [
      "(47, 4)\n"
     ]
    },
    {
     "data": {
      "text/html": [
       "<div>\n",
       "<style scoped>\n",
       "    .dataframe tbody tr th:only-of-type {\n",
       "        vertical-align: middle;\n",
       "    }\n",
       "\n",
       "    .dataframe tbody tr th {\n",
       "        vertical-align: top;\n",
       "    }\n",
       "\n",
       "    .dataframe thead th {\n",
       "        text-align: right;\n",
       "    }\n",
       "</style>\n",
       "<table border=\"1\" class=\"dataframe\">\n",
       "  <thead>\n",
       "    <tr style=\"text-align: right;\">\n",
       "      <th></th>\n",
       "      <th>restaurant</th>\n",
       "      <th>category</th>\n",
       "      <th>stars</th>\n",
       "      <th>location</th>\n",
       "    </tr>\n",
       "  </thead>\n",
       "  <tbody>\n",
       "    <tr>\n",
       "      <td>0</td>\n",
       "      <td>Tiger Sugar</td>\n",
       "      <td>Bubble Tea</td>\n",
       "      <td>4.0</td>\n",
       "      <td>348A Yonge Street</td>\n",
       "    </tr>\n",
       "    <tr>\n",
       "      <td>1</td>\n",
       "      <td>Chick-fil-A</td>\n",
       "      <td>Fast Food</td>\n",
       "      <td>4.5</td>\n",
       "      <td>709 Yonge Street</td>\n",
       "    </tr>\n",
       "    <tr>\n",
       "      <td>2</td>\n",
       "      <td>Phat Kaphrao</td>\n",
       "      <td>Thai</td>\n",
       "      <td>4.5</td>\n",
       "      <td>3016B Bathurst Street</td>\n",
       "    </tr>\n",
       "    <tr>\n",
       "      <td>3</td>\n",
       "      <td>Azkadenya - Mezza Diner</td>\n",
       "      <td>Middle Eastern</td>\n",
       "      <td>4.5</td>\n",
       "      <td>235 Queen Street West</td>\n",
       "    </tr>\n",
       "    <tr>\n",
       "      <td>4</td>\n",
       "      <td>EAT BKK</td>\n",
       "      <td>Thai</td>\n",
       "      <td>4.5</td>\n",
       "      <td>580 Queen Street W</td>\n",
       "    </tr>\n",
       "  </tbody>\n",
       "</table>\n",
       "</div>"
      ],
      "text/plain": [
       "                restaurant        category  stars               location\n",
       "0              Tiger Sugar      Bubble Tea    4.0      348A Yonge Street\n",
       "1              Chick-fil-A       Fast Food    4.5       709 Yonge Street\n",
       "2             Phat Kaphrao            Thai    4.5  3016B Bathurst Street\n",
       "3  Azkadenya - Mezza Diner  Middle Eastern    4.5  235 Queen Street West\n",
       "4                  EAT BKK            Thai    4.5     580 Queen Street W"
      ]
     },
     "execution_count": 3,
     "metadata": {},
     "output_type": "execute_result"
    }
   ],
   "source": [
    "HotAndNew = pd.read_csv(os.path.join(cwd, \"Data\", \"HotAndNew.csv\"))\n",
    "print(HotAndNew.shape)\n",
    "HotAndNew.head()"
   ]
  },
  {
   "cell_type": "code",
   "execution_count": 4,
   "metadata": {
    "scrolled": true
   },
   "outputs": [
    {
     "name": "stdout",
     "output_type": "stream",
     "text": [
      "(424, 1)\n"
     ]
    },
    {
     "data": {
      "text/html": [
       "<div>\n",
       "<style scoped>\n",
       "    .dataframe tbody tr th:only-of-type {\n",
       "        vertical-align: middle;\n",
       "    }\n",
       "\n",
       "    .dataframe tbody tr th {\n",
       "        vertical-align: top;\n",
       "    }\n",
       "\n",
       "    .dataframe thead th {\n",
       "        text-align: right;\n",
       "    }\n",
       "</style>\n",
       "<table border=\"1\" class=\"dataframe\">\n",
       "  <thead>\n",
       "    <tr style=\"text-align: right;\">\n",
       "      <th></th>\n",
       "      <th>titles</th>\n",
       "    </tr>\n",
       "  </thead>\n",
       "  <tbody>\n",
       "    <tr>\n",
       "      <td>0</td>\n",
       "      <td>Popular underground bar is closing after 12 ye...</td>\n",
       "    </tr>\n",
       "    <tr>\n",
       "      <td>1</td>\n",
       "      <td>10 great restaurants for Sunday brunch in Toronto</td>\n",
       "    </tr>\n",
       "    <tr>\n",
       "      <td>2</td>\n",
       "      <td>Toronto to become one of fourteen Good Food Ci...</td>\n",
       "    </tr>\n",
       "    <tr>\n",
       "      <td>3</td>\n",
       "      <td>Toronto Restaurant Openings: YGO Lab, Chiang R...</td>\n",
       "    </tr>\n",
       "    <tr>\n",
       "      <td>4</td>\n",
       "      <td>Soufi's announces they're reopening their Toro...</td>\n",
       "    </tr>\n",
       "  </tbody>\n",
       "</table>\n",
       "</div>"
      ],
      "text/plain": [
       "                                              titles\n",
       "0  Popular underground bar is closing after 12 ye...\n",
       "1  10 great restaurants for Sunday brunch in Toronto\n",
       "2  Toronto to become one of fourteen Good Food Ci...\n",
       "3  Toronto Restaurant Openings: YGO Lab, Chiang R...\n",
       "4  Soufi's announces they're reopening their Toro..."
      ]
     },
     "execution_count": 4,
     "metadata": {},
     "output_type": "execute_result"
    }
   ],
   "source": [
    "BlogTO = pd.read_csv(os.path.join(cwd, \"Data\", \"BlogTO_mentions.csv\"))\n",
    "print(BlogTO.shape)\n",
    "BlogTO.head()"
   ]
  },
  {
   "cell_type": "code",
   "execution_count": 5,
   "metadata": {},
   "outputs": [],
   "source": [
    "def remove_punctuation(title):\n",
    "    for punctuation in string.punctuation:\n",
    "        title= title.replace(punctuation,\" \")\n",
    "    title=title.lower()\n",
    "    return title"
   ]
  },
  {
   "cell_type": "code",
   "execution_count": 6,
   "metadata": {},
   "outputs": [],
   "source": [
    "def count_in_list(title_list,word):\n",
    "    temp_list=[token for token in title_list if remove_punctuation(word) in remove_punctuation(token)]\n",
    "    if len(temp_list)!=0:\n",
    "        print(\"'{0}' has been mentioned in:\".format(word))\n",
    "        print(temp_list)\n",
    "        print(\" \")\n",
    "    return len([token for token in title_list if remove_punctuation(word) in remove_punctuation(token)])"
   ]
  },
  {
   "cell_type": "code",
   "execution_count": 7,
   "metadata": {},
   "outputs": [
    {
     "name": "stdout",
     "output_type": "stream",
     "text": [
      "'Tiger Sugar' has been mentioned in:\n",
      "['Tiger Sugar Toronto']\n",
      " \n",
      "'Chick-fil-A' has been mentioned in:\n",
      "['There are still massive lineups at the new Chick-fil-A in Toronto', \"This is what it was like inside Toronto's first Chick-fil-A on opening day\", 'Protestors storm Chick-fil-A opening in Toronto', 'Christian group plans counter-protest in support of Toronto Chick-fil-A', 'People waited in line overnight for the opening of Chick-fil-A in Toronto', \"The protest at Chick-fil-A's Toronto store opening is going to be massive\", \"Mouse spotted inside Chick-fil-A's first Toronto location\", \"There's a huge protest planned for the Chick-fil-A opening in Toronto\", 'This is when the first Chick-fil-A location is opening in Toronto', 'People are already planning to boycott Chick-fil-A when it opens in Toronto', \"Toronto's first Chick-fil-A location is about to open\"]\n",
      " \n",
      "'Phat Kaphrao' has been mentioned in:\n",
      "['Phat Kaphrao']\n",
      " \n",
      "'Bubble Lee' has been mentioned in:\n",
      "['Bubble Lee Toronto']\n",
      " \n",
      "'Vicino Italian Kitchen' has been mentioned in:\n",
      "['Vicino Italian Kitchen']\n",
      " \n",
      "'Bloom' has been mentioned in:\n",
      "[\"Bloomer's on Queen\", 'Bloom Cafe']\n",
      " \n",
      "'Bluestone Lane' has been mentioned in:\n",
      "['Bluestone Lane Toronto']\n",
      " \n",
      "'Sisters & Co' has been mentioned in:\n",
      "['Sisters & Co.']\n",
      " \n",
      "'Avelo' has been mentioned in:\n",
      "['Avelo']\n",
      " \n",
      "'Buono' has been mentioned in:\n",
      "['Buono']\n",
      " \n",
      "'The Alley' has been mentioned in:\n",
      "[\"This Week on DineSafe: King Slice, The Alley, Booster Juice, Allwyn's Bakery, Demetres\"]\n",
      " \n",
      "'Roselle West' has been mentioned in:\n",
      "['Roselle West']\n",
      " \n",
      "'Favorites' has been mentioned in:\n",
      "['Favorites']\n",
      " \n",
      "'Cass Avenue' has been mentioned in:\n",
      "[\"Toronto Restaurant Openings: Bar Poet, Azhar, Cass Avenue, Chen Chen's, Karahi Boys\"]\n",
      " \n",
      "'Boat King of Thai Noodles' has been mentioned in:\n",
      "['Boat King of Thai Noodles']\n",
      " \n",
      "'BAO' has been mentioned in:\n",
      "['This Week on DineSafe: Tim Hortons, Fet Zun, Ja Bistro, McCafe, Mean Bao, Subway']\n",
      " \n",
      "'Hiwa' has been mentioned in:\n",
      "[\"Toronto Restaurant Openings: Daisy, Puffs Pastes, Jester's, Tamasha Social, Hiwa\"]\n",
      " \n",
      "'Par-Tee Putt' has been mentioned in:\n",
      "['Par-Tee Putt']\n",
      " \n",
      "'San Coffee Room' has been mentioned in:\n",
      "['San Coffee Room']\n",
      " \n",
      "'The Fourth Man in the Fire' has been mentioned in:\n",
      "['The Fourth Man in the Fire']\n",
      " \n",
      "'Bar Poet' has been mentioned in:\n",
      "[\"Toronto Restaurant Openings: Bar Poet, Azhar, Cass Avenue, Chen Chen's, Karahi Boys\", 'Bar Poet']\n",
      " \n",
      "'Project Glyph' has been mentioned in:\n",
      "['Toronto Restaurant Openings: Faim de Loup, Project Glyph, Chavo Gelato, Est, The Salon', 'Project Glyph']\n",
      " \n",
      "'Les epicuriens' has been mentioned in:\n",
      "['Les Epicuriens']\n",
      " \n",
      "'The Sweet Oven' has been mentioned in:\n",
      "['The Sweet Oven']\n",
      " \n",
      "'Xango' has been mentioned in:\n",
      "['Xango']\n",
      " \n",
      "'est Restaurant' has been mentioned in:\n",
      "['The 10 hottest restaurants in Toronto right now', 'Est Restaurant']\n",
      " \n",
      "'Jollibee' has been mentioned in:\n",
      "[\"There was a massive line up outside Toronto's newest Jollibee\", 'Jollibee is opening its next Toronto location this week', 'New Jollibee location to open in Toronto this fall', 'Jollibee Wilson']\n",
      " \n"
     ]
    }
   ],
   "source": [
    "HotAndNew[\"mention_count\"]=HotAndNew[\"restaurant\"].apply(lambda x:count_in_list(BlogTO[\"titles\"],x))"
   ]
  },
  {
   "cell_type": "code",
   "execution_count": 8,
   "metadata": {},
   "outputs": [
    {
     "data": {
      "text/html": [
       "<div>\n",
       "<style scoped>\n",
       "    .dataframe tbody tr th:only-of-type {\n",
       "        vertical-align: middle;\n",
       "    }\n",
       "\n",
       "    .dataframe tbody tr th {\n",
       "        vertical-align: top;\n",
       "    }\n",
       "\n",
       "    .dataframe thead th {\n",
       "        text-align: right;\n",
       "    }\n",
       "</style>\n",
       "<table border=\"1\" class=\"dataframe\">\n",
       "  <thead>\n",
       "    <tr style=\"text-align: right;\">\n",
       "      <th></th>\n",
       "      <th>restaurant</th>\n",
       "      <th>category</th>\n",
       "      <th>stars</th>\n",
       "      <th>location</th>\n",
       "      <th>mention_count</th>\n",
       "    </tr>\n",
       "  </thead>\n",
       "  <tbody>\n",
       "    <tr>\n",
       "      <td>1</td>\n",
       "      <td>Chick-fil-A</td>\n",
       "      <td>Fast Food</td>\n",
       "      <td>4.5</td>\n",
       "      <td>709 Yonge Street</td>\n",
       "      <td>11</td>\n",
       "    </tr>\n",
       "    <tr>\n",
       "      <td>46</td>\n",
       "      <td>Jollibee</td>\n",
       "      <td>Filipino</td>\n",
       "      <td>3.0</td>\n",
       "      <td>79 Billy Bishop Way</td>\n",
       "      <td>4</td>\n",
       "    </tr>\n",
       "    <tr>\n",
       "      <td>42</td>\n",
       "      <td>est Restaurant</td>\n",
       "      <td>Canadian (New)</td>\n",
       "      <td>3.0</td>\n",
       "      <td>729 Queen Street E</td>\n",
       "      <td>2</td>\n",
       "    </tr>\n",
       "    <tr>\n",
       "      <td>11</td>\n",
       "      <td>Bloom</td>\n",
       "      <td>Cafes</td>\n",
       "      <td>4.0</td>\n",
       "      <td>596 Yonge street</td>\n",
       "      <td>2</td>\n",
       "    </tr>\n",
       "    <tr>\n",
       "      <td>35</td>\n",
       "      <td>Project Glyph</td>\n",
       "      <td>Desserts</td>\n",
       "      <td>5.0</td>\n",
       "      <td>40 Hayden Street</td>\n",
       "      <td>2</td>\n",
       "    </tr>\n",
       "  </tbody>\n",
       "</table>\n",
       "</div>"
      ],
      "text/plain": [
       "        restaurant        category  stars             location  mention_count\n",
       "1      Chick-fil-A       Fast Food    4.5     709 Yonge Street             11\n",
       "46        Jollibee        Filipino    3.0  79 Billy Bishop Way              4\n",
       "42  est Restaurant  Canadian (New)    3.0   729 Queen Street E              2\n",
       "11           Bloom           Cafes    4.0     596 Yonge street              2\n",
       "35   Project Glyph        Desserts    5.0     40 Hayden Street              2"
      ]
     },
     "execution_count": 8,
     "metadata": {},
     "output_type": "execute_result"
    }
   ],
   "source": [
    "HotAndNew[HotAndNew[\"mention_count\"]!=0].sort_values(by='mention_count', ascending=False).head()"
   ]
  },
  {
   "cell_type": "code",
   "execution_count": 9,
   "metadata": {},
   "outputs": [],
   "source": [
    "subway = pd.read_csv(os.path.join(cwd, \"Data\", \"Torornto_Subway_Station_List.csv\"))"
   ]
  },
  {
   "cell_type": "code",
   "execution_count": 10,
   "metadata": {},
   "outputs": [],
   "source": [
    "my_addresses=[\"153 Aspen Hills Villas, Calgary\", \"1800 McGill College Avenue, Montreal\", \"40 king street west, Toronto\"]"
   ]
  },
  {
   "cell_type": "code",
   "execution_count": 11,
   "metadata": {},
   "outputs": [],
   "source": [
    "temp_df=subway[[\"station\"]].copy()\n",
    "temp_df[\"full_address\"]=temp_df[\"station\"].apply(lambda x: x + \" Subway Station, Toronto, Canada\")"
   ]
  },
  {
   "cell_type": "code",
   "execution_count": 12,
   "metadata": {},
   "outputs": [
    {
     "name": "stdout",
     "output_type": "stream",
     "text": [
      "74 address in 678.5671646595001 sec with 8 threads\n"
     ]
    }
   ],
   "source": [
    "jobs=8\n",
    "mp_scraper=hf.mp_address_latlong(address_list=temp_df[\"full_address\"].tolist(),\n",
    "                                 patient_time=1,\n",
    "                                 jobs=jobs)\n",
    "start_time = time.time()\n",
    "lat_long_list=mp_scraper.excecute()\n",
    "end_time = time.time() - start_time\n",
    "print(\"{0} address in {1} sec with {2} threads\".format(len(temp_df[\"full_address\"].tolist()), end_time, jobs))"
   ]
  },
  {
   "cell_type": "code",
   "execution_count": 13,
   "metadata": {},
   "outputs": [],
   "source": [
    "subway[\"latitude\"]=np.asarray(lat_long_list)[:,0].tolist()\n",
    "subway[\"longitude\"]=np.asarray(lat_long_list)[:,1].tolist()"
   ]
  },
  {
   "cell_type": "code",
   "execution_count": 14,
   "metadata": {},
   "outputs": [
    {
     "data": {
      "text/html": [
       "<div>\n",
       "<style scoped>\n",
       "    .dataframe tbody tr th:only-of-type {\n",
       "        vertical-align: middle;\n",
       "    }\n",
       "\n",
       "    .dataframe tbody tr th {\n",
       "        vertical-align: top;\n",
       "    }\n",
       "\n",
       "    .dataframe thead th {\n",
       "        text-align: right;\n",
       "    }\n",
       "</style>\n",
       "<table border=\"1\" class=\"dataframe\">\n",
       "  <thead>\n",
       "    <tr style=\"text-align: right;\">\n",
       "      <th></th>\n",
       "      <th>station</th>\n",
       "      <th>line_number</th>\n",
       "      <th>Line_Color</th>\n",
       "      <th>latitude</th>\n",
       "      <th>longitude</th>\n",
       "    </tr>\n",
       "  </thead>\n",
       "  <tbody>\n",
       "    <tr>\n",
       "      <td>0</td>\n",
       "      <td>Finch</td>\n",
       "      <td>1</td>\n",
       "      <td>Yellow</td>\n",
       "      <td>43.782083</td>\n",
       "      <td>-79.416066</td>\n",
       "    </tr>\n",
       "    <tr>\n",
       "      <td>1</td>\n",
       "      <td>North York Centre</td>\n",
       "      <td>1</td>\n",
       "      <td>Yellow</td>\n",
       "      <td>43.768595</td>\n",
       "      <td>-79.412732</td>\n",
       "    </tr>\n",
       "    <tr>\n",
       "      <td>2</td>\n",
       "      <td>Sheppard-Yonge</td>\n",
       "      <td>1</td>\n",
       "      <td>Yellow</td>\n",
       "      <td>43.761505</td>\n",
       "      <td>-79.410989</td>\n",
       "    </tr>\n",
       "    <tr>\n",
       "      <td>3</td>\n",
       "      <td>York Mills</td>\n",
       "      <td>1</td>\n",
       "      <td>Yellow</td>\n",
       "      <td>43.744069</td>\n",
       "      <td>-79.406720</td>\n",
       "    </tr>\n",
       "    <tr>\n",
       "      <td>4</td>\n",
       "      <td>Lawrence</td>\n",
       "      <td>1</td>\n",
       "      <td>Yellow</td>\n",
       "      <td>43.726597</td>\n",
       "      <td>-79.402592</td>\n",
       "    </tr>\n",
       "    <tr>\n",
       "      <td>...</td>\n",
       "      <td>...</td>\n",
       "      <td>...</td>\n",
       "      <td>...</td>\n",
       "      <td>...</td>\n",
       "      <td>...</td>\n",
       "    </tr>\n",
       "    <tr>\n",
       "      <td>69</td>\n",
       "      <td>Sheppard-Yonge</td>\n",
       "      <td>4</td>\n",
       "      <td>Purple</td>\n",
       "      <td>43.761505</td>\n",
       "      <td>-79.410989</td>\n",
       "    </tr>\n",
       "    <tr>\n",
       "      <td>70</td>\n",
       "      <td>Bayview</td>\n",
       "      <td>4</td>\n",
       "      <td>Purple</td>\n",
       "      <td>43.767022</td>\n",
       "      <td>-79.386758</td>\n",
       "    </tr>\n",
       "    <tr>\n",
       "      <td>71</td>\n",
       "      <td>Bessarion</td>\n",
       "      <td>4</td>\n",
       "      <td>Purple</td>\n",
       "      <td>43.769341</td>\n",
       "      <td>-79.375934</td>\n",
       "    </tr>\n",
       "    <tr>\n",
       "      <td>72</td>\n",
       "      <td>Leslie</td>\n",
       "      <td>4</td>\n",
       "      <td>Purple</td>\n",
       "      <td>43.771098</td>\n",
       "      <td>-79.365997</td>\n",
       "    </tr>\n",
       "    <tr>\n",
       "      <td>73</td>\n",
       "      <td>Don Mills</td>\n",
       "      <td>4</td>\n",
       "      <td>Purple</td>\n",
       "      <td>43.775757</td>\n",
       "      <td>-79.345178</td>\n",
       "    </tr>\n",
       "  </tbody>\n",
       "</table>\n",
       "<p>74 rows × 5 columns</p>\n",
       "</div>"
      ],
      "text/plain": [
       "              station  line_number Line_Color   latitude   longitude\n",
       "0               Finch            1     Yellow  43.782083  -79.416066\n",
       "1   North York Centre            1     Yellow  43.768595  -79.412732\n",
       "2      Sheppard-Yonge            1     Yellow  43.761505  -79.410989\n",
       "3          York Mills            1     Yellow  43.744069  -79.406720\n",
       "4            Lawrence            1     Yellow  43.726597  -79.402592\n",
       "..                ...          ...        ...        ...         ...\n",
       "69     Sheppard-Yonge            4     Purple  43.761505  -79.410989\n",
       "70            Bayview            4     Purple  43.767022  -79.386758\n",
       "71          Bessarion            4     Purple  43.769341  -79.375934\n",
       "72             Leslie            4     Purple  43.771098  -79.365997\n",
       "73          Don Mills            4     Purple  43.775757  -79.345178\n",
       "\n",
       "[74 rows x 5 columns]"
      ]
     },
     "execution_count": 14,
     "metadata": {},
     "output_type": "execute_result"
    }
   ],
   "source": [
    "subway"
   ]
  },
  {
   "cell_type": "code",
   "execution_count": 15,
   "metadata": {},
   "outputs": [],
   "source": [
    "temp_df=HotAndNew[[\"location\"]].copy()\n",
    "temp_df[\"full_address\"]=temp_df[\"location\"].apply(lambda x: x + \", Toronto, Canada\")"
   ]
  },
  {
   "cell_type": "code",
   "execution_count": 16,
   "metadata": {},
   "outputs": [
    {
     "name": "stdout",
     "output_type": "stream",
     "text": [
      "47 address in 473.95118951797485 sec with 8 threads\n"
     ]
    }
   ],
   "source": [
    "jobs=8\n",
    "mp_scraper=hf.mp_address_latlong(address_list=temp_df[\"full_address\"].tolist(),\n",
    "                                 patient_time=1,\n",
    "                                 jobs=jobs)\n",
    "start_time = time.time()\n",
    "lat_long_list=mp_scraper.excecute()\n",
    "end_time = time.time() - start_time\n",
    "print(\"{0} address in {1} sec with {2} threads\".format(len(temp_df[\"full_address\"].tolist()), end_time, jobs))"
   ]
  },
  {
   "cell_type": "code",
   "execution_count": 17,
   "metadata": {},
   "outputs": [],
   "source": [
    "HotAndNew[\"latitude\"]=np.asarray(lat_long_list)[:,0].tolist()\n",
    "HotAndNew[\"longitude\"]=np.asarray(lat_long_list)[:,1].tolist()"
   ]
  },
  {
   "cell_type": "code",
   "execution_count": 19,
   "metadata": {},
   "outputs": [
    {
     "data": {
      "text/html": [
       "<div>\n",
       "<style scoped>\n",
       "    .dataframe tbody tr th:only-of-type {\n",
       "        vertical-align: middle;\n",
       "    }\n",
       "\n",
       "    .dataframe tbody tr th {\n",
       "        vertical-align: top;\n",
       "    }\n",
       "\n",
       "    .dataframe thead th {\n",
       "        text-align: right;\n",
       "    }\n",
       "</style>\n",
       "<table border=\"1\" class=\"dataframe\">\n",
       "  <thead>\n",
       "    <tr style=\"text-align: right;\">\n",
       "      <th></th>\n",
       "      <th>restaurant</th>\n",
       "      <th>category</th>\n",
       "      <th>stars</th>\n",
       "      <th>location</th>\n",
       "      <th>mention_count</th>\n",
       "      <th>latitude</th>\n",
       "      <th>longitude</th>\n",
       "    </tr>\n",
       "  </thead>\n",
       "  <tbody>\n",
       "    <tr>\n",
       "      <td>0</td>\n",
       "      <td>Tiger Sugar</td>\n",
       "      <td>Bubble Tea</td>\n",
       "      <td>4.0</td>\n",
       "      <td>348A Yonge Street</td>\n",
       "      <td>1</td>\n",
       "      <td>43.658036</td>\n",
       "      <td>-79.381941</td>\n",
       "    </tr>\n",
       "    <tr>\n",
       "      <td>1</td>\n",
       "      <td>Chick-fil-A</td>\n",
       "      <td>Fast Food</td>\n",
       "      <td>4.5</td>\n",
       "      <td>709 Yonge Street</td>\n",
       "      <td>11</td>\n",
       "      <td>43.669547</td>\n",
       "      <td>-79.386144</td>\n",
       "    </tr>\n",
       "    <tr>\n",
       "      <td>2</td>\n",
       "      <td>Phat Kaphrao</td>\n",
       "      <td>Thai</td>\n",
       "      <td>4.5</td>\n",
       "      <td>3016B Bathurst Street</td>\n",
       "      <td>1</td>\n",
       "      <td>43.717842</td>\n",
       "      <td>-79.429744</td>\n",
       "    </tr>\n",
       "    <tr>\n",
       "      <td>3</td>\n",
       "      <td>Azkadenya - Mezza Diner</td>\n",
       "      <td>Middle Eastern</td>\n",
       "      <td>4.5</td>\n",
       "      <td>235 Queen Street West</td>\n",
       "      <td>0</td>\n",
       "      <td>43.650249</td>\n",
       "      <td>-79.388288</td>\n",
       "    </tr>\n",
       "    <tr>\n",
       "      <td>4</td>\n",
       "      <td>EAT BKK</td>\n",
       "      <td>Thai</td>\n",
       "      <td>4.5</td>\n",
       "      <td>580 Queen Street W</td>\n",
       "      <td>0</td>\n",
       "      <td></td>\n",
       "      <td></td>\n",
       "    </tr>\n",
       "  </tbody>\n",
       "</table>\n",
       "</div>"
      ],
      "text/plain": [
       "                restaurant        category  stars               location  \\\n",
       "0              Tiger Sugar      Bubble Tea    4.0      348A Yonge Street   \n",
       "1              Chick-fil-A       Fast Food    4.5       709 Yonge Street   \n",
       "2             Phat Kaphrao            Thai    4.5  3016B Bathurst Street   \n",
       "3  Azkadenya - Mezza Diner  Middle Eastern    4.5  235 Queen Street West   \n",
       "4                  EAT BKK            Thai    4.5     580 Queen Street W   \n",
       "\n",
       "   mention_count   latitude   longitude  \n",
       "0              1  43.658036  -79.381941  \n",
       "1             11  43.669547  -79.386144  \n",
       "2              1  43.717842  -79.429744  \n",
       "3              0  43.650249  -79.388288  \n",
       "4              0                         "
      ]
     },
     "execution_count": 19,
     "metadata": {},
     "output_type": "execute_result"
    }
   ],
   "source": [
    "HotAndNew.head()"
   ]
  },
  {
   "cell_type": "code",
   "execution_count": 20,
   "metadata": {},
   "outputs": [],
   "source": [
    "subway.to_csv(os.path.join(cwd, \"Data\", \"Torornto_Subway_Station_List.csv\"),index=False)"
   ]
  },
  {
   "cell_type": "code",
   "execution_count": 21,
   "metadata": {},
   "outputs": [],
   "source": [
    "HotAndNew.to_csv(os.path.join(cwd, \"Data\", \"BlogTO_mentions.csv\"),index=False)"
   ]
  }
 ],
 "metadata": {
  "kernelspec": {
   "display_name": "Python 3",
   "language": "python",
   "name": "python3"
  },
  "language_info": {
   "codemirror_mode": {
    "name": "ipython",
    "version": 3
   },
   "file_extension": ".py",
   "mimetype": "text/x-python",
   "name": "python",
   "nbconvert_exporter": "python",
   "pygments_lexer": "ipython3",
   "version": "3.7.3"
  }
 },
 "nbformat": 4,
 "nbformat_minor": 2
}
