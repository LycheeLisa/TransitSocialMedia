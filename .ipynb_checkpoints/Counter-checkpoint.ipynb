{
 "cells": [
  {
   "cell_type": "markdown",
   "metadata": {},
   "source": [
    "# Convert Yelp restaurants to list "
   ]
  },
  {
   "cell_type": "code",
   "execution_count": 4,
   "metadata": {},
   "outputs": [],
   "source": [
    "import csv\n",
    "from collections import Counter\n",
    "import pandas as pd\n",
    "import numpy as np"
   ]
  },
  {
   "cell_type": "code",
   "execution_count": 5,
   "metadata": {},
   "outputs": [
    {
     "data": {
      "text/html": [
       "<div>\n",
       "<style scoped>\n",
       "    .dataframe tbody tr th:only-of-type {\n",
       "        vertical-align: middle;\n",
       "    }\n",
       "\n",
       "    .dataframe tbody tr th {\n",
       "        vertical-align: top;\n",
       "    }\n",
       "\n",
       "    .dataframe thead th {\n",
       "        text-align: right;\n",
       "    }\n",
       "</style>\n",
       "<table border=\"1\" class=\"dataframe\">\n",
       "  <thead>\n",
       "    <tr style=\"text-align: right;\">\n",
       "      <th></th>\n",
       "      <th>restaurant</th>\n",
       "      <th>category</th>\n",
       "      <th>stars</th>\n",
       "      <th>location</th>\n",
       "    </tr>\n",
       "  </thead>\n",
       "  <tbody>\n",
       "    <tr>\n",
       "      <td>0</td>\n",
       "      <td>Tiger Sugar</td>\n",
       "      <td>Bubble Tea</td>\n",
       "      <td>4.0</td>\n",
       "      <td>348A Yonge Street</td>\n",
       "    </tr>\n",
       "    <tr>\n",
       "      <td>1</td>\n",
       "      <td>Chick-fil-A</td>\n",
       "      <td>Fast Food</td>\n",
       "      <td>4.5</td>\n",
       "      <td>709 Yonge Street</td>\n",
       "    </tr>\n",
       "    <tr>\n",
       "      <td>2</td>\n",
       "      <td>Phat Kaphrao</td>\n",
       "      <td>Thai</td>\n",
       "      <td>4.5</td>\n",
       "      <td>3016B Bathurst Street</td>\n",
       "    </tr>\n",
       "    <tr>\n",
       "      <td>3</td>\n",
       "      <td>Azkadenya - Mezza Diner</td>\n",
       "      <td>Middle Eastern</td>\n",
       "      <td>4.5</td>\n",
       "      <td>235 Queen Street West</td>\n",
       "    </tr>\n",
       "    <tr>\n",
       "      <td>4</td>\n",
       "      <td>EAT BKK</td>\n",
       "      <td>Thai</td>\n",
       "      <td>4.5</td>\n",
       "      <td>580 Queen Street W</td>\n",
       "    </tr>\n",
       "  </tbody>\n",
       "</table>\n",
       "</div>"
      ],
      "text/plain": [
       "                restaurant        category   stars               location\n",
       "0              Tiger Sugar      Bubble Tea     4.0      348A Yonge Street\n",
       "1              Chick-fil-A       Fast Food     4.5       709 Yonge Street\n",
       "2             Phat Kaphrao            Thai     4.5  3016B Bathurst Street\n",
       "3  Azkadenya - Mezza Diner  Middle Eastern     4.5  235 Queen Street West\n",
       "4                  EAT BKK            Thai     4.5     580 Queen Street W"
      ]
     },
     "execution_count": 5,
     "metadata": {},
     "output_type": "execute_result"
    }
   ],
   "source": [
    "#BlogTO_mentions, HotAndNew\n",
    "HotAndNew=pd.read_csv('HotAndNew.csv')\n",
    "HotAndNew.head()"
   ]
  },
  {
   "cell_type": "code",
   "execution_count": 3,
   "metadata": {},
   "outputs": [
    {
     "data": {
      "text/html": [
       "<div>\n",
       "<style scoped>\n",
       "    .dataframe tbody tr th:only-of-type {\n",
       "        vertical-align: middle;\n",
       "    }\n",
       "\n",
       "    .dataframe tbody tr th {\n",
       "        vertical-align: top;\n",
       "    }\n",
       "\n",
       "    .dataframe thead th {\n",
       "        text-align: right;\n",
       "    }\n",
       "</style>\n",
       "<table border=\"1\" class=\"dataframe\">\n",
       "  <thead>\n",
       "    <tr style=\"text-align: right;\">\n",
       "      <th></th>\n",
       "      <th>titles</th>\n",
       "    </tr>\n",
       "  </thead>\n",
       "  <tbody>\n",
       "    <tr>\n",
       "      <td>0</td>\n",
       "      <td>Toronto's Tiger Sugar biggest sports bar is ge...</td>\n",
       "    </tr>\n",
       "    <tr>\n",
       "      <td>1</td>\n",
       "      <td>This glow-in-the-dark bar near Toronto serves ...</td>\n",
       "    </tr>\n",
       "    <tr>\n",
       "      <td>2</td>\n",
       "      <td>Toronto is making fun of the crappy sale at Fr...</td>\n",
       "    </tr>\n",
       "    <tr>\n",
       "      <td>3</td>\n",
       "      <td>Toronto bars are open late and serving booze u...</td>\n",
       "    </tr>\n",
       "    <tr>\n",
       "      <td>4</td>\n",
       "      <td>Toronto restaurant apologizes after owner's so...</td>\n",
       "    </tr>\n",
       "    <tr>\n",
       "      <td>5</td>\n",
       "      <td>Tim Hortons is now selling canned soup in Toro...</td>\n",
       "    </tr>\n",
       "    <tr>\n",
       "      <td>6</td>\n",
       "      <td>Toronto activists want Ryding-Regency Meat Pac...</td>\n",
       "    </tr>\n",
       "    <tr>\n",
       "      <td>7</td>\n",
       "      <td>Toronto restaurants could soon be forced to of...</td>\n",
       "    </tr>\n",
       "    <tr>\n",
       "      <td>8</td>\n",
       "      <td>Tim Hortons is now doing Kit Kat everything an...</td>\n",
       "    </tr>\n",
       "    <tr>\n",
       "      <td>9</td>\n",
       "      <td>Toronto soul food joint known for its epic Cae...</td>\n",
       "    </tr>\n",
       "    <tr>\n",
       "      <td>10</td>\n",
       "      <td>Toronto Restaurant Openings: Daisy Puffs Paste...</td>\n",
       "    </tr>\n",
       "    <tr>\n",
       "      <td>11</td>\n",
       "      <td>Toronto wants to take back the abandoned food ...</td>\n",
       "    </tr>\n",
       "    <tr>\n",
       "      <td>12</td>\n",
       "      <td>The new winter festival at Canada's Wonderland...</td>\n",
       "    </tr>\n",
       "    <tr>\n",
       "      <td>13</td>\n",
       "      <td>One of Toronto's most popular brunch spots is ...</td>\n",
       "    </tr>\n",
       "    <tr>\n",
       "      <td>14</td>\n",
       "      <td>Toronto is getting a Starcourt Mall for an epi...</td>\n",
       "    </tr>\n",
       "    <tr>\n",
       "      <td>15</td>\n",
       "      <td>The top 10 new restaurant openings in Toronto ...</td>\n",
       "    </tr>\n",
       "    <tr>\n",
       "      <td>16</td>\n",
       "      <td>Toronto's ambitious new Russian restaurant clo...</td>\n",
       "    </tr>\n",
       "    <tr>\n",
       "      <td>17</td>\n",
       "      <td>Toronto's spot for deluxe bagel sandwiches is ...</td>\n",
       "    </tr>\n",
       "    <tr>\n",
       "      <td>18</td>\n",
       "      <td>Quirky No Name ads in Toronto have spread to T...</td>\n",
       "    </tr>\n",
       "    <tr>\n",
       "      <td>19</td>\n",
       "      <td>This Week on DineSafe: Tim Hortons Fet Zun Ja ...</td>\n",
       "    </tr>\n",
       "    <tr>\n",
       "      <td>20</td>\n",
       "      <td>One of Toronto's favourite Italian restaurants...</td>\n",
       "    </tr>\n",
       "    <tr>\n",
       "      <td>21</td>\n",
       "      <td>Popular cheese tea chain Machi Machi just open...</td>\n",
       "    </tr>\n",
       "    <tr>\n",
       "      <td>22</td>\n",
       "      <td>Toronto butcher shop that's also a restaurant ...</td>\n",
       "    </tr>\n",
       "    <tr>\n",
       "      <td>23</td>\n",
       "      <td>A magical holiday market is coming to downtown...</td>\n",
       "    </tr>\n",
       "    <tr>\n",
       "      <td>24</td>\n",
       "      <td>Tiger Sugar</td>\n",
       "    </tr>\n",
       "    <tr>\n",
       "      <td>25</td>\n",
       "      <td>Monasaba</td>\n",
       "    </tr>\n",
       "    <tr>\n",
       "      <td>26</td>\n",
       "      <td>Chai Pochana</td>\n",
       "    </tr>\n",
       "    <tr>\n",
       "      <td>27</td>\n",
       "      <td>Bar Vendetta</td>\n",
       "    </tr>\n",
       "    <tr>\n",
       "      <td>28</td>\n",
       "      <td>Long Time No See</td>\n",
       "    </tr>\n",
       "    <tr>\n",
       "      <td>29</td>\n",
       "      <td>Bread and Salt Bakehouse</td>\n",
       "    </tr>\n",
       "    <tr>\n",
       "      <td>30</td>\n",
       "      <td>Somun Superstar</td>\n",
       "    </tr>\n",
       "    <tr>\n",
       "      <td>31</td>\n",
       "      <td>Cocoon Coffee</td>\n",
       "    </tr>\n",
       "    <tr>\n",
       "      <td>32</td>\n",
       "      <td>Beaches Brewing Company</td>\n",
       "    </tr>\n",
       "    <tr>\n",
       "      <td>33</td>\n",
       "      <td>Jack and Lil's Commissary</td>\n",
       "    </tr>\n",
       "    <tr>\n",
       "      <td>34</td>\n",
       "      <td>Stockyards Grind</td>\n",
       "    </tr>\n",
       "    <tr>\n",
       "      <td>35</td>\n",
       "      <td>Avelo</td>\n",
       "    </tr>\n",
       "    <tr>\n",
       "      <td>36</td>\n",
       "      <td>The Enchanted Poutinerie</td>\n",
       "    </tr>\n",
       "    <tr>\n",
       "      <td>37</td>\n",
       "      <td>Bar Piquette</td>\n",
       "    </tr>\n",
       "    <tr>\n",
       "      <td>38</td>\n",
       "      <td>The Palms Jerk &amp; Grill</td>\n",
       "    </tr>\n",
       "  </tbody>\n",
       "</table>\n",
       "</div>"
      ],
      "text/plain": [
       "                                               titles\n",
       "0   Toronto's Tiger Sugar biggest sports bar is ge...\n",
       "1   This glow-in-the-dark bar near Toronto serves ...\n",
       "2   Toronto is making fun of the crappy sale at Fr...\n",
       "3   Toronto bars are open late and serving booze u...\n",
       "4   Toronto restaurant apologizes after owner's so...\n",
       "5   Tim Hortons is now selling canned soup in Toro...\n",
       "6   Toronto activists want Ryding-Regency Meat Pac...\n",
       "7   Toronto restaurants could soon be forced to of...\n",
       "8   Tim Hortons is now doing Kit Kat everything an...\n",
       "9   Toronto soul food joint known for its epic Cae...\n",
       "10  Toronto Restaurant Openings: Daisy Puffs Paste...\n",
       "11  Toronto wants to take back the abandoned food ...\n",
       "12  The new winter festival at Canada's Wonderland...\n",
       "13  One of Toronto's most popular brunch spots is ...\n",
       "14  Toronto is getting a Starcourt Mall for an epi...\n",
       "15  The top 10 new restaurant openings in Toronto ...\n",
       "16  Toronto's ambitious new Russian restaurant clo...\n",
       "17  Toronto's spot for deluxe bagel sandwiches is ...\n",
       "18  Quirky No Name ads in Toronto have spread to T...\n",
       "19  This Week on DineSafe: Tim Hortons Fet Zun Ja ...\n",
       "20  One of Toronto's favourite Italian restaurants...\n",
       "21  Popular cheese tea chain Machi Machi just open...\n",
       "22  Toronto butcher shop that's also a restaurant ...\n",
       "23  A magical holiday market is coming to downtown...\n",
       "24                                        Tiger Sugar\n",
       "25                                           Monasaba\n",
       "26                                       Chai Pochana\n",
       "27                                       Bar Vendetta\n",
       "28                                   Long Time No See\n",
       "29                           Bread and Salt Bakehouse\n",
       "30                                    Somun Superstar\n",
       "31                                      Cocoon Coffee\n",
       "32                            Beaches Brewing Company\n",
       "33                          Jack and Lil's Commissary\n",
       "34                                   Stockyards Grind\n",
       "35                                              Avelo\n",
       "36                           The Enchanted Poutinerie\n",
       "37                                       Bar Piquette\n",
       "38                             The Palms Jerk & Grill"
      ]
     },
     "execution_count": 3,
     "metadata": {},
     "output_type": "execute_result"
    }
   ],
   "source": [
    "pd.read_csv('BlogTO_mentions.csv')\n",
    "BlogTO=pd.read_csv('BlogTO.csv')\n",
    "HotAndNew.head()"
   ]
  },
  {
   "cell_type": "code",
   "execution_count": null,
   "metadata": {},
   "outputs": [],
   "source": [
    "#Step 1: Store Yelp Restaurant names as a list\n",
    "df1=pd.read_csv('HotAndNew.csv')\n",
    "ylist=df1['restaurant'].tolist()\n",
    "#Make lower case\n",
    "ylist = [item.lower() for item in ylist]\n",
    "df1['restaurant'] = ylist\n",
    "df1"
   ]
  },
  {
   "cell_type": "code",
   "execution_count": null,
   "metadata": {},
   "outputs": [],
   "source": [
    "#Step 2: Store BlogTO articles names as a list\n",
    "df2=pd.read_csv('BlogTO_mentions.csv')\n",
    "blist=df2['titles'].tolist()\n",
    "#Make lower case\n",
    "blist = [item.lower() for item in blist]\n",
    "# remove trailing and leading white spaces\n",
    "blist = [item.strip(' ') for item in blist]\n",
    "df2['titles'] = blist\n",
    "df2"
   ]
  },
  {
   "cell_type": "code",
   "execution_count": null,
   "metadata": {},
   "outputs": [],
   "source": [
    "help(filter)"
   ]
  },
  {
   "cell_type": "code",
   "execution_count": null,
   "metadata": {},
   "outputs": [],
   "source": []
  },
  {
   "cell_type": "code",
   "execution_count": null,
   "metadata": {},
   "outputs": [],
   "source": [
    "#DO THE DICTIONARY WAY #\n",
    "#Convert Yelp list to Dictionary\n",
    "restaurantdic = {i : 0 for i in ylist}\n",
    "# Search for hits in BlogTO from "
   ]
  },
  {
   "cell_type": "code",
   "execution_count": null,
   "metadata": {},
   "outputs": [],
   "source": [
    "#pandas\n",
    "for title in ylist:\n",
    "    df2.filter(title)\n",
    "    restaurantdic[title](df2.size) = df2.filter(title)"
   ]
  },
  {
   "cell_type": "code",
   "execution_count": null,
   "metadata": {},
   "outputs": [],
   "source": [
    "### STOPS AT 1###\n",
    "for title in restaurantdic:    \n",
    "    #if title in blist:\n",
    "    if any(title in s for s in blist):\n",
    "        restaurantdic[title] += 1\n",
    "        pass\n",
    "        #Does not appear to hit twice in the same loop: For example if tiger sugar appears once in reviews, and once in a feature article"
   ]
  },
  {
   "cell_type": "code",
   "execution_count": null,
   "metadata": {},
   "outputs": [],
   "source": [
    "#Check Count\n",
    "restaurantdic"
   ]
  },
  {
   "cell_type": "code",
   "execution_count": null,
   "metadata": {},
   "outputs": [],
   "source": [
    "#Convert dictionary values to list\n",
    "mentions = [m for m in restaurantdic.values()]\n",
    "#mention = str(mentions)\n",
    "#Step 4: Print new csv with columns:\n",
    "#Restaurant names | category | Stars | Featured Article/Review Count | *Aggregated score* | Location"
   ]
  },
  {
   "cell_type": "code",
   "execution_count": null,
   "metadata": {},
   "outputs": [],
   "source": [
    "#Step 4: Print new csv with columns:\n",
    "#Restaurant names | category | Stars | Featured Article/Review Count | *Aggregated score* | Location\n",
    "\n",
    "filename = \"AggregatedScore.csv\"\n",
    "f = open(filename, 'w', encoding=\"utf-8\")\n",
    "headers = \"restaurant, category, stars, featured article count, aggregated score, location\" + '\\n'\n",
    "f.write(headers)\n"
   ]
  },
  {
   "cell_type": "code",
   "execution_count": null,
   "metadata": {},
   "outputs": [],
   "source": [
    "#name is already 'ylist'\n",
    "#Prepare lists - type\n",
    "df1=pd.read_csv('HotAndNew.csv')\n",
    "category=df1[' category'].tolist()\n",
    "#Prepare lists - stars\n",
    "df1=pd.read_csv('HotAndNew.csv')\n",
    "stars=df1[' stars'].tolist()\n",
    "#count is already 'mention'\n",
    "#aggregated score adjust weighting\n",
    "weight = mentions*2\n",
    "aggregate = [x + y for x, y in zip(stars, weight)]\n",
    "#Prepare lists - location\n",
    "df1=pd.read_csv('HotAndNew.csv')\n",
    "location=df1[' location'].tolist()\n"
   ]
  },
  {
   "cell_type": "code",
   "execution_count": null,
   "metadata": {},
   "outputs": [],
   "source": [
    "rows = zip(ylist,category,stars,mentions,aggregate,location)\n",
    "with open(\"AggregatedScore.csv\", \"a\", encoding=\"utf-8\") as f:\n",
    "    writer = csv.writer(f)\n",
    "    for row in rows:\n",
    "        writer.writerow(row)"
   ]
  },
  {
   "cell_type": "code",
   "execution_count": null,
   "metadata": {},
   "outputs": [],
   "source": [
    "\n",
    "f.close()"
   ]
  },
  {
   "cell_type": "markdown",
   "metadata": {},
   "source": [
    "# Tweaking To Do's\n",
    "# 1) Get more featured articles via selenium\n",
    "# 2) Figure out why counters stop at 1 hit"
   ]
  },
  {
   "cell_type": "code",
   "execution_count": null,
   "metadata": {},
   "outputs": [],
   "source": [
    "print(location)"
   ]
  },
  {
   "cell_type": "code",
   "execution_count": null,
   "metadata": {},
   "outputs": [],
   "source": [
    "#Write to csv\n",
    "for name in ylist:\n",
    "    f.write(ylist +','+ category +','+ stars + ','+ aggregate + ',' + location+'\\n')\n",
    "f.close()"
   ]
  },
  {
   "cell_type": "code",
   "execution_count": null,
   "metadata": {},
   "outputs": [],
   "source": []
  },
  {
   "cell_type": "code",
   "execution_count": null,
   "metadata": {
    "scrolled": true
   },
   "outputs": [],
   "source": []
  },
  {
   "cell_type": "code",
   "execution_count": null,
   "metadata": {},
   "outputs": [],
   "source": []
  },
  {
   "cell_type": "code",
   "execution_count": null,
   "metadata": {},
   "outputs": [],
   "source": []
  },
  {
   "cell_type": "markdown",
   "metadata": {},
   "source": [
    "#Obsolete Code for step 3\n",
    "#Count REVIEWS\n",
    "#https://stackoverflow.com/questions/50449088/check-if-value-from-one-dataframe-exists-in-another-dataframe\n",
    "#https://www.interviewqs.com/ddi_code_snippets/rows_cols_python\n",
    "#df1.assign(Counter=df1.restaurant.isin(df2.titles).astype(int))\n",
    "#df1.assign(Counter=df1.restaurant.isin(df2.titles).astype(int))"
   ]
  },
  {
   "cell_type": "code",
   "execution_count": null,
   "metadata": {},
   "outputs": [],
   "source": [
    "#Count ARTICLES MENTIONS\n",
    "#Attempt 1: For loops\n",
    "counter = 0\n",
    "for title in ylist:    \n",
    "    if title in blist:\n",
    "        counter += 1\n",
    "        print(title, counter)\n",
    "    else:\n",
    "        print(title)"
   ]
  },
  {
   "cell_type": "code",
   "execution_count": null,
   "metadata": {},
   "outputs": [],
   "source": [
    "#Attempt 2: str. contains\n",
    "#Yes, gets title and article\n",
    "df2[df2['titles'].str.contains(\"tiger sugar\")]"
   ]
  },
  {
   "cell_type": "code",
   "execution_count": null,
   "metadata": {},
   "outputs": [],
   "source": [
    "#Attempt 3: Count occurences in lists: https://www.youtube.com/watch?v=szIFFw_Xl_M\n",
    "#\n",
    "for title in ylist:\n",
    "    print(title, blist.count(title))"
   ]
  },
  {
   "cell_type": "code",
   "execution_count": null,
   "metadata": {},
   "outputs": [],
   "source": [
    "for title in ylist:\n",
    "    if title in blist:\n",
    "        print(title, 'yes',)\n",
    "    else:\n",
    "        print(title)"
   ]
  }
 ],
 "metadata": {
  "kernelspec": {
   "display_name": "Python 3",
   "language": "python",
   "name": "python3"
  },
  "language_info": {
   "codemirror_mode": {
    "name": "ipython",
    "version": 3
   },
   "file_extension": ".py",
   "mimetype": "text/x-python",
   "name": "python",
   "nbconvert_exporter": "python",
   "pygments_lexer": "ipython3",
   "version": "3.7.3"
  }
 },
 "nbformat": 4,
 "nbformat_minor": 2
}
