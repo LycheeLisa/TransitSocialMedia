{
  "cells": [
    {
      "metadata": {},
      "cell_type": "markdown",
      "source": "# Build out Address Pull"
    },
    {
      "metadata": {
        "trusted": true
      },
      "cell_type": "code",
      "source": "import re",
      "execution_count": 7,
      "outputs": []
    },
    {
      "metadata": {
        "trusted": true
      },
      "cell_type": "code",
      "source": "txt = \"Dubbed Gusto 501 and located at 501 King East, the five levels will comprise an open-concept ground floor dining room, semi-private amari lounge, cocktail bar, a chef tasting kitchen called 'Attico' on the top floor and a seasonal rooftop patio. Expect favourites from the Gusto 101 menu, as well as new spins on contemporary Italian.\"",
      "execution_count": 31,
      "outputs": []
    },
    {
      "metadata": {
        "trusted": true
      },
      "cell_type": "code",
      "source": "txt2 = \"If you love cheese foam on your bubble tea, good news: Toronto now has a location of the world-famous boba spot, Machi Machi. The Taiwanese bubble tea chain has just opened a new store at 575 Yonge Street, making it the first Canadian location ever. \"",
      "execution_count": 32,
      "outputs": []
    },
    {
      "metadata": {
        "trusted": true
      },
      "cell_type": "code",
      "source": "help(re.search)",
      "execution_count": 33,
      "outputs": [
        {
          "output_type": "stream",
          "text": "Help on function search in module re:\n\nsearch(pattern, string, flags=0)\n    Scan through string looking for a match to the pattern, returning\n    a match object, or None if no match was found.\n\n",
          "name": "stdout"
        }
      ]
    },
    {
      "metadata": {
        "trusted": true
      },
      "cell_type": "code",
      "source": "re.findall('[0-9][0-9][0-9]', txt)",
      "execution_count": 34,
      "outputs": [
        {
          "output_type": "execute_result",
          "execution_count": 34,
          "data": {
            "text/plain": "['501', '501', '101']"
          },
          "metadata": {}
        }
      ]
    },
    {
      "metadata": {
        "trusted": true
      },
      "cell_type": "code",
      "source": "re.findall('[0-9][0-9][0-9]', txt2)",
      "execution_count": 35,
      "outputs": [
        {
          "output_type": "execute_result",
          "execution_count": 35,
          "data": {
            "text/plain": "['575']"
          },
          "metadata": {}
        }
      ]
    },
    {
      "metadata": {
        "trusted": true
      },
      "cell_type": "code",
      "source": "address = re.findall(r'\\b\\d{1,3}(?:\\s[a-zA-Z\\u00C0-\\u017F]+)+',txt)\nprint(address)",
      "execution_count": 55,
      "outputs": [
        {
          "output_type": "stream",
          "text": "['501 and located at', '501 King East', '101 menu']\n",
          "name": "stdout"
        }
      ]
    },
    {
      "metadata": {
        "trusted": true
      },
      "cell_type": "code",
      "source": "address = re.findall(r'\\d{1,3}',txt2)\nprint(address)",
      "execution_count": 56,
      "outputs": [
        {
          "output_type": "stream",
          "text": "['575']\n",
          "name": "stdout"
        }
      ]
    },
    {
      "metadata": {
        "trusted": true
      },
      "cell_type": "code",
      "source": "address = re.findall(r'\\b\\d{1,3}(?:\\s[a-zA-Z\\u00C0-\\u017F]+)+',txt2)\nprint(address)",
      "execution_count": 57,
      "outputs": [
        {
          "output_type": "stream",
          "text": "['575 Yonge Street']\n",
          "name": "stdout"
        }
      ]
    },
    {
      "metadata": {},
      "cell_type": "markdown",
      "source": "# Address pull seems to work... \"123 Fake Street\" \nGoing to try to replicate with ~10 articles, create confusion matrix for test for F1 Score\n\nArticle selection:\nAutomatically drop if it contains stems of \"close\" or \"shut\""
    },
    {
      "metadata": {
        "trusted": true
      },
      "cell_type": "code",
      "source": "#Load articles\narticle1 = open(\"article1.txt\", \"r\")\narticle1Txt = article1.read()\n\narticle2 = open(\"article2.txt\", \"r\")\narticle2Txt = article2.read()\n\narticle3 = open(\"article3.txt\", \"r\")\narticle3Txt = article3.read()\n\narticle4 = open(\"article4.txt\", \"r\")\narticle4Txt = article4.read()",
      "execution_count": 50,
      "outputs": []
    },
    {
      "metadata": {
        "trusted": true
      },
      "cell_type": "code",
      "source": "article7 = open(\"article7.txt\", \"r\")\narticle7Txt = article7.read()\n\narticle8 = open(\"article8.txt\", \"r\")\narticle8Txt = article8.read()\n\narticle9 = open(\"article9.txt\", \"r\")\narticle9Txt = article9.read()\n\narticle10 = open(\"article10.txt\", \"r\")\narticle10Txt = article10.read()",
      "execution_count": 53,
      "outputs": []
    },
    {
      "metadata": {
        "trusted": true
      },
      "cell_type": "code",
      "source": "",
      "execution_count": null,
      "outputs": []
    },
    {
      "metadata": {
        "trusted": true
      },
      "cell_type": "code",
      "source": "address = re.findall(r'\\b\\d{1,3}(?:\\s[a-zA-Z\\u00C0-\\u017F]+)+',article1Txt)\nprint(address)\n\naddress = re.findall(r'\\b\\d{1,3}(?:\\s[a-zA-Z\\u00C0-\\u017F]+)+',article2Txt)\nprint(address)\n\naddress = re.findall(r'\\b\\d{1,3}(?:\\s[a-zA-Z\\u00C0-\\u017F]+)+',article3Txt)\nprint(address)\n\naddress = re.findall(r'\\b\\d{1,3}(?:\\s[a-zA-Z\\u00C0-\\u017F]+)+',article4Txt)\nprint(address)\n\naddress = re.findall(r'\\b\\d{1,3}(?:\\s[a-zA-Z\\u00C0-\\u017F]+)+',article7Txt)\nprint(address)\n\naddress = re.findall(r'\\b\\d{1,3}(?:\\s[a-zA-Z\\u00C0-\\u017F]+)+',article8Txt)\nprint(address)\n\naddress = re.findall(r'\\b\\d{1,3}(?:\\s[a-zA-Z\\u00C0-\\u017F]+)+',article9Txt)\nprint(address)\n\naddress = re.findall(r'\\b\\d{1,3}(?:\\s[a-zA-Z\\u00C0-\\u017F]+)+',article10Txt)\nprint(address)",
      "execution_count": 61,
      "outputs": [
        {
          "output_type": "stream",
          "text": "['501 and located at', '501 King East', '101 menu', '54 Restaurant Group', '501 is slated to finally open its doors this fall']\n['575 Yonge Street', '100 customers from today until Sunday will be getting a free Machi Machi tote', '100 after that will get a cool reusable cup bag']\n['20 years of experience in pastry']\n['45 minutes', '21 to October']\n['1 in toronto next week', '1 next week in celebration of their one year anniversary', '901 King West location', '30 a']\n['7 locations across the GTA', '330 Bay', '588 Snack Bar is coming soon to', '588 College', '365 Bay', '225 Yonge']\n['12 p', '5 p', '12 p', '5 p']\n[]\n",
          "name": "stdout"
        }
      ]
    },
    {
      "metadata": {},
      "cell_type": "markdown",
      "source": "# Takeaways\nBlogTO doesn't standardize their addresses - still can't pull addresses from articles\n\nPotential approaches - \n1 - Classifier for article type? Need to sort by article type which could include:\nOpening\nOpening (Multiple)\nClosing\nClosing (Multiple) \nEvents\nGeneral bullshittery (\"Restaurant makes funny ad, restaurant does controversial thing\")\n\n\n2 - <A> Tag approach? \n    \n    \n3 - Find new data sources? Tripadvisor? Yelp? \nYelp - How & New Businesses"
    }
  ],
  "metadata": {
    "kernelspec": {
      "name": "python36",
      "display_name": "Python 3.6",
      "language": "python"
    },
    "language_info": {
      "mimetype": "text/x-python",
      "nbconvert_exporter": "python",
      "name": "python",
      "pygments_lexer": "ipython3",
      "version": "3.6.6",
      "file_extension": ".py",
      "codemirror_mode": {
        "version": 3,
        "name": "ipython"
      }
    }
  },
  "nbformat": 4,
  "nbformat_minor": 2
}