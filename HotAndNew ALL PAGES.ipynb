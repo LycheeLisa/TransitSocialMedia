{
 "cells": [
  {
   "cell_type": "markdown",
   "metadata": {},
   "source": [
    "# Test 2: Hot & New restaurants\n",
    "Target: https://www.yelp.ca/search?attrs=NewBusiness&find_loc=Toronto%2C+ON\n",
    "\n",
    "Referenced Tutorials: \n",
    "https://www.youtube.com/watch?v=ng2o98k983k&t=1150s"
   ]
  },
  {
   "cell_type": "code",
   "execution_count": 1,
   "metadata": {
    "scrolled": true
   },
   "outputs": [
    {
     "name": "stdout",
     "output_type": "stream",
     "text": [
      "Requirement already satisfied: beautifulsoup4 in c:\\users\\raffles.h.koh\\appdata\\local\\continuum\\anaconda3\\lib\\site-packages (4.7.1)\n",
      "Requirement already satisfied: soupsieve>=1.2 in c:\\users\\raffles.h.koh\\appdata\\local\\continuum\\anaconda3\\lib\\site-packages (from beautifulsoup4) (1.8)\n",
      "Note: you may need to restart the kernel to use updated packages.\n"
     ]
    }
   ],
   "source": [
    "pip install beautifulsoup4"
   ]
  },
  {
   "cell_type": "code",
   "execution_count": 2,
   "metadata": {},
   "outputs": [
    {
     "name": "stdout",
     "output_type": "stream",
     "text": [
      "Requirement already satisfied: lxml in c:\\users\\raffles.h.koh\\appdata\\local\\continuum\\anaconda3\\lib\\site-packages (4.3.4)\n",
      "Note: you may need to restart the kernel to use updated packages.\n"
     ]
    }
   ],
   "source": [
    "pip install lxml"
   ]
  },
  {
   "cell_type": "code",
   "execution_count": 3,
   "metadata": {
    "scrolled": true
   },
   "outputs": [
    {
     "name": "stdout",
     "output_type": "stream",
     "text": [
      "Requirement already satisfied: requests in c:\\users\\raffles.h.koh\\appdata\\local\\continuum\\anaconda3\\lib\\site-packages (2.22.0)\n",
      "Requirement already satisfied: urllib3!=1.25.0,!=1.25.1,<1.26,>=1.21.1 in c:\\users\\raffles.h.koh\\appdata\\local\\continuum\\anaconda3\\lib\\site-packages (from requests) (1.24.2)\n",
      "Requirement already satisfied: chardet<3.1.0,>=3.0.2 in c:\\users\\raffles.h.koh\\appdata\\local\\continuum\\anaconda3\\lib\\site-packages (from requests) (3.0.4)\n",
      "Requirement already satisfied: certifi>=2017.4.17 in c:\\users\\raffles.h.koh\\appdata\\local\\continuum\\anaconda3\\lib\\site-packages (from requests) (2019.6.16)\n",
      "Requirement already satisfied: idna<2.9,>=2.5 in c:\\users\\raffles.h.koh\\appdata\\local\\continuum\\anaconda3\\lib\\site-packages (from requests) (2.8)\n",
      "Note: you may need to restart the kernel to use updated packages.\n"
     ]
    }
   ],
   "source": [
    "pip install requests"
   ]
  },
  {
   "cell_type": "code",
   "execution_count": 4,
   "metadata": {},
   "outputs": [],
   "source": [
    "#Importing BeautifulSoup\n",
    "from bs4 import BeautifulSoup\n",
    "import requests\n",
    "import csv"
   ]
  },
  {
   "cell_type": "code",
   "execution_count": 5,
   "metadata": {},
   "outputs": [],
   "source": [
    "#Get source code from Page1\n",
    "source = requests.get('https://www.yelp.ca/search?attrs=NewBusiness&find_loc=Toronto%2C%20ON&start=0').text\n",
    "\n",
    "soup1 = BeautifulSoup(source, 'lxml')\n",
    "\n",
    "#Confirmed, response object returns from BeautifulSoup. \n"
   ]
  },
  {
   "cell_type": "code",
   "execution_count": 6,
   "metadata": {
    "scrolled": true
   },
   "outputs": [
    {
     "name": "stdout",
     "output_type": "stream",
     "text": [
      "Tiger Sugar\n",
      "348A Yonge Street\n",
      "Phat Kaphrao\n",
      "3016B Bathurst Street\n",
      "Chick-fil-A\n",
      "709 Yonge Street\n",
      "Azkadenya - Mezza Diner\n",
      "235 Queen Street West\n",
      "EAT BKK\n",
      "580 Queen Street W\n",
      "Centrale Bergham\n",
      "482 Queen Street W\n",
      "Xing Fu Tang\n",
      "506 Yonge Street\n",
      "Bubble Lee\n",
      "469 Queen St W\n",
      "Sisters & Co\n",
      "887 Dundas Street West\n",
      "Vicino Italian Kitchen\n",
      "146 Sumach St\n"
     ]
    }
   ],
   "source": [
    "#CSV Writer (Needs to be before for loop...)\n",
    "#CSV Writer also has a line at the end of the for loop\n",
    "\n",
    "filename = \"HotAndNew.csv\"\n",
    "f = open(filename, 'w', encoding=\"utf-8\")\n",
    "\n",
    "headers = \"restaurant, location\" + '\\n'\n",
    "\n",
    "f.write(headers)\n",
    "\n",
    "#Find table with restaurant names and locations. \n",
    "# For loop for ALL restuarants on the list.\n",
    "#Indent pulls for for loop\n",
    "\n",
    "\n",
    "for div in soup1.find_all('div', class_='lemon--div__373c0__1mboc largerScrollablePhotos__373c0__3FEIJ arrange__373c0__UHqhV border-color--default__373c0__2oFDT'):\n",
    "    try:\n",
    "        #Take restaurant name\n",
    "        restaurant = div.a.text\n",
    "        print(restaurant)\n",
    "        #Take restaurant location\n",
    "        location = div.address.text\n",
    "        print(location)\n",
    "    #skip comment tables\n",
    "    except:\n",
    "        print('')\n",
    "    \n",
    "#Write to 2 columns\n",
    "\n",
    "\n",
    "    f.write(restaurant +','+ location+'\\n')\n",
    "    \n",
    "f.close()"
   ]
  },
  {
   "cell_type": "code",
   "execution_count": 7,
   "metadata": {},
   "outputs": [],
   "source": [
    "#Get source code from Page2\n",
    "source = requests.get('https://www.yelp.ca/search?attrs=NewBusiness&find_loc=Toronto%2C%20ON&start=10').text\n",
    "\n",
    "soup2 = BeautifulSoup(source, 'lxml')\n",
    "\n",
    "#Confirmed, response object returns from BeautifulSoup. \n"
   ]
  },
  {
   "cell_type": "code",
   "execution_count": 8,
   "metadata": {},
   "outputs": [
    {
     "name": "stdout",
     "output_type": "stream",
     "text": [
      "Nani’s Gelato\n",
      "\n",
      "Bluestone Lane\n",
      "2 Queen St E\n",
      "Buono\n",
      "354 Queen Street W\n",
      "The Alley\n",
      "382 Yonge Street\n",
      "Roselle West\n",
      "108 Dovercourt Rd\n",
      "TRU TEA 初茶\n",
      "25 Carlton Street\n",
      "Favorites\n",
      "141 Ossington Avenue\n",
      "Cass Avenue\n",
      "150 Eglinton Avenue E\n",
      "Bloom\n",
      "596 Yonge street\n",
      "Avelo\n",
      "51 St Nicholas Street\n"
     ]
    }
   ],
   "source": [
    "#CSV Writer (Needs to be before for loop...)\n",
    "#CSV Writer also has a line at the end of the for loop\n",
    "\n",
    "filename = \"HotAndNew.csv\"\n",
    "f = open(filename, 'a+', encoding=\"utf-8\")\n",
    "\n",
    "headers = \"restaurant, location\" + '\\n'\n",
    "\n",
    "f.write(headers)\n",
    "\n",
    "#Find table with restaurant names and locations. \n",
    "# For loop for ALL restuarants on the list.\n",
    "#Indent pulls for for loop\n",
    "\n",
    "\n",
    "for div in soup2.find_all('div', class_='lemon--div__373c0__1mboc largerScrollablePhotos__373c0__3FEIJ arrange__373c0__UHqhV border-color--default__373c0__2oFDT'):\n",
    "    try:\n",
    "        #Take restaurant name\n",
    "        restaurant = div.a.text\n",
    "        print(restaurant)\n",
    "        #Take restaurant location\n",
    "        location = div.address.text\n",
    "        print(location)\n",
    "    #skip comment tables\n",
    "    except:\n",
    "        print('')\n",
    "    \n",
    "#Write to 2 columns\n",
    "\n",
    "\n",
    "    f.write(restaurant +','+ location+'\\n')\n",
    "    \n",
    "f.close()"
   ]
  },
  {
   "cell_type": "code",
   "execution_count": 9,
   "metadata": {},
   "outputs": [],
   "source": [
    "#Get source code from Page3\n",
    "source = requests.get('https://www.yelp.ca/search?attrs=NewBusiness&find_loc=Toronto%2C%20ON&start=20').text\n",
    "\n",
    "soup3 = BeautifulSoup(source, 'lxml')\n",
    "\n",
    "#Confirmed, response object returns from BeautifulSoup. \n"
   ]
  },
  {
   "cell_type": "code",
   "execution_count": 10,
   "metadata": {},
   "outputs": [
    {
     "name": "stdout",
     "output_type": "stream",
     "text": [
      "RYUS Noodle Bar\n",
      "669 Queen Street W\n",
      "Boat King of Thai Noodles\n",
      "770 Bay Street\n",
      "BAO\n",
      "2-270 Spadina Avenue\n",
      "L’ARC EN CIEL\n",
      "376 College Street\n",
      "Mascot Brewery Patio\n",
      "220 KING STREET WEST\n",
      "Avling Kitchen & Brewery\n",
      "1042 Queen Street E\n",
      "Meet Fresh\n",
      "333 Spadina Avenue\n",
      "Tamasha\n",
      "1835 Yonge Street\n",
      "Hiwa\n",
      "64 Edward St\n",
      "Kung Fu Tea\n",
      "633 Bloor St W\n"
     ]
    }
   ],
   "source": [
    "#CSV Writer (Needs to be before for loop...)\n",
    "#CSV Writer also has a line at the end of the for loop\n",
    "\n",
    "filename = \"HotAndNew.csv\"\n",
    "f = open(filename, 'a+', encoding=\"utf-8\")\n",
    "\n",
    "headers = \"restaurant, location\" + '\\n'\n",
    "\n",
    "f.write(headers)\n",
    "\n",
    "#Find table with restaurant names and locations. \n",
    "# For loop for ALL restuarants on the list.\n",
    "#Indent pulls for for loop\n",
    "\n",
    "\n",
    "for div in soup3.find_all('div', class_='lemon--div__373c0__1mboc largerScrollablePhotos__373c0__3FEIJ arrange__373c0__UHqhV border-color--default__373c0__2oFDT'):\n",
    "    try:\n",
    "        #Take restaurant name\n",
    "        restaurant = div.a.text\n",
    "        print(restaurant)\n",
    "        #Take restaurant location\n",
    "        location = div.address.text\n",
    "        print(location)\n",
    "    #skip comment tables\n",
    "    except:\n",
    "        print('')\n",
    "    \n",
    "#Write to 2 columns\n",
    "\n",
    "\n",
    "    f.write(restaurant +','+ location+'\\n')\n",
    "    \n",
    "f.close()"
   ]
  },
  {
   "cell_type": "code",
   "execution_count": 11,
   "metadata": {},
   "outputs": [],
   "source": [
    "#Get source code from Page4\n",
    "source = requests.get('https://www.yelp.ca/search?attrs=NewBusiness&find_loc=Toronto%2C%20ON&start=30').text\n",
    "\n",
    "soup4 = BeautifulSoup(source, 'lxml')\n",
    "\n",
    "#Confirmed, response object returns from BeautifulSoup. "
   ]
  },
  {
   "cell_type": "code",
   "execution_count": 12,
   "metadata": {},
   "outputs": [
    {
     "name": "stdout",
     "output_type": "stream",
     "text": [
      "Li Bu Gou\n",
      "10 Willison Square\n",
      "Par-Tee Putt\n",
      "26 Duncan Street\n",
      "San Coffee Room\n",
      "135 Ossington Avenue\n",
      "Bar Poet\n",
      "1090 Queen Street W\n",
      "est Restaurant\n",
      "729 Queen Street E\n",
      "The Fourth Man in the Fire\n",
      "832 Dundas Street W\n",
      "Project Glyph\n",
      "40 Hayden Street\n",
      "Heart Clean Eats\n",
      "113 Fort York Boulevard\n",
      "Les epicuriens\n",
      "2109 1/2 Yonge Street\n",
      "The Sweet Oven\n",
      "1911 Queen Street E\n"
     ]
    }
   ],
   "source": [
    "#CSV Writer (Needs to be before for loop...)\n",
    "#CSV Writer also has a line at the end of the for loop\n",
    "\n",
    "filename = \"HotAndNew.csv\"\n",
    "f = open(filename, 'a+', encoding=\"utf-8\")\n",
    "\n",
    "headers = \"restaurant, location\" + '\\n'\n",
    "\n",
    "f.write(headers)\n",
    "\n",
    "#Find table with restaurant names and locations. \n",
    "# For loop for ALL restuarants on the list.\n",
    "#Indent pulls for for loop\n",
    "\n",
    "\n",
    "for div in soup4.find_all('div', class_='lemon--div__373c0__1mboc largerScrollablePhotos__373c0__3FEIJ arrange__373c0__UHqhV border-color--default__373c0__2oFDT'):\n",
    "    try:\n",
    "        #Take restaurant name\n",
    "        restaurant = div.a.text\n",
    "        print(restaurant)\n",
    "        #Take restaurant location\n",
    "        location = div.address.text\n",
    "        print(location)\n",
    "    #skip comment tables\n",
    "    except:\n",
    "        print('')\n",
    "    \n",
    "#Write to 2 columns\n",
    "\n",
    "\n",
    "    f.write(restaurant +','+ location+'\\n')\n",
    "    \n",
    "f.close()"
   ]
  },
  {
   "cell_type": "code",
   "execution_count": 13,
   "metadata": {},
   "outputs": [],
   "source": [
    "#Get source code from Page5\n",
    "source = requests.get('https://www.yelp.ca/search?attrs=NewBusiness&find_loc=Toronto%2C%20ON&start=40').text\n",
    "\n",
    "soup5 = BeautifulSoup(source, 'lxml')\n",
    "\n",
    "#Confirmed, response object returns from BeautifulSoup. "
   ]
  },
  {
   "cell_type": "code",
   "execution_count": 14,
   "metadata": {},
   "outputs": [
    {
     "name": "stdout",
     "output_type": "stream",
     "text": [
      "Gong Cha\n",
      "390 Queen Street West\n",
      "Xango\n",
      "461 King Street W\n",
      "La Diperie\n",
      "717 Bay St\n",
      "Best istanbul Restaurant\n",
      "235 Augusta Avenue\n",
      "Spicy Master\n",
      "915 Bay Street\n",
      "Ronin Izakaya\n",
      "39 Baldwin Street\n"
     ]
    }
   ],
   "source": [
    "#CSV Writer (Needs to be before for loop...)\n",
    "#CSV Writer also has a line at the end of the for loop\n",
    "\n",
    "filename = \"HotAndNew.csv\"\n",
    "f = open(filename, 'a+', encoding=\"utf-8\")\n",
    "\n",
    "headers = \"restaurant, location\" + '\\n'\n",
    "\n",
    "f.write(headers)\n",
    "\n",
    "#Find table with restaurant names and locations. \n",
    "# For loop for ALL restuarants on the list.\n",
    "#Indent pulls for for loop\n",
    "\n",
    "\n",
    "for div in soup5.find_all('div', class_='lemon--div__373c0__1mboc largerScrollablePhotos__373c0__3FEIJ arrange__373c0__UHqhV border-color--default__373c0__2oFDT'):\n",
    "    try:\n",
    "        #Take restaurant name\n",
    "        restaurant = div.a.text\n",
    "        print(restaurant)\n",
    "        #Take restaurant location\n",
    "        location = div.address.text\n",
    "        print(location)\n",
    "    #skip comment tables\n",
    "    except:\n",
    "        print('')\n",
    "    \n",
    "#Write to 2 columns\n",
    "\n",
    "\n",
    "    f.write(restaurant +','+ location+'\\n')\n",
    "    \n",
    "f.close()"
   ]
  },
  {
   "cell_type": "markdown",
   "metadata": {},
   "source": [
    "# Rando Code\n",
    "#Launch & Unitilize browsers\n",
    "from selenium import webdriver\n",
    "#Search for stuff\n",
    "from selenium.webdriver.common.by import By \n",
    "#Wait for page to load\n",
    "from selenium.webdriver.support.ui import WebDriverWait \n",
    "#Specify what we're looking for\n",
    "from selenium.webdriver.support import expected_conditions as EC \n",
    "#Handle timeouts\n",
    "from selenium.common.exceptions import TimeoutException\n",
    "\n",
    "pip3 install selenium"
   ]
  }
 ],
 "metadata": {
  "kernelspec": {
   "display_name": "Python 3",
   "language": "python",
   "name": "python3"
  },
  "language_info": {
   "codemirror_mode": {
    "name": "ipython",
    "version": 3
   },
   "file_extension": ".py",
   "mimetype": "text/x-python",
   "name": "python",
   "nbconvert_exporter": "python",
   "pygments_lexer": "ipython3",
   "version": "3.7.3"
  }
 },
 "nbformat": 4,
 "nbformat_minor": 2
}
